{
 "cells": [
  {
   "cell_type": "code",
   "execution_count": 1,
   "metadata": {
    "tags": []
   },
   "outputs": [
    {
     "output_type": "stream",
     "name": "stdout",
     "text": "hello\n"
    }
   ],
   "source": [
    "print('hello')"
   ]
  },
  {
   "cell_type": "code",
   "execution_count": 32,
   "metadata": {
    "tags": []
   },
   "outputs": [
    {
     "output_type": "stream",
     "name": "stdout",
     "text": "88234\n"
    }
   ],
   "source": [
    "# importing graph data\n",
    "def import_data(filename, skip_header = False, sep = ',', cols = 2):\n",
    "    rv = []\n",
    "    with open(filename, 'rt') as f:\n",
    "        for line in f:\n",
    "            if skip_header:\n",
    "                skip_header = False\n",
    "                continue\n",
    "            rv.append(line.strip().split(sep)[0:cols])\n",
    "            assert len(rv[len(rv) - 1]) == cols\n",
    "\n",
    "    return rv\n",
    "\n",
    "edges = import_data('./data/facebook_combined.txt', skip_header=False, sep=' ', cols=2)\n",
    "print(len(edges)) # result is 88234"
   ]
  },
  {
   "cell_type": "code",
   "execution_count": 36,
   "metadata": {
    "tags": []
   },
   "outputs": [
    {
     "output_type": "stream",
     "name": "stdout",
     "text": "289003\n"
    }
   ],
   "source": [
    "# importing GitHub graph data\n",
    "edges_github = import_data('./data/git_web_ml/musae_git_edges.csv', skip_header=True, sep=',', cols=2)\n",
    "print(len(edges_github))"
   ]
  },
  {
   "cell_type": "code",
   "execution_count": 37,
   "metadata": {
    "tags": []
   },
   "outputs": [
    {
     "output_type": "stream",
     "name": "stdout",
     "text": "35592\n"
    }
   ],
   "source": [
    "# import btc data\n",
    "edges_btc = import_data('./data/soc-sign-bitcoinotc.csv', skip_header=False, sep=',', cols=3)\n",
    "print(len(edges_btc))\n"
   ]
  }
 ],
 "metadata": {
  "language_info": {
   "codemirror_mode": {
    "name": "ipython",
    "version": 3
   },
   "file_extension": ".py",
   "mimetype": "text/x-python",
   "name": "python",
   "nbconvert_exporter": "python",
   "pygments_lexer": "ipython3",
   "version": "3.7.7-final"
  },
  "orig_nbformat": 2,
  "kernelspec": {
   "name": "python_defaultSpec_1594414546139",
   "display_name": "Python 3.7.7 64-bit ('.venv': venv)"
  }
 },
 "nbformat": 4,
 "nbformat_minor": 2
}