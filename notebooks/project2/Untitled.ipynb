{
 "cells": [
  {
   "cell_type": "code",
   "execution_count": 5,
   "metadata": {
    "tags": []
   },
   "outputs": [
    {
     "name": "stdout",
     "output_type": "stream",
     "text": [
      "1.01 µs ± 41.3 ns per loop (mean ± std. dev. of 7 runs, 1000000 loops each)\n",
      "22.7 µs ± 142 ns per loop (mean ± std. dev. of 7 runs, 10000 loops each)\n"
     ]
    }
   ],
   "source": [
    "a = [[1, 2], [1, 2], [1, 2], [2, 1]]\n",
    "\n",
    "def node_frequency(G, directed=False):\n",
    "    '''attempt with numpy'''\n",
    "    import numpy as np\n",
    "    if not directed:  # undirected\n",
    "        #  this flips the orig and concatenates it again\n",
    "        a_all = np.concatenate((G, np.flip(G, axis=1)))\n",
    "    else:\n",
    "        a_all = G\n",
    "\n",
    "    unique, counts = np.unique(np.array(a_all)[:, 1], return_counts=True)\n",
    "    frequencies = np.asarray((unique, counts)).T\n",
    "\n",
    "    return frequencies\n",
    "\n",
    "def node_freq(G, directed=False):\n",
    "    '''faster implementation'''\n",
    "    rv = {}\n",
    "    for r in G:\n",
    "        if not directed:\n",
    "            if not r[0] in rv:\n",
    "                rv[r[0]] = 1\n",
    "            else:\n",
    "                rv[r[0]] += 1\n",
    "            if not r[1] in rv:\n",
    "                rv[r[1]] = 1\n",
    "            else:\n",
    "                rv[r[1]] += 1\n",
    "        else:\n",
    "            if not r[1] in rv:\n",
    "                rv[r[1]] = 1\n",
    "            else:\n",
    "                rv[r[1]] += 1\n",
    "\n",
    "    #  return rv\n",
    "    return list(rv.items())  # list of tuples\n",
    "\n",
    "rv = node_freq(a)\n",
    "rv_directed = node_freq(a, directed=True)\n",
    "\n",
    "rv2 = node_frequency(a)\n",
    "%timeit rv2_directed = node_frequency(a, directed=True)\n",
    "\n"
   ]
  },
  {
   "cell_type": "code",
   "execution_count": null,
   "metadata": {},
   "outputs": [],
   "source": []
  }
 ],
 "metadata": {
  "kernelspec": {
   "display_name": "Python 3",
   "language": "python",
   "name": "python3"
  },
  "language_info": {
   "codemirror_mode": {
    "name": "ipython",
    "version": 3
   },
   "file_extension": ".py",
   "mimetype": "text/x-python",
   "name": "python",
   "nbconvert_exporter": "python",
   "pygments_lexer": "ipython3",
   "version": "3.7.7"
  }
 },
 "nbformat": 4,
 "nbformat_minor": 4
}
