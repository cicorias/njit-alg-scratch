{
 "cells": [
  {
   "cell_type": "code",
   "execution_count": null,
   "metadata": {},
   "outputs": [],
   "source": []
  },
  {
   "cell_type": "code",
   "execution_count": 113,
   "metadata": {},
   "outputs": [],
   "source": [
    "class myDictionary:\n",
    "    def __init__(self, n):      # n is the size of the dictionary\n",
    "        self.dict = [None]*n\n",
    "        self.n = n\n",
    "\n",
    "    def keySearch(self, key):\n",
    "\n",
    "        # calulate the address of key, based on the simple hashing function\n",
    "        addr = key % self.n\n",
    "        if self.dict[addr] == None:\n",
    "            return False\n",
    "\n",
    "        # if the list in addr is initialized, then do linear search in it, using Python's native search\n",
    "        if key in self.dict[addr]:\n",
    "            return True\n",
    "        else:\n",
    "            return False\n",
    "\n",
    "    def keyInsert(self, key):\n",
    "\n",
    "        addr = key % self.n\n",
    "\n",
    "        # no collision case\n",
    "        if self.dict[addr] == None:\n",
    "            self.dict[addr] = [key]    # initialize a list\n",
    "            return\n",
    "\n",
    "        # handling collision by appending list\n",
    "        # insert only if not inserted before\n",
    "        if not(key in self.dict):             # this does a linear search\n",
    "            self.dict[addr].append(key)\n",
    "\n",
    "    def keyDelete(self, key):\n",
    "        pass\n"
   ]
  },
  {
   "cell_type": "code",
   "execution_count": 114,
   "metadata": {},
   "outputs": [
    {
     "name": "stdout",
     "output_type": "stream",
     "text": [
      "[None, None, None, None, None, None, None, None, None, None, None]\n",
      "[None, None, None, [3], None, None, None, None, None, None, None]\n",
      "[None, None, None, [3, 14], None, None, None, None, None, None, None]\n",
      "[None, None, None, [3, 14], [125], None, None, None, None, None, None]\n"
     ]
    }
   ],
   "source": [
    "# and here is a demonstration of how this works\n",
    "\n",
    "md = myDictionary(11)\n",
    "print(md.dict)\n",
    "\n",
    "md.keyInsert(3)\n",
    "print(md.dict)\n",
    "\n",
    "md.keyInsert(14)  # first collision\n",
    "print(md.dict)\n",
    "\n",
    "md.keyInsert(125)\n",
    "print(md.dict)"
   ]
  },
  {
   "cell_type": "code",
   "execution_count": null,
   "metadata": {},
   "outputs": [],
   "source": []
  }
 ],
 "metadata": {
  "kernelspec": {
   "display_name": "Python 3",
   "language": "python",
   "name": "python3"
  },
  "language_info": {
   "codemirror_mode": {
    "name": "ipython",
    "version": 3
   },
   "file_extension": ".py",
   "mimetype": "text/x-python",
   "name": "python",
   "nbconvert_exporter": "python",
   "pygments_lexer": "ipython3",
   "version": "3.7.6"
  }
 },
 "nbformat": 4,
 "nbformat_minor": 4
}
