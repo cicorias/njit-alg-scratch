{
 "cells": [
  {
   "cell_type": "code",
   "execution_count": 108,
   "metadata": {
    "colab": {},
    "colab_type": "code",
    "id": "8odkb-ozWf-T"
   },
   "outputs": [],
   "source": [
    "# input: An array A\n",
    "# output: The sum S of the maximum sum contiguous subarray in A\n",
    "\n",
    "# We assumed we have a function that finds the maximum sum subarray \n",
    "# which contains the middle-point n//2. Here I give a placeholder. \n",
    "\n",
    "\n",
    "# this ALWAYS has to return the value at n//2 ....\n",
    "def maxSumMiddle(A):\n",
    "    n = len(A)\n",
    "    i = n//2\n",
    "    j = n//2+1\n",
    "\n",
    "    max_right = []\n",
    "    max_left  = []\n",
    "    ## \n",
    "    for l in range(i-1, -1, -1):\n",
    "        #print('left: {}  - sum: {}'.format(A[l:i], sum(A[l:i])))\n",
    "        if sum(A[l:i]) > sum(max_right):\n",
    "            max_right = A[l:i]\n",
    "        \n",
    "        \n",
    "    for r in range(j-1, n):\n",
    "        #print('right: {}  - sum: {}'.format(A[j-1:r+1], sum(A[j-1:r+1])))\n",
    "        if sum(A[j-1:r+i]) > sum(max_left):\n",
    "            max_left = A[j-1:r+i]\n",
    "    \n",
    "\n",
    "    if sum(max_left) > sum(max_right):\n",
    "        return max_left\n",
    "    \n",
    "    return max_right\n",
    "  \n",
    "# using this we can write the following function\n",
    "\n",
    "def maxSumSubarray(A):\n",
    "  n = len(A)\n",
    "\n",
    "  # base case\n",
    "  if n==1:\n",
    "    return 0,0, A[0]\n",
    "  else:\n",
    "\n",
    "    # max sum subarray on left side of A\n",
    "    S_l = maxSumSubarray(A[0:n//2])\n",
    "\n",
    "    # max sum subarray on right side of A\n",
    "    S_r = maxSumSubarray(A[n//2:n])\n",
    "\n",
    "    # middle (conquer)\n",
    "    S_m = maxSumMiddle(A)\n",
    "\n",
    "    # Note about question asked in lecture:\n",
    "    # It is possible that the middle subarray overlaps \n",
    "    #   with ther other two subarrays\n",
    "\n",
    "    if sum(S_l) > sum(S_r) and sum(S_l) > sum(S_m):\n",
    "      return S_l\n",
    "    elif sum(S_r) > sum(S_l) and sum(S_r) > sum(S_m):\n",
    "      return S_r\n",
    "    else:\n",
    "      return S_m\n",
    "\n"
   ]
  },
  {
   "cell_type": "code",
   "execution_count": 112,
   "metadata": {},
   "outputs": [
    {
     "name": "stdout",
     "output_type": "stream",
     "text": [
      "arr: [1, 4, 7, 8, 9, 4, 4, 6, 7, 8].   result 1: [1, 4, 7, 8, 9]\n",
      "arr: [1, -4, 7, 8, 9, 4, 4, 6, 7, -8].   result 2: [7, 8, 9]\n"
     ]
    }
   ],
   "source": [
    "a = [1,4,7,8,9,4,4,6,7, 8]\n",
    "print('arr: {}.   result 1: {}'.format(a,maxSumSubarray(a)))\n",
    "\n",
    "d = [1,-4,7,8,9, 4,4,6,7,-8]\n",
    "print('arr: {}.   result 2: {}'.format(d,maxSumSubarray(d)))\n"
   ]
  },
  {
   "cell_type": "code",
   "execution_count": 110,
   "metadata": {},
   "outputs": [
    {
     "data": {
      "text/plain": [
       "[7, 8, 9]"
      ]
     },
     "execution_count": 110,
     "metadata": {},
     "output_type": "execute_result"
    }
   ],
   "source": []
  },
  {
   "cell_type": "code",
   "execution_count": 6,
   "metadata": {},
   "outputs": [
    {
     "data": {
      "text/plain": [
       "23"
      ]
     },
     "execution_count": 6,
     "metadata": {},
     "output_type": "execute_result"
    }
   ],
   "source": [
    "sum(a)"
   ]
  },
  {
   "cell_type": "code",
   "execution_count": null,
   "metadata": {},
   "outputs": [],
   "source": []
  }
 ],
 "metadata": {
  "kernelspec": {
   "display_name": "Python 3",
   "language": "python",
   "name": "python3"
  },
  "language_info": {
   "codemirror_mode": {
    "name": "ipython",
    "version": 3
   },
   "file_extension": ".py",
   "mimetype": "text/x-python",
   "name": "python",
   "nbconvert_exporter": "python",
   "pygments_lexer": "ipython3",
   "version": "3.7.6"
  }
 },
 "nbformat": 4,
 "nbformat_minor": 4
}
