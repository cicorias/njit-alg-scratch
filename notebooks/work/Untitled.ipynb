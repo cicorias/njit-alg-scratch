{
 "cells": [
  {
   "cell_type": "code",
   "execution_count": 138,
   "metadata": {
    "colab": {},
    "colab_type": "code",
    "id": "2oD-Rmw_PXfq"
   },
   "outputs": [],
   "source": [
    "\n",
    "\n",
    "\n",
    "G = [ [(0,1,1), (0,2,5), (0,3,11), (0,4,8)], [(1,0,1), (1,2,2), (1,3,5), (1,4,9)], [(2,0,5), (2,1,2), (2,3,1),(2,4,6)], [(3,0,11),(3,1,5),(3,2,1),(3,4,8)], [(4,0,8), (4,1,9),(4,2,6),(4,3,8)]]\n",
    "\n",
    "\n"
   ]
  },
  {
   "cell_type": "code",
   "execution_count": 139,
   "metadata": {},
   "outputs": [],
   "source": [
    "\n",
    "\n",
    "def sum_target_weights(wg):\n",
    "    targets = dict()\n",
    "    \n",
    "    for e in wg:\n",
    "        t = e[1]\n",
    "        w = e[2]\n",
    "        if t in targets:\n",
    "            targets[t] += w\n",
    "        else:\n",
    "            targets[t] = w\n",
    "            \n",
    "    return targets"
   ]
  },
  {
   "cell_type": "code",
   "execution_count": 140,
   "metadata": {},
   "outputs": [
    {
     "data": {
      "text/plain": [
       "{(0, 2, 5): (0, 3, 11),\n",
       " (1, 2, 2): (1, 3, 5),\n",
       " (2, 1, 2): (2, 3, 1),\n",
       " (3, 1, 5): (3, 2, 1),\n",
       " (4, 1, 9): (4, 2, 6)}"
      ]
     },
     "execution_count": 140,
     "metadata": {},
     "output_type": "execute_result"
    }
   ],
   "source": [
    "sum_target_weights(G)"
   ]
  },
  {
   "cell_type": "code",
   "execution_count": null,
   "metadata": {},
   "outputs": [],
   "source": []
  }
 ],
 "metadata": {
  "kernelspec": {
   "display_name": "Python 3",
   "language": "python",
   "name": "python3"
  },
  "language_info": {
   "codemirror_mode": {
    "name": "ipython",
    "version": 3
   },
   "file_extension": ".py",
   "mimetype": "text/x-python",
   "name": "python",
   "nbconvert_exporter": "python",
   "pygments_lexer": "ipython3",
   "version": "3.7.6"
  }
 },
 "nbformat": 4,
 "nbformat_minor": 4
}
