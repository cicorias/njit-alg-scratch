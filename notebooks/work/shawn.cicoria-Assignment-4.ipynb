{
 "cells": [
  {
   "cell_type": "markdown",
   "metadata": {
    "colab_type": "text",
    "id": "6-w6JdXpymm5"
   },
   "source": [
    "# **Assignment 4** #\n",
    "\n",
    "**Delivery Instructions**:  Similar to previous assignments. See this [**Canvas announcement**](https://njit.instructure.com/courses/11882/discussion_topics/42914) for more details. \n",
    "\n"
   ]
  },
  {
   "cell_type": "markdown",
   "metadata": {
    "colab_type": "text",
    "id": "-d604ucx7LtF"
   },
   "source": [
    "### **Q1. Complete maxSumSubarray**  ###\n",
    "\n",
    "In lecture-4 notebook the function *maxSumMiddle* is specified but not implemented. Give a plain-english description of a linear-time algorithm for finding the maximum sum subarray that contains the middle point of the array. The, on a code cell give an implementation. Make sure that you check that it works correctly. \n",
    "\n",
    "**Hint:** Consider splitting the problem into two subproblems, which however are not solved recursively\n",
    "\n",
    "\n",
    "\n",
    "\n",
    "\n",
    "\n",
    "\n",
    "\n",
    "\n"
   ]
  },
  {
   "cell_type": "markdown",
   "metadata": {
    "colab_type": "text",
    "id": "ATKnF7dIoAH3"
   },
   "source": [
    "your algorithm description goes here\n",
    "\n",
    "### description -\n",
    "working from an inside out of the main array, compare the Right vs Left moving in the direction away from the center iteratively --- capturing the maximum sum of the array at each step, then preserving that lilst(range) for the return value of each R and L, then compare the two and return the max of the two."
   ]
  },
  {
   "cell_type": "code",
   "execution_count": 1,
   "metadata": {
    "colab": {},
    "colab_type": "code",
    "id": "5UMkl0gAtuU0",
    "jupyter": {
     "source_hidden": true
    }
   },
   "outputs": [],
   "source": [
    "# your implementation goes here"
   ]
  },
  {
   "cell_type": "code",
   "execution_count": 2,
   "metadata": {
    "colab": {},
    "colab_type": "code",
    "id": "8odkb-ozWf-T"
   },
   "outputs": [],
   "source": [
    "# input: An array A\n",
    "# output: The sum S of the maximum sum contiguous subarray in A\n",
    "\n",
    "# We assumed we have a function that finds the maximum sum subarray \n",
    "# which contains the middle-point n//2. Here I give a placeholder. \n",
    "\n",
    "\n",
    "# this ALWAYS has to return the value at n//2 ....??\n",
    "\n",
    "## NO, discussion indicates split at best 1/2, no overlaps\n",
    "def maxSumMiddle(A):\n",
    "    n = len(A)\n",
    "    i = n//2\n",
    "    j = n//2+1\n",
    "\n",
    "    max_right = []\n",
    "    max_left  = []\n",
    "    ## \n",
    "    for l in range(i-1, -1, -1):\n",
    "        #print('left: {}  - sum: {}'.format(A[l:i], sum(A[l:i])))\n",
    "        if sum(A[l:i]) > sum(max_right):\n",
    "            max_right = A[l:i]\n",
    "        \n",
    "        \n",
    "    for r in range(j-1, n):\n",
    "        #print('right: {}  - sum: {}'.format(A[j-1:r+1], sum(A[j-1:r+1])))\n",
    "        if sum(A[j-1:r+i]) > sum(max_left):\n",
    "            max_left = A[j-1:r+i]\n",
    "    \n",
    "\n",
    "    if sum(max_left) > sum(max_right):\n",
    "        return max_left\n",
    "    \n",
    "    return max_right\n",
    "  \n",
    "# using this we can write the following function\n",
    "\n",
    "def maxSumSubarray(A):\n",
    "  n = len(A)\n",
    "\n",
    "  # base case\n",
    "  if n==1:\n",
    "    return 0,0, A[0]\n",
    "  else:\n",
    "\n",
    "    # max sum subarray on left side of A\n",
    "    S_l = maxSumSubarray(A[0:n//2])\n",
    "\n",
    "    # max sum subarray on right side of A\n",
    "    S_r = maxSumSubarray(A[n//2:n])\n",
    "\n",
    "    # middle (conquer)\n",
    "    S_m = maxSumMiddle(A)\n",
    "\n",
    "    # Note about question asked in lecture:\n",
    "    # It is possible that the middle subarray overlaps \n",
    "    #   with ther other two subarrays\n",
    "\n",
    "    if sum(S_l) > sum(S_r) and sum(S_l) > sum(S_m):\n",
    "      return S_l\n",
    "    elif sum(S_r) > sum(S_l) and sum(S_r) > sum(S_m):\n",
    "      return S_r\n",
    "    else:\n",
    "      return S_m\n",
    "\n"
   ]
  },
  {
   "cell_type": "code",
   "execution_count": 3,
   "metadata": {},
   "outputs": [
    {
     "name": "stdout",
     "output_type": "stream",
     "text": [
      "arr: [1, 4, 7, 8, 9, 4, 4, 6, 7, 8].   result 1: [1, 4, 7, 8, 9]\n",
      "arr: [1, -4, 7, 8, 9, 4, 4, 6, 7, -8].   result 2: [7, 8, 9]\n"
     ]
    }
   ],
   "source": [
    "a = [1,4,7,8,9,4,4,6,7, 8]\n",
    "print('arr: {}.   result 1: {}'.format(a,maxSumSubarray(a)))\n",
    "\n",
    "d = [1,-4,7,8,9, 4,4,6,7,-8]\n",
    "print('arr: {}.   result 2: {}'.format(d,maxSumSubarray(d)))\n"
   ]
  },
  {
   "cell_type": "markdown",
   "metadata": {
    "colab_type": "text",
    "id": "vEwoQMZ8wJs_"
   },
   "source": [
    "### **Q2. Complete and fancify myHash**\n",
    "\n",
    "**(a)** The implementation of *myHash* class in the lecture notes omits the operation of key deletion. In a code cell below, provide an implementation. In that you can use the *del* operation provided by Python. \n",
    "\n",
    "**(b)** The implementation of *myHash* uses a simple hashing function, which remains the same for every new instance of a dictionary. We discussed though that it makes sense to use a **random** hashing function, in order to beat systematic patterns. Here you are asked to substitute with another fancier hashing function $H(m)$ , which has better properties with respect to real data. In particular, let:\n",
    "\n",
    "$ H(m) = m$^$ r~mod~n$\n",
    "\n",
    "where $r$ is a random integer, $~^~$ is the bit-wise XOR operation (which you can lookup online). \n",
    "\n",
    "Include this $H(m)$ in the code of myHash. \n",
    "\n",
    "**(c)** Give a sequence of 5 inserts that would cause all inserts to collide under the standard hashing function. How many collisions do you get for the first random number r you tried for the fancy function. \n",
    "\n",
    "**(d)** For the same $r$ as above, find 6 inserts that will cause 6 collisions, using trial and error with the code. Do you see an pattern in these numbers?\n"
   ]
  },
  {
   "cell_type": "code",
   "execution_count": 4,
   "metadata": {
    "colab": {},
    "colab_type": "code",
    "id": "0--4kdGxwIgl"
   },
   "outputs": [
    {
     "name": "stdout",
     "output_type": "stream",
     "text": [
      "\n",
      "using randint uppper of: None\n",
      "using r of 10 for size: 11\n",
      "\t ---- \n",
      "\t[None, None, None, None, [5, 14, 16, 47, 49, 58, 76, 86], None, None, None, None, None, None]\n"
     ]
    }
   ],
   "source": [
    "# your code goes here\n",
    "# part (a)\n",
    "# part (b) with new hash: H(m) = m^r % n\n",
    "\n",
    "import random\n",
    "class myDictionary:\n",
    "    def __init__(self, n, max_bound = None):      # n is the size of the dictionary\n",
    "        self.dict = [None]*n\n",
    "        self.n = n\n",
    "        random.seed(42)\n",
    "        if max_bound is None:\n",
    "            max_bound = n\n",
    "        self.r = random.randint(0, max_bound) # no real need to be large\n",
    "        print('using r of {} for size: {}'.format(self.r, self.n))\n",
    "        #is there a magic #??? tried several but no pattern I could find.\n",
    "\n",
    "    def keySearch(self, key):\n",
    "\n",
    "        # calulate the address of key, based on the simple hashing function\n",
    "        addr = self.key_hash(key)\n",
    "        \n",
    "        if self.dict[addr] is None:\n",
    "            return False\n",
    "\n",
    "        # if the list in addr is initialized, then do linear search in it,\n",
    "        # #using Python's native search\n",
    "        if key in self.dict[addr]:\n",
    "            return True\n",
    "        else:\n",
    "            return False\n",
    "\n",
    "    def keyInsert(self, key):\n",
    "\n",
    "        addr = self.key_hash(key)\n",
    "\n",
    "        # no collision case\n",
    "        if self.dict[addr] is None:\n",
    "            self.dict[addr] = [key]    # initialize a list\n",
    "            return\n",
    "\n",
    "        # handling collision by appending list\n",
    "        # insert only if not inserted before\n",
    "        if not(key in self.dict):             # this does a linear search\n",
    "            #print('collision on key1: {}  key2: {}  with hash: {}'\n",
    "            #    .format(self.dict[addr], key, addr))\n",
    "            self.dict[addr].append(key)\n",
    "\n",
    "    def keyDelete(self, key):\n",
    "        \"\"\"delete check for list in dict\"\"\"\n",
    "        \"\"\"Part (a)\"\"\"\n",
    "        addr = self.key_hash(key)\n",
    "\n",
    "        s = self.dict[addr]\n",
    "        if s is not None and len(s) == 1:\n",
    "            self.dict[addr] = None\n",
    "            \n",
    "        elif s is not None and len(s) > 1:\n",
    "            for i in range(len(s)):\n",
    "                if key == s[i]:\n",
    "                    s[i] = s[len(s) - 1] #swap with end\n",
    "                    self.dict[addr] = s[0:len(s) - 1] #set to start minus end\n",
    "                    \n",
    "    def key_hash(self, key):\n",
    "        \"\"\"part (c) \"\"\"\n",
    "        \"\"\"make this a fn easier to refactor\"\"\"\n",
    "        #return key % self.n # original hash.\n",
    "        # need parenthessis due to operator precedence.\n",
    "        #resulted in 2 collisions when randint upper boud = 13\n",
    "        # 1 collision when randint upper bound  = n * max_bound\n",
    "        return (key ^ self.r) % self.n\n",
    "            \n",
    "\n",
    "        \n",
    "        \n",
    "        \n",
    "        \n",
    "def test_inserts(upper_bound):\n",
    "    \"\"\"this is collision on basic first hash of % 11\"\"\"\n",
    "    print('\\nusing randint uppper of: {}'.format(upper_bound))\n",
    "    md = myDictionary(11, max_bound=upper_bound)\n",
    "    md.keyInsert(2)\n",
    "    md.keyInsert(3)\n",
    "    md.keyInsert(14)  # first collision\n",
    "    md.keyInsert(25)\n",
    "    md.keyInsert(36)\n",
    "    md.keyInsert(47) # 5th collision\n",
    "    print('\\t ---- \\n\\t{}'.format(md.dict))\n",
    "    md.keyDelete(25)\n",
    "    print('\\tdeleted 25: {}'.format(md.dict))\n",
    "    md.keyDelete(2)\n",
    "    print('\\tdeleted 2: {}'.format(md.dict))\n",
    "    \n",
    "\n",
    "def test_inserts2(upper_bound):      \n",
    "    print('\\nusing randint uppper of: {}'.format(upper_bound))\n",
    "    md = myDictionary(11, max_bound=upper_bound)\n",
    "    \n",
    "    for k in [5, 14, 16, 47, 49, 58, 76, 86]: # [14, 47, 49, 58, 76, 86, 5, 14, 16]:\n",
    "        md.keyInsert(k)\n",
    "    #md.keyInsert(14)\n",
    "    #md.keyInsert(47)\n",
    "    #md.keyInsert(49)\n",
    "    #md.keyInsert(58)\n",
    "    #md.keyInsert(76)\n",
    "    #md.keyInsert(86)\n",
    "    #for i in range():\n",
    "    #    md.keyInsert(i)\n",
    "        \n",
    "    print('\\t ---- \\n\\t{}'.format(md.dict))\n",
    "\n",
    "    \n",
    "\n",
    "    \n",
    "#test_inserts(None)\n",
    "#test_inserts(13)\n",
    "#test_inserts(23)\n",
    "#test_inserts(3000)\n",
    "#test_inserts(23)\n",
    "#test_inserts(97)\n",
    "#test_inserts(4057)\n",
    "\n",
    "\n",
    "test_inserts2(None)\n",
    "\n"
   ]
  },
  {
   "cell_type": "code",
   "execution_count": 5,
   "metadata": {},
   "outputs": [
    {
     "name": "stdout",
     "output_type": "stream",
     "text": [
      "11 in bits: 1011\n",
      "10 in bits: 1010\n",
      "10 ^ 11 in bits: 1\n",
      "1111\n",
      "100\n",
      "11010\n",
      "100101\n",
      "111011\n",
      "110000\n",
      "1000110\n",
      "1011100\n"
     ]
    }
   ],
   "source": [
    "import matplotlib.pyplot as plt\n",
    "import math\n",
    "\n",
    "c = [5, 14, 16, 47, 49, 58, 76, 86]\n",
    "\n",
    "n = 11\n",
    "r = 10\n",
    "p = []\n",
    "l = 0\n",
    "print('11 in bits: {0:b}'.format(11))\n",
    "print('10 in bits: {0:b}'.format(10))\n",
    "print('10 ^ 11 in bits: {0:b}'.format(10 ^ 11))\n",
    "for i in c:\n",
    "    #tried a whole bunch of log trials\n",
    "    p.append(math.log(r * 10, i))\n",
    "    p.append(math.log(r * 10, i))\n",
    "    #print(i - l)\n",
    "    #print('{0:b}'.format(i))\n",
    "    #print('{0:b}'.format(  (i^r ) % n))  #all hash to 100\n",
    "    print('{0:b}'.format(  (i^r )))\n",
    "    l = i\n",
    "    \n",
    "        \n",
    "\n",
    "#print(p)\n",
    "#\n",
    "#plt.plot([5, 14, 16, 47, 49, 58, 76, 86])\n",
    "\n",
    "\n",
    "## i could not identify a pattern in the collision numbers"
   ]
  },
  {
   "cell_type": "markdown",
   "metadata": {
    "colab_type": "text",
    "id": "gWtNntjZJJxO"
   },
   "source": [
    "### **Q3. Computing total incoming weights on directed graphs**\n",
    "\n",
    "Recall the graph representation from lecture 3 - a specific example is given in the following cell. Suppose that $G$ encodes a directed (Twitter-like) graph where $(i,j,w)$ means that there exists an edge from node $i$ to node $j$, and it has weight $w$. We say that $(i,j,w)$ is incoming to node $j$. Implement an algorithm that computes the sum of the weights of all incoming edges, for every node $j$. \n",
    "\n",
    "\n",
    "Note: In your implementation you are not allowed to use dictionaries. \n",
    "\n",
    "\n",
    "\n",
    "\n"
   ]
  },
  {
   "cell_type": "code",
   "execution_count": 6,
   "metadata": {
    "colab": {},
    "colab_type": "code",
    "id": "2oD-Rmw_PXfq"
   },
   "outputs": [],
   "source": [
    "G = [ [(0,1,1), (0,2,5), (0,3,11), (0,4,8)], [(1,0,1), (1,2,2), (1,3,5), (1,4,9)], [(2,0,5), (2,1,2), (2,3,1),(2,4,6)], [(3,0,11),(3,1,5),(3,2,1),(3,4,8)], [(4,0,8), (4,1,9),(4,2,6),(4,3,8)]]"
   ]
  },
  {
   "cell_type": "markdown",
   "metadata": {
    "colab_type": "text",
    "id": "Sn5GvWFsA2uv"
   },
   "source": [
    "*your algorithm description goes here*\n",
    "\n",
    "using an incident matrix, first initilize it to all 0's,\n",
    "\n",
    "then loop through each item, keepping track of the **Target** weight as the incident value.\n",
    "\n",
    "This creates a `n x n` matrix. as `Target x Sender`.\n",
    "\n",
    "then initialize a output Array, again loop through the incident matrix to sum up each of the values for the weights.\n",
    "\n",
    "\n",
    "I also added a version using `dict()` so I could verify."
   ]
  },
  {
   "cell_type": "code",
   "execution_count": 7,
   "metadata": {
    "colab": {},
    "colab_type": "code",
    "id": "Vl_FTA95A1J7"
   },
   "outputs": [
    {
     "name": "stdout",
     "output_type": "stream",
     "text": [
      "using dict: [(0, 25), (1, 17), (2, 14), (3, 25), (4, 31)]\n",
      "no dict: [25, 17, 14, 25, 31]\n"
     ]
    }
   ],
   "source": [
    "# your code goes here\n",
    "\n",
    "## I'm assumoing that I could potentially use a varation of the code\n",
    "## presented in Lecture 3 for def Prim_MST(G): --\n",
    "## however, it wasn't clear from the instructions the expectations.\n",
    "\n",
    "# this is essentially B[A[i]] but as a matrix of n x n\n",
    "def sum_target_weights(wg):\n",
    "    # build a zero start incident matrix\n",
    "    incident_matrix = [[0 for v in range(len(G))] for s in range(\n",
    "        len(G))]  # [[0 for v in s] for s in wg]\n",
    "\n",
    "    for i, r in enumerate(wg):\n",
    "        for c in r:\n",
    "            incident_matrix[c[1]][i] += c[2]  # incident_matrix[i][c[1]] + c[2]\n",
    "\n",
    "    rv = [0] * len(wg)\n",
    "    for i in range(len(incident_matrix)):\n",
    "        for j in range(len(incident_matrix[i])):\n",
    "            # print(incident_matrix[i][j])\n",
    "            rv[j] += incident_matrix[i][j]\n",
    "\n",
    "    return rv  # incident_matrix\n",
    "\n",
    "\n",
    "def sum_target_weights_using_dict(wg):\n",
    "    targets = dict()\n",
    "\n",
    "    for s in wg:\n",
    "        for v in s:\n",
    "            t = v[1]\n",
    "            w = v[2]\n",
    "            if t in targets:\n",
    "                targets[t] += w\n",
    "            else:\n",
    "                targets[t] = w\n",
    "\n",
    "    return targets\n",
    "\n",
    "\n",
    "G = [[(0, 1, 1), (0, 2, 5), (0, 3, 11), (0, 4, 8)],\n",
    "     [(1, 0, 1), (1, 2, 2), (1, 3, 5), (1, 4, 9)],\n",
    "     [(2, 0, 5), (2, 1, 2), (2, 3, 1), (2, 4, 6)],\n",
    "     [(3, 0, 11), (3, 1, 5), (3, 2, 1), (3, 4, 8)],\n",
    "     [(4, 0, 8), (4, 1, 9), (4, 2, 6), (4, 3, 8)]]\n",
    "\n",
    "\n",
    "print('using dict: {}'.format(sorted(sum_target_weights_using_dict(G).items())))\n",
    "print('no dict: {}'.format(sum_target_weights(G)))\n",
    "\n",
    "\n"
   ]
  },
  {
   "cell_type": "markdown",
   "metadata": {
    "colab_type": "text",
    "id": "SVvBSS47ElLP"
   },
   "source": [
    "### **Q4. Converting an array-based heap to a tree-based heap**\n",
    "\n",
    "We saw that a heap can be encoded either as an array, or as a full binary tree. For this question, you will write a function that takes the array representation of a heap and outputs its binary tree representation. More specifically, you should write a function with the specifications given in the cell below. \n",
    "\n",
    "**Hint:** Use a recursive algorithm. Q4 from assignment 3 should be useful. \n",
    "\n",
    "\n",
    "\n"
   ]
  },
  {
   "cell_type": "code",
   "execution_count": 8,
   "metadata": {
    "colab": {},
    "colab_type": "code",
    "id": "WmJpG_qHDbM5"
   },
   "outputs": [
    {
     "name": "stdout",
     "output_type": "stream",
     "text": [
      "[6, 7, 12, 10, 15, 17]\n",
      "Node: 12  lchild: 15   rchild: 10\n",
      "Node: 15  lchild: 17   rchild: -\n",
      "Node: 17  lchild: -   rchild: -\n",
      "Node: 10  lchild: -   rchild: -\n"
     ]
    }
   ],
   "source": [
    "# def arrayToTree(A, j):\n",
    "#\n",
    "# input: array A representing a heap, an index j in [0:len(A)]\n",
    "# output: a Node object storing the heap with root j in the array A\n",
    "#       : Node should belong to the class we defined in lecture 3\n",
    "         \n",
    "\n",
    "import random\n",
    "import heapq\n",
    "\n",
    "random.seed(42)\n",
    "\n",
    "class Node:\n",
    "    def __init__(self, key):\n",
    "        self.key = key\n",
    "        self.lchild = None\n",
    "        self.rchild = None\n",
    "\n",
    "inbound_list = [6, 7, 12, 10, 15, 17]\n",
    "\n",
    "heapq.heapify(inbound_list)\n",
    "# Now we have a min Heap --- \n",
    "print(inbound_list)\n",
    "\n",
    "\n",
    "\n",
    "\n",
    "def arrayToTree(A, j = 0):\n",
    "    root = None  # insert(None, inbound_list[0])\n",
    "    for i in A[j:]:\n",
    "        root = insert(root, i)\n",
    "        \n",
    "    return root\n",
    "    \n",
    "\n",
    "    \n",
    "def insert(node, key):\n",
    "    if node is None:\n",
    "        node = Node(key)\n",
    "    else:\n",
    "        if key >= node.key:\n",
    "            node.lchild = insert(node.lchild, key)\n",
    "        else:\n",
    "            node.rchild = insert(node.rchild, key)\n",
    "\n",
    "    return node\n",
    "    \n",
    "def print_nodes(n):\n",
    "    print('Node: {}  lchild: {}   rchild: {}'.format(n.key, \n",
    "                            n.lchild.key if n.lchild is not None else '-',\n",
    "                            n.rchild.key if n.rchild is not None else '-'))\n",
    "    if n.lchild is not None:\n",
    "        print_nodes(n.lchild)\n",
    "    if n.rchild is not None:\n",
    "        print_nodes(n.rchild)\n",
    "\n",
    "\n",
    "\n",
    "\n",
    "print_nodes( arrayToTree( inbound_list, 2))"
   ]
  },
  {
   "cell_type": "code",
   "execution_count": null,
   "metadata": {},
   "outputs": [],
   "source": []
  }
 ],
 "metadata": {
  "colab": {
   "authorship_tag": "ABX9TyO/AJRcAd+kk77ZbujdN8Pm",
   "collapsed_sections": [],
   "name": "Assignment-4.ipynb",
   "provenance": [
    {
     "file_id": "1PKLDRYCDM9OZyJMaAP82Jn-LNL_eGpqu",
     "timestamp": 1592158192728
    },
    {
     "file_id": "1FMjt0_-2PbYGxgaeOBvWJ8l2l2zlHd_m",
     "timestamp": 1591462638135
    },
    {
     "file_id": "1Ya8ehouTMbWIRYQ2-Vv5WX8Q6d09hIVn",
     "timestamp": 1590948359045
    }
   ]
  },
  "kernelspec": {
   "display_name": "Python 3",
   "language": "python",
   "name": "python3"
  },
  "language_info": {
   "codemirror_mode": {
    "name": "ipython",
    "version": 3
   },
   "file_extension": ".py",
   "mimetype": "text/x-python",
   "name": "python",
   "nbconvert_exporter": "python",
   "pygments_lexer": "ipython3",
   "version": "3.7.6"
  }
 },
 "nbformat": 4,
 "nbformat_minor": 4
}
