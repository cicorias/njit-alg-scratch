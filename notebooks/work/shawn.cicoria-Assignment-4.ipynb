{
 "cells": [
  {
   "cell_type": "markdown",
   "metadata": {
    "colab_type": "text",
    "id": "6-w6JdXpymm5"
   },
   "source": [
    "# **Assignment 4** #\n",
    "\n",
    "**Delivery Instructions**:  Similar to previous assignments. See this [**Canvas announcement**](https://njit.instructure.com/courses/11882/discussion_topics/42914) for more details. \n",
    "\n"
   ]
  },
  {
   "cell_type": "markdown",
   "metadata": {
    "colab_type": "text",
    "id": "-d604ucx7LtF"
   },
   "source": [
    "### **Q1. Complete maxSumSubarray**  ###\n",
    "\n",
    "In lecture-4 notebook the function *maxSumMiddle* is specified but not implemented. Give a plain-english description of a linear-time algorithm for finding the maximum sum subarray that contains the middle point of the array. The, on a code cell give an implementation. Make sure that you check that it works correctly. \n",
    "\n",
    "**Hint:** Consider splitting the problem into two subproblems, which however are not solved recursively\n",
    "\n",
    "\n",
    "\n",
    "\n",
    "\n",
    "\n",
    "\n",
    "\n",
    "\n"
   ]
  },
  {
   "cell_type": "markdown",
   "metadata": {
    "colab_type": "text",
    "id": "ATKnF7dIoAH3"
   },
   "source": [
    "your algorithm description goes here"
   ]
  },
  {
   "cell_type": "code",
   "execution_count": null,
   "metadata": {
    "colab": {},
    "colab_type": "code",
    "id": "5UMkl0gAtuU0"
   },
   "outputs": [],
   "source": [
    "# your implementation goes here"
   ]
  },
  {
   "cell_type": "markdown",
   "metadata": {
    "colab_type": "text",
    "id": "vEwoQMZ8wJs_"
   },
   "source": [
    "### **Q2. Complete and fancify myHeap**\n",
    "\n",
    "**(a)** The implementation of *myHeap* class in the lecture notes omits the operation of key deletion. In a code cell below, provide an implementation. In that you can use the *del* operation provided by Python. \n",
    "\n",
    "**(b)** The implementation of *myHeap* uses a simple hashing function, which remains the same for every new instance of a dictionary. We discussed though that it makes sense to use a **random** hashing function, in order to beat systematic patterns. Here you are asked to substitute with another fancier hashing function $H(m)$ , which has better properties with respect to real data. In particular, let:\n",
    "\n",
    "$ H(m) = m$^$ r~mod~n$\n",
    "\n",
    "where $r$ is a random integer, $^$ is the bit-wise XOR operation (which you can lookup online). \n",
    "\n",
    "Include this $H(m)$ in the code of myHeap. \n",
    "\n",
    "**(c)** Give a sequence of 5 inserts that would cause all inserts to collide under the standard hashing function. How many collisions do you get for the first random number r you tried for the fancy function. \n",
    "\n",
    "**(d)** For the same $r$ as above, find 6 inserts that will cause 6 collisions, using trial and error with the code. Do you see an pattern in these numbers?\n"
   ]
  },
  {
   "cell_type": "code",
   "execution_count": null,
   "metadata": {
    "colab": {},
    "colab_type": "code",
    "id": "0--4kdGxwIgl"
   },
   "outputs": [],
   "source": [
    "# your code goes here"
   ]
  },
  {
   "cell_type": "markdown",
   "metadata": {
    "colab_type": "text",
    "id": "gWtNntjZJJxO"
   },
   "source": [
    "### **Q3. Computing total incoming weights on directed graphs**\n",
    "\n",
    "Recall the graph representation from lecture 3 - a specific example is given in the following cell. Suppose that $G$ encodes a directed (Twitter-like) graph where $(i,j,w)$ means that there exists an edge from node $i$ to node $j$, and it has weight $w$. We say that $(i,j,w)$ is incoming to node $j$. Implement an algorithm that computes the sum of the weights of all incoming edges, for every node $j$. \n",
    "\n",
    "\n",
    "Note: In your implementation you are not allowed to use dictionaries. \n",
    "\n",
    "\n",
    "\n",
    "\n"
   ]
  },
  {
   "cell_type": "code",
   "execution_count": null,
   "metadata": {
    "colab": {},
    "colab_type": "code",
    "id": "2oD-Rmw_PXfq"
   },
   "outputs": [],
   "source": [
    "G = [ [(0,1,1), (0,2,5), (0,3,11), (0,4,8)], [(1,0,1), (1,2,2), (1,3,5), (1,4,9)], [(2,0,5), (2,1,2), (2,3,1),(2,4,6)], [(3,0,11),(3,1,5),(3,2,1),(3,4,8)], [(4,0,8), (4,1,9),(4,2,6),(4,3,8)]]"
   ]
  },
  {
   "cell_type": "markdown",
   "metadata": {
    "colab_type": "text",
    "id": "Sn5GvWFsA2uv"
   },
   "source": [
    "*your algorithm description goes here*"
   ]
  },
  {
   "cell_type": "code",
   "execution_count": null,
   "metadata": {
    "colab": {},
    "colab_type": "code",
    "id": "Vl_FTA95A1J7"
   },
   "outputs": [],
   "source": [
    "# your code goes here"
   ]
  },
  {
   "cell_type": "markdown",
   "metadata": {
    "colab_type": "text",
    "id": "SVvBSS47ElLP"
   },
   "source": [
    "### **Q4. Converting an array-based heap to a tree-based heap**\n",
    "\n",
    "We saw that a heap can be encoded either as an array, or as a full binary tree. For this question, you will write a function that takes the array representation of a heap and outputs its binary tree representation. More specifically, you should write a function with the specifications given in the cell below. \n",
    "\n",
    "**Hint:** Use a recursive algorithm. Q4 from assignment 3 should be useful. \n",
    "\n",
    "\n",
    "\n"
   ]
  },
  {
   "cell_type": "code",
   "execution_count": null,
   "metadata": {
    "colab": {},
    "colab_type": "code",
    "id": "WmJpG_qHDbM5"
   },
   "outputs": [],
   "source": [
    "# def arrayToTree(A, j):\n",
    "#\n",
    "# input: array A representing a heap, an index j in [0:len(A)]\n",
    "# output: a Node object storing the heap with root j in the array A\n",
    "#       : Node should belong to the class we defined in lecture 3\n",
    "         \n"
   ]
  }
 ],
 "metadata": {
  "colab": {
   "authorship_tag": "ABX9TyO/AJRcAd+kk77ZbujdN8Pm",
   "collapsed_sections": [],
   "name": "Assignment-4.ipynb",
   "provenance": [
    {
     "file_id": "1PKLDRYCDM9OZyJMaAP82Jn-LNL_eGpqu",
     "timestamp": 1592158192728
    },
    {
     "file_id": "1FMjt0_-2PbYGxgaeOBvWJ8l2l2zlHd_m",
     "timestamp": 1591462638135
    },
    {
     "file_id": "1Ya8ehouTMbWIRYQ2-Vv5WX8Q6d09hIVn",
     "timestamp": 1590948359045
    }
   ]
  },
  "kernelspec": {
   "display_name": "Python 3",
   "language": "python",
   "name": "python3"
  },
  "language_info": {
   "codemirror_mode": {
    "name": "ipython",
    "version": 3
   },
   "file_extension": ".py",
   "mimetype": "text/x-python",
   "name": "python",
   "nbconvert_exporter": "python",
   "pygments_lexer": "ipython3",
   "version": "3.7.6"
  }
 },
 "nbformat": 4,
 "nbformat_minor": 4
}
