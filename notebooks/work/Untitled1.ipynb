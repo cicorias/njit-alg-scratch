{
 "cells": [
  {
   "cell_type": "code",
   "execution_count": 39,
   "metadata": {},
   "outputs": [
    {
     "data": {
      "text/plain": [
       "\"/var/folders/sx/3ncyd7vs70974yrdwft1qs_40000gn/T/.tmpkO0h97\"\n"
      ]
     },
     "execution_count": 39,
     "metadata": {},
     "output_type": "execute_result"
    }
   ],
   "source": [
    "// Heap data structure\n",
    "// Takes a closure as a comparator to allow for min-heap, max-heap, and works with custom key functions\n",
    "\n",
    "use std::cmp::Ord;\n",
    "use std::default::Default;\n",
    "\n",
    "pub struct Heap<T>\n",
    "where\n",
    "    T: Default,\n",
    "{\n",
    "    count: usize,\n",
    "    items: Vec<T>,\n",
    "    comparator: Box<dyn Fn(&T, &T) -> bool>,\n",
    "}\n",
    "\n",
    "impl<T> Heap<T>\n",
    "where\n",
    "    T: Default,\n",
    "{\n",
    "    pub fn new(comparator: Box<dyn Fn(&T, &T) -> bool>) -> Self {\n",
    "        Self {\n",
    "            count: 0,\n",
    "            // Add a default in the first spot to offset indexes\n",
    "            // for the parent/child math to work out.\n",
    "            // Vecs have to have all the same type so using Default\n",
    "            // is a way to add an unused item.\n",
    "            items: vec![T::default()],\n",
    "            comparator,\n",
    "        }\n",
    "    }\n",
    "\n",
    "    pub fn len(&self) -> usize {\n",
    "        self.count\n",
    "    }\n",
    "\n",
    "    pub fn add(&mut self, value: T) {\n",
    "        self.count += 1;\n",
    "        self.items.push(value);\n",
    "\n",
    "        // Heapify Up\n",
    "        let mut idx = self.count;\n",
    "        while self.parent_idx(idx) > 0 {\n",
    "            let pdx = self.parent_idx(idx);\n",
    "            if (self.comparator)(&self.items[idx], &self.items[pdx]) {\n",
    "                self.items.swap(idx, pdx);\n",
    "            }\n",
    "            idx = pdx;\n",
    "        }\n",
    "    }\n",
    "\n",
    "    pub fn next(&mut self) -> Option<T> {\n",
    "        let next = if self.count == 0 {\n",
    "            None\n",
    "        } else {\n",
    "            // This feels like a function built for heap impl :)\n",
    "            // Removes an item at an index and fills in with the last item\n",
    "            // of the Vec\n",
    "            let next = self.items.swap_remove(1);\n",
    "            Some(next)\n",
    "        };\n",
    "        self.count -= 1;\n",
    "\n",
    "        if self.count > 0 {\n",
    "            // Heapify Down\n",
    "            let mut idx = 1;\n",
    "            while self.children_present(idx) {\n",
    "                let cdx = self.smallest_child_idx(idx);\n",
    "                if !(self.comparator)(&self.items[idx], &self.items[cdx]) {\n",
    "                    self.items.swap(idx, cdx);\n",
    "                }\n",
    "                idx = cdx;\n",
    "            }\n",
    "        }\n",
    "\n",
    "        next\n",
    "    }\n",
    "\n",
    "    fn parent_idx(&self, idx: usize) -> usize {\n",
    "        idx / 2\n",
    "    }\n",
    "\n",
    "    fn children_present(&self, idx: usize) -> bool {\n",
    "        self.left_child_idx(idx) <= self.count\n",
    "    }\n",
    "\n",
    "    fn left_child_idx(&self, idx: usize) -> usize {\n",
    "        idx * 2\n",
    "    }\n",
    "\n",
    "    fn right_child_idx(&self, idx: usize) -> usize {\n",
    "        self.left_child_idx(idx) + 1\n",
    "    }\n",
    "\n",
    "    fn smallest_child_idx(&self, idx: usize) -> usize {\n",
    "        if self.right_child_idx(idx) > self.count {\n",
    "            self.left_child_idx(idx)\n",
    "        } else {\n",
    "            let ldx = self.left_child_idx(idx);\n",
    "            let rdx = self.right_child_idx(idx);\n",
    "            if (self.comparator)(&self.items[ldx], &self.items[rdx]) {\n",
    "                ldx\n",
    "            } else {\n",
    "                rdx\n",
    "            }\n",
    "        }\n",
    "    }\n",
    "}\n",
    "\n",
    "pub struct MinHeap;\n",
    "\n",
    "impl MinHeap {\n",
    "    pub fn new<T>() -> Heap<T>\n",
    "    where\n",
    "        T: Default + Ord,\n",
    "    {\n",
    "        let comparator = |a: &T, b: &T| a < b;\n",
    "        Heap::new(Box::new(comparator))\n",
    "    }\n",
    "}\n",
    "\n",
    "pub struct MaxHeap;\n",
    "\n",
    "impl MaxHeap {\n",
    "    pub fn new<T>() -> Heap<T>\n",
    "    where\n",
    "        T: Default + Ord,\n",
    "    {\n",
    "        let comparator = |a: &T, b: &T| a > b;\n",
    "        Heap::new(Box::new(comparator))\n",
    "    }\n",
    "}\n",
    "\n",
    "\n",
    "\n",
    "    use super::*;\n",
    "\n",
    "    pub fn test_min_heap() {\n",
    "        let mut heap = MinHeap::new();\n",
    "        heap.add(4);\n",
    "        heap.add(2);\n",
    "        heap.add(9);\n",
    "        heap.add(11);\n",
    "        assert_eq!(heap.len(), 4);\n",
    "        assert_eq!(heap.next(), Some(2));\n",
    "        assert_eq!(heap.next(), Some(4));\n",
    "        assert_eq!(heap.next(), Some(9));\n",
    "        heap.add(1);\n",
    "        assert_eq!(heap.next(), Some(1));\n",
    "    }\n",
    "\n",
    "    #[test]\n",
    "    fn test_max_heap() {\n",
    "        let mut heap = MaxHeap::new();\n",
    "        heap.add(4);\n",
    "        heap.add(2);\n",
    "        heap.add(9);\n",
    "        heap.add(11);\n",
    "        assert_eq!(heap.len(), 4);\n",
    "        assert_eq!(heap.next(), Some(11));\n",
    "        assert_eq!(heap.next(), Some(9));\n",
    "        assert_eq!(heap.next(), Some(4));\n",
    "        heap.add(1);\n",
    "        assert_eq!(heap.next(), Some(2));\n",
    "    }\n",
    "\n",
    "    struct Point(/* x */ i32, /* y */ i32);\n",
    "    impl Default for Point {\n",
    "        fn default() -> Self {\n",
    "            Self(0, 0)\n",
    "        }\n",
    "    }\n",
    "\n",
    "    #[test]\n",
    "    fn test_key_heap() {\n",
    "        let mut heap: Heap<Point> = Heap::new(Box::new(|a, b| a.0 < b.0));\n",
    "        heap.add(Point(1, 5));\n",
    "        heap.add(Point(3, 10));\n",
    "        heap.add(Point(-2, 4));\n",
    "        assert_eq!(heap.len(), 3);\n",
    "        assert_eq!(heap.next().unwrap().0, -2);\n",
    "        assert_eq!(heap.next().unwrap().0, 1);\n",
    "        heap.add(Point(50, 34));\n",
    "        assert_eq!(heap.next().unwrap().0, 3);\n",
    "    }\n",
    "\n",
    "\n",
    ":last_compile_dir"
   ]
  },
  {
   "cell_type": "code",
   "execution_count": 31,
   "metadata": {},
   "outputs": [],
   "source": [
    "let mut heap = MinHeap::new();\n",
    "heap.add(4);\n",
    "heap.add(2);\n",
    "heap.add(9);\n",
    "heap.add(11);"
   ]
  },
  {
   "cell_type": "code",
   "execution_count": 34,
   "metadata": {},
   "outputs": [
    {
     "ename": "Error",
     "evalue": "cannot find value `test_min_heap` in this scope",
     "output_type": "error",
     "traceback": [
      "test_min_heap",
      "\u001b[91m^^^^^^^^^^^^^\u001b[0m \u001b[94mnot found in this scope\u001b[0m",
      "cannot find value `test_min_heap` in this scope"
     ]
    }
   ],
   "source": [
    "test_min_heap"
   ]
  },
  {
   "cell_type": "code",
   "execution_count": 7,
   "metadata": {},
   "outputs": [
    {
     "ename": "Error",
     "evalue": "expected function, found attribute macro `test`",
     "output_type": "error",
     "traceback": [
      "test()",
      "\u001b[91m^^^^\u001b[0m \u001b[94mnot a function\u001b[0m",
      "expected function, found attribute macro `test`"
     ]
    }
   ],
   "source": [
    "test()"
   ]
  },
  {
   "cell_type": "code",
   "execution_count": 35,
   "metadata": {},
   "outputs": [
    {
     "data": {
      "text/html": [
       "<table><tr><th>Variable</th><th>Type</th></tr><tr><td>heap</td><td>Heap&lt;i32&gt;</td><tr></table>"
      ],
      "text/plain": [
       "heap: Heap<i32>\n"
      ]
     },
     "execution_count": 35,
     "metadata": {},
     "output_type": "execute_result"
    }
   ],
   "source": [
    ":vars"
   ]
  },
  {
   "cell_type": "code",
   "execution_count": null,
   "metadata": {},
   "outputs": [],
   "source": []
  }
 ],
 "metadata": {
  "kernelspec": {
   "display_name": "Rust",
   "language": "rust",
   "name": "rust"
  },
  "language_info": {
   "codemirror_mode": "rust",
   "file_extension": ".rs",
   "mimetype": "text/rust",
   "name": "Rust",
   "pygment_lexer": "rust",
   "version": ""
  }
 },
 "nbformat": 4,
 "nbformat_minor": 4
}
