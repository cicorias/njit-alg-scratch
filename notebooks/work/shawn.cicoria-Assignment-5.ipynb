{
 "cells": [
  {
   "cell_type": "markdown",
   "metadata": {
    "colab_type": "text",
    "id": "6-w6JdXpymm5"
   },
   "source": [
    "# **Assignment 5** #\n",
    "\n",
    "**Delivery Instructions**:  Similar to previous assignments. See this [**Canvas announcement**](https://njit.instructure.com/courses/11882/discussion_topics/42914) for more details. \n",
    "\n"
   ]
  },
  {
   "cell_type": "markdown",
   "metadata": {
    "colab_type": "text",
    "id": "-d604ucx7LtF"
   },
   "source": [
    "### **Q1. Implement a Union-Find Data Structure**  ###\n",
    "\n",
    "In lecture 6 we discussed Union-Find Data structures. The lecture was based on these [slides](https://www.cs.princeton.edu/courses/archive/spr09/cos226/lectures/01UnionFind.pdf). The slides contain Java code fo the Union-Find operations. For this assignment you should implement a Python class that implements a Union-Find Data Structure that uses weighting and path compression. Essentially this amounts to translating the code in the slides using the same specifications. Make sure you review the material and understand what the code does, and how it works. \n",
    "\n",
    "\n",
    "\n",
    "\n",
    "\n",
    "\n",
    "\n",
    "\n",
    "\n"
   ]
  },
  {
   "cell_type": "code",
   "execution_count": 1,
   "metadata": {
    "colab": {},
    "colab_type": "code",
    "id": "5UMkl0gAtuU0",
    "tags": []
   },
   "outputs": [
    {
     "name": "stderr",
     "output_type": "stream",
     "text": [
      "....\n",
      "----------------------------------------------------------------------\n",
      "Ran 4 tests in 0.002s\n",
      "\n",
      "OK\n"
     ]
    }
   ],
   "source": [
    "# your implementation goes here\n",
    "import unittest\n",
    "\n",
    "class UnionFind():\n",
    "    def __init__(self, N):\n",
    "        self._id = list(range(N))\n",
    "        self._sz = [1] * N  # size in num of node children\n",
    "\n",
    "    def find(self, p: int, q: int) -> bool:\n",
    "        return self.root(p) == self.root(q)\n",
    "\n",
    "    def root(self, i: int) -> int:\n",
    "        j = i\n",
    "        while (j != self._id[j]):\n",
    "            self._id[j] = self._id[self._id[j]]\n",
    "            j = self._id[j]\n",
    "        return j\n",
    "\n",
    "    def unite(self, p: int, q: int):\n",
    "        i = self.root(p)\n",
    "        j = self.root(q)\n",
    "        if i == j:\n",
    "            return\n",
    "        if self._sz[i] < self._sz[j]:\n",
    "            self._id[i] = j\n",
    "            self._sz[j] += self._sz[i]\n",
    "        else:\n",
    "            self._id[j] = i\n",
    "            self._sz[i] += self._sz[j]\n",
    "\n",
    "\n",
    "class basic_tests(unittest.TestCase):\n",
    "    def test_init(self):\n",
    "        uf = UnionFind(5)\n",
    "\n",
    "        self.assertListEqual([0, 1, 2, 3, 4], uf._id)\n",
    "\n",
    "    def test_find(self):\n",
    "        uf = UnionFind(10)\n",
    "\n",
    "        self.assertEqual(uf.find(5, 5), True)\n",
    "        self.assertEqual(uf.find(5, 4), False)\n",
    "\n",
    "    def test_unite_1(self):\n",
    "        iv = [0, 1, 2, 3, 3, 5, 6, 7, 8, 9]\n",
    "        exp = [0, 1, 2, 3, 3, 5, 6, 7, 8, 3]\n",
    "\n",
    "        uf = UnionFind(10)\n",
    "        uf._id = iv\n",
    "\n",
    "        uf.unite(4, 9)\n",
    "\n",
    "        self.assertListEqual(uf._id, exp)\n",
    "\n",
    "    def test_all_1(self):\n",
    "        uf = UnionFind(10)\n",
    "        #  use the sample from orig pdf on p33 https://www.cs.princeton.edu/~rs/AlgsDS07/01UnionFind.pdf\n",
    "        for (p, q) in [(3, 4), (4, 9), (8, 0), (2, 3), (5, 6), (5, 9), (7, 3), (4, 8), (6, 1)]:\n",
    "            uf.unite(p, q)\n",
    "\n",
    "        self.assertListEqual(uf._id, [8, 3, 3, 3, 3, 3, 3, 3, 3, 3])\n",
    "\n",
    "        rv = uf.find(0, 1)\n",
    "        self.assertTrue(rv)\n",
    "        self.assertListEqual(uf._id, [3, 3, 3, 3, 3, 3, 3, 3, 3, 3])\n",
    "\n",
    "#if __name__ == '__main__':\n",
    "#    unittest.main(verbosity=1)\n",
    "\n",
    "if __name__ == '__main__':\n",
    "    unittest.main(argv=['first-arg-is-ignored'], exit=False)\n",
    "    # unittest.main(verbosity=1)\n"
   ]
  },
  {
   "cell_type": "markdown",
   "metadata": {
    "colab_type": "text",
    "id": "duqXrslqqa3X"
   },
   "source": [
    "### **Q2. Random Permutation**\n",
    "\n",
    "Implement a function *randperm* that takes as input a number $n$, and returns a random permutation of the numbers [0...n-1]. This was covered in lecture 7. Your implementation should use $O(1)$ space in addition to the space needed for the output.  (Note: you can use any random number generator functions from Python's *random* module, but you have to give you own implementation for randperm)"
   ]
  },
  {
   "cell_type": "code",
   "execution_count": 2,
   "metadata": {
    "colab": {},
    "colab_type": "code",
    "id": "gjsU_wuSqy4A",
    "tags": []
   },
   "outputs": [
    {
     "name": "stderr",
     "output_type": "stream",
     "text": [
      "..../Users/cicorias/dev/njit/njit-alg-scratch/.venv/lib/python3.7/site-packages/ipykernel_launcher.py:28: DeprecationWarning: Please use assertNotEqual instead.\n",
      ".\n",
      "----------------------------------------------------------------------\n",
      "Ran 5 tests in 0.004s\n",
      "\n",
      "OK\n"
     ]
    }
   ],
   "source": [
    "# your implementation goes here\n",
    "import unittest\n",
    "def randperm(n, seed=42):\n",
    "    import random\n",
    "    random.seed(seed)\n",
    "    rv = list(range(n))\n",
    "\n",
    "    for i in range(n):\n",
    "        ind = random.randint(i, n - 1)\n",
    "        #  swap\n",
    "        h = rv[i - 1]\n",
    "        rv[i - 1] = rv[ind]\n",
    "        rv[ind] = h\n",
    "\n",
    "    return rv\n",
    "\n",
    "def randI(n):\n",
    "    import random\n",
    "    import math\n",
    "    return math.floor(n * random.random())\n",
    "\n",
    "class test_rand_stuff(unittest.TestCase):\n",
    "\n",
    "    def test_list_diff(self):\n",
    "        act = randperm(10)\n",
    "        exp = list(range(10))\n",
    "        \n",
    "        self.assertNotEquals(act, exp, 'list is equal')\n",
    "\n",
    "        #  check if every element in act is in exp\n",
    "        result = all(elem in act for elem in exp)\n",
    "        self.assertTrue(result, 'missing elements')\n",
    "\n",
    "        act.sort()\n",
    "        self.assertListEqual(act, exp, 'same leng and all elem')\n",
    "\n",
    "\n",
    "# TODO: move to bottom as this execs all UTs in the notebook\n",
    "if __name__ == '__main__':\n",
    "    unittest.main(argv=['first-arg-is-ignored'], exit=False)\n",
    "    # unittest.main(verbosity=1)"
   ]
  },
  {
   "cell_type": "markdown",
   "metadata": {
    "colab_type": "text",
    "id": "c3ezTmqv0I0O"
   },
   "source": [
    "### **Q3. Adjacency matrices, powers, numpy** <br>\n",
    "(this exercise should be useful for your mini-project)\n",
    "\n",
    "```\n",
    "![alt text](./assets/network-graph-python-matplotlib.png)\n",
    "```\n",
    "\n",
    "![thumb](https://drive.google.com/thumbnail?id=1tIyXRGiQvMv-1EcJxzkQS2MpMNL9hUOA)\n",
    "\n",
    "Consider the above graph [(also here)](https://drive.google.com/file/d/1tIyXRGiQvMv-1EcJxzkQS2MpMNL9hUOA/view?usp=sharing).\n",
    "\n",
    "The following exercise should be **repeated twice**.  For the given directed graph and for the same graph where all edges have no directions. \n",
    "\n",
    "\n",
    "**(a)** Create a numpy array containing the adjacency matrix $A$ for the graph.\n",
    "\n",
    "**(b)** A sequence of nodes $v_1,v_2,...,v_k$ is called a walk on graph $G$, if $(v_i,v_{i+1})$ is an edge in $G$. The length of a walk with $k$ vertices is defined to be $k-1$.  In the above graph pick a pair of nodes $(i,j)$, and report all different walks of length 3 from $i$ to $j$. (That is find, all the ways of going from $i$ to $j$ in 3 steps). \n",
    "\n",
    "**(c)** Using numpy, calculate $A^3$, the third power of the adjacency matrix. Read the entry $(i,j)$ of this matrix. What do you observe?"
   ]
  },
  {
   "cell_type": "code",
   "execution_count": 4,
   "metadata": {},
   "outputs": [
    {
     "data": {
      "image/png": "[encoded data removed]",
      "text/plain": [
       "<Figure size 432x288 with 1 Axes>"
      ]
     },
     "metadata": {},
     "output_type": "display_data"
    }
   ],
   "source": [
    "# your code goes here\n",
    "\n",
    "## just verifying data.\n",
    "\n",
    "import matplotlib.pyplot as plt\n",
    "import networkx as nx\n",
    "import numpy as np\n",
    "import pandas as pd\n",
    "\n",
    "E = [[0, 6], [0, 2], [1, 9], [1, 0], [2, 7], [3, 0], [3, 5], [4, 1], [4, 2], [5, 4], [6, 4], [7, 1], [7, 8], [8, 5], [9, 6], [9, 8], [8, 9]]\n",
    "L = {}\n",
    "\n",
    "for e in E:\n",
    "    L[e[0]] = '{}'.format(e[0])\n",
    "\n",
    "G = nx.DiGraph()\n",
    "pos = nx.spring_layout(G)\n",
    "G.add_edges_from(E)\n",
    "nx.draw(G, with_labels = True)\n",
    "plt.show()"
   ]
  },
  {
   "cell_type": "code",
   "execution_count": 5,
   "metadata": {
    "tags": []
   },
   "outputs": [
    {
     "name": "stdout",
     "output_type": "stream",
     "text": [
      "directed adjacency matrix: \n",
      "\n",
      "\tnumber of edges: 17 \n",
      "\n",
      "[[0 0 1 0 0 0 1 0 0 0]\n",
      " [1 0 0 0 0 0 0 0 0 1]\n",
      " [0 0 0 0 0 0 0 1 0 0]\n",
      " [1 0 0 0 0 1 0 0 0 0]\n",
      " [0 1 1 0 0 0 0 0 0 0]\n",
      " [0 0 0 0 1 0 0 0 0 0]\n",
      " [0 0 0 0 1 0 0 0 0 0]\n",
      " [0 1 0 0 0 0 0 0 1 0]\n",
      " [0 0 0 0 0 1 0 0 0 1]\n",
      " [0 0 0 0 0 0 1 0 1 0]]\n",
      "\n",
      "undirected adjacency matrix: \n",
      "\n",
      "\tnumber of edges: 32 \n",
      "\n",
      "[[0 1 1 1 0 0 1 0 0 0]\n",
      " [1 0 0 0 1 0 0 1 0 1]\n",
      " [1 0 0 0 1 0 0 1 0 0]\n",
      " [1 0 0 0 0 1 0 0 0 0]\n",
      " [0 1 1 0 0 1 1 0 0 0]\n",
      " [0 0 0 1 1 0 0 0 1 0]\n",
      " [1 0 0 0 1 0 0 0 0 1]\n",
      " [0 1 1 0 0 0 0 0 1 0]\n",
      " [0 0 0 0 0 1 0 1 0 1]\n",
      " [0 1 0 0 0 0 1 0 1 0]]\n"
     ]
    }
   ],
   "source": [
    "\n",
    "# part (a)\n",
    "\n",
    "def make_am(data, directed=False):\n",
    "    #  get the node list\n",
    "    nodes = np.unique(data)\n",
    "    n = len(nodes)\n",
    "    # create a dict\n",
    "    node_dict = {n: i for i, n in enumerate(nodes)}\n",
    "\n",
    "    # inverted to vector\n",
    "    numdata = np.vectorize(node_dict.get)(data)\n",
    "    am = np.zeros((n, n),)\n",
    "    for j, i in numdata:\n",
    "        am[j, i] = 1\n",
    "        if not directed:\n",
    "            am[i, j] = 1\n",
    "\n",
    "    return am.astype(int)\n",
    "\n",
    "\n",
    "data = np.array(E)\n",
    "\n",
    "am_undirected = make_am(data, directed=False)\n",
    "am_directed = make_am(data, directed=True)\n",
    "\n",
    "edge_count_undirected = np.sum(am_undirected)\n",
    "edge_count_directed = np.sum(am_directed)\n",
    "\n",
    "print('directed adjacency matrix: \\n')\n",
    "print('\\tnumber of edges: {} \\n'.format(edge_count_directed))\n",
    "print(am_directed)\n",
    "\n",
    "print('\\nundirected adjacency matrix: \\n')\n",
    "print('\\tnumber of edges: {} \\n'.format(edge_count_undirected))\n",
    "print(am_undirected)\n",
    "\n"
   ]
  },
  {
   "cell_type": "code",
   "execution_count": 17,
   "metadata": {
    "tags": []
   },
   "outputs": [
    {
     "name": "stdout",
     "output_type": "stream",
     "text": [
      "3\n",
      "3\n",
      "1\n"
     ]
    }
   ],
   "source": [
    "#  part (b)\n",
    "\n",
    "\n",
    "# from https://www.geeksforgeeks.org/count-possible-paths-source-destination-exactly-k-edges/\n",
    "def countwalks(graph, u, v, k):\n",
    "\n",
    "    n = len(graph)\n",
    "    # Base cases\n",
    "    if (k == 0 and u == v):\n",
    "        return 1\n",
    "    if (k == 1 and graph[u][v]):\n",
    "        return 1\n",
    "    if (k <= 0):\n",
    "        return 0\n",
    "\n",
    "    # Initialize result\n",
    "    count = 0\n",
    "\n",
    "    # Go to all adjacents of u and recur\n",
    "    for i in range(0, n):\n",
    "        # Check if is adjacent of u\n",
    "        if (graph[u][i] == 1):\n",
    "            count += countwalks(graph, i, v, k - 1)\n",
    "\n",
    "    return count\n",
    "\n",
    "\n",
    "\n",
    "\n",
    "\n",
    "print(countwalks(am_undirected, 0, 5, 3))\n",
    "print(countwalks(am_undirected, 5, 0, 3)) # just to be sure...\n",
    "print(countwalks(am_directed, 5, 0, 3))"
   ]
  },
  {
   "cell_type": "code",
   "execution_count": 13,
   "metadata": {},
   "outputs": [
    {
     "name": "stdout",
     "output_type": "stream",
     "text": [
      "undirected adjacency matrix\n",
      "\n",
      "i, j = 3  -- matches call to countwalks above\n"
     ]
    },
    {
     "data": {
      "text/plain": [
       "array([[ 0, 11,  9,  5,  1,  3,  9,  0,  5,  0],\n",
       "       [11,  0,  0,  1, 11,  3,  0,  9,  1,  9],\n",
       "       [ 9,  0,  0,  1,  9,  2,  0,  7,  1,  6],\n",
       "       [ 5,  1,  1,  0,  3,  4,  1,  3,  0,  3],\n",
       "       [ 1, 11,  9,  3,  0,  6,  9,  1,  4,  1],\n",
       "       [ 3,  3,  2,  4,  6,  0,  2,  2,  5,  2],\n",
       "       [ 9,  0,  0,  1,  9,  2,  0,  6,  1,  7],\n",
       "       [ 0,  9,  7,  3,  1,  2,  6,  0,  6,  0],\n",
       "       [ 5,  1,  1,  0,  4,  5,  1,  6,  0,  6],\n",
       "       [ 0,  9,  6,  3,  1,  2,  7,  0,  6,  0]])"
      ]
     },
     "execution_count": 13,
     "metadata": {},
     "output_type": "execute_result"
    }
   ],
   "source": [
    "#  part (c)\n",
    "print('undirected adjacency matrix\\n')\n",
    "am_3_undirected = np.linalg.matrix_power(am_undirected, 3)\n",
    "print('i, j = {}  -- matches call to countwalks above'.format(am_3_undirected[5,0]))\n",
    "am_3_undirected"
   ]
  },
  {
   "cell_type": "code",
   "execution_count": 14,
   "metadata": {},
   "outputs": [
    {
     "name": "stdout",
     "output_type": "stream",
     "text": [
      "directed adjacency matrix\n",
      "\n",
      "i, j = 1  -- matches call to countwalks above\n"
     ]
    },
    {
     "data": {
      "text/plain": [
       "array([[0, 2, 1, 0, 0, 0, 0, 0, 1, 0],\n",
       "       [0, 0, 0, 0, 2, 1, 0, 1, 0, 1],\n",
       "       [1, 0, 0, 0, 0, 1, 0, 0, 0, 2],\n",
       "       [0, 1, 1, 0, 1, 0, 0, 1, 0, 0],\n",
       "       [0, 1, 1, 0, 0, 0, 2, 0, 2, 0],\n",
       "       [1, 0, 0, 0, 0, 0, 0, 1, 0, 1],\n",
       "       [1, 0, 0, 0, 0, 0, 0, 1, 0, 1],\n",
       "       [0, 0, 1, 0, 1, 0, 3, 0, 2, 0],\n",
       "       [0, 1, 1, 0, 1, 1, 0, 0, 0, 1],\n",
       "       [0, 1, 1, 0, 1, 0, 1, 0, 1, 0]])"
      ]
     },
     "execution_count": 14,
     "metadata": {},
     "output_type": "execute_result"
    }
   ],
   "source": [
    "print('directed adjacency matrix\\n')\n",
    "am_3_directed = np.linalg.matrix_power(am_directed, 3)\n",
    "print('i, j = {}  -- matches call to countwalks above'.format(am_3_directed[5,0]))\n",
    "am_3_directed"
   ]
  },
  {
   "cell_type": "markdown",
   "metadata": {},
   "source": [
    "## Question 3 -- part (c) with (b) observation\n",
    "\n",
    ">RESPONSE\n",
    "\n",
    "The corresponding ` i, j ` of the $ A^3 $ matches the number of steps when walking the graph\n"
   ]
  },
  {
   "cell_type": "markdown",
   "metadata": {
    "colab_type": "text",
    "id": "drSvVq3aQKEU"
   },
   "source": [
    "### **Q4. A theoretical question**\n",
    "\n",
    "Suppose a Python module contains an implementation of a function *maxSpanningTree(G)* that takes as input the adjacency list of graph $G$, with **positive** edge weights, and returns the edges of a maximum weight spanning tree. Further suppose that you can run this function, but you cannot access the code. \n",
    "\n",
    "Explain how to use *maxSpanningTree(G)* in order to implement a *minSpanningTree(G)* function. \n",
    "\n",
    "\n",
    "\n",
    "\n",
    "\n"
   ]
  },
  {
   "cell_type": "markdown",
   "metadata": {
    "colab_type": "text",
    "id": "sl9VvPqlTm0v"
   },
   "source": [
    "> RESPONSE\n",
    "\n",
    "\n",
    "#### Response Q 4..\n",
    "\n",
    "You can reverse the sign of the weights.  I verified this as well in the implementation from here: [def prim_mst_edges(G, minimum, weight=\"weight\", keys=True, data=True, ignore_nan=False):](https://github.com/networkx/networkx/blob/3c2e2e895c75c185ccdc685446353f2be18f8f05/networkx/algorithms/tree/mst.py#L238)\n",
    "\n",
    "\n",
    "\n"
   ]
  },
  {
   "cell_type": "code",
   "execution_count": null,
   "metadata": {},
   "outputs": [],
   "source": []
  }
 ],
 "metadata": {
  "colab": {
   "authorship_tag": "ABX9TyPLROu0+Vx2A9kYzKBZ+Y9w",
   "collapsed_sections": [],
   "name": "Assignment 5.ipynb",
   "provenance": [
    {
     "file_id": "1ZZAlpLVOTBR3cDsdI4_TfSBduK5hezzM",
     "timestamp": 1594052762963
    },
    {
     "file_id": "1PKLDRYCDM9OZyJMaAP82Jn-LNL_eGpqu",
     "timestamp": 1592158192728
    },
    {
     "file_id": "1FMjt0_-2PbYGxgaeOBvWJ8l2l2zlHd_m",
     "timestamp": 1591462638135
    },
    {
     "file_id": "1Ya8ehouTMbWIRYQ2-Vv5WX8Q6d09hIVn",
     "timestamp": 1590948359045
    }
   ]
  },
  "kernelspec": {
   "display_name": "Python 3",
   "language": "python",
   "name": "python3"
  },
  "language_info": {
   "codemirror_mode": {
    "name": "ipython",
    "version": 3
   },
   "file_extension": ".py",
   "mimetype": "text/x-python",
   "name": "python",
   "nbconvert_exporter": "python",
   "pygments_lexer": "ipython3",
   "version": "3.7.7"
  }
 },
 "nbformat": 4,
 "nbformat_minor": 4
}
