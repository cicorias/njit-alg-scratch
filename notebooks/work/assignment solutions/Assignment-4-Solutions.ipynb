{
 "cells": [
  {
   "cell_type": "markdown",
   "metadata": {
    "colab_type": "text",
    "id": "6-w6JdXpymm5"
   },
   "source": [
    "# **Assignment 4 - Solutions** #\n",
    "\n",
    "\n"
   ]
  },
  {
   "cell_type": "markdown",
   "metadata": {
    "colab_type": "text",
    "id": "-d604ucx7LtF"
   },
   "source": [
    "### **Q1. Complete maxSumSubarray**  ###\n",
    "\n",
    "In lecture-4 notebook the function *maxSumMiddle* is specified but not implemented. Give a plain-english description of a linear-time algorithm for finding the maximum sum subarray that contains the middle point of the array. The, on a code cell give an implementation. Make sure that you check that it works correctly. \n",
    "\n",
    "**Hint:** Consider splitting the problem into two subproblems, which however are not solved recursively\n",
    "\n",
    "\n",
    "\n",
    "\n",
    "\n",
    "\n",
    "\n",
    "\n",
    "\n"
   ]
  },
  {
   "cell_type": "markdown",
   "metadata": {
    "colab_type": "text",
    "id": "ATKnF7dIoAH3"
   },
   "source": [
    "The problem can be decomposed in two parts. Find the maximum sum subarray of the form [j:mid] (not including mid) and that of the form [mid:k], and then conbine them into one. The following code does that, but it only returns the sum, and not the indices j,k. "
   ]
  },
  {
   "cell_type": "code",
   "execution_count": 1,
   "metadata": {
    "colab": {},
    "colab_type": "code",
    "id": "5UMkl0gAtuU0"
   },
   "outputs": [],
   "source": [
    "# your implementation goes here\n",
    "\n",
    "def maxSumMidddle(A):\n",
    "  n = len(A)\n",
    "  mid = n//2\n",
    "\n",
    "  # search for maximum sub subarray of form [mid:j]\n",
    "  S1 = 0;\n",
    "  max_S1 = 0;\n",
    "  for j in range(mid,n):\n",
    "    S1 = S1 + A[j]\n",
    "    if S1> max_S1:\n",
    "      max_S1 = S1\n",
    "\n",
    "  # search for maximum sub subarray of form [j:mid-1]\n",
    "  S2 = 0\n",
    "  max_S2 = 0;\n",
    "  for j in range(mid-1,-1,-1):  # loop going backwards\n",
    "    S2 = S2 + A[j]\n",
    "    if S2> max_S2:\n",
    "      max_S2 = S2\n",
    "\n",
    "  return max_S1+max_S2\n"
   ]
  },
  {
   "cell_type": "markdown",
   "metadata": {
    "colab_type": "text",
    "id": "vEwoQMZ8wJs_"
   },
   "source": [
    "### **Q2. Complete and fancify myHash**\n",
    "\n",
    "**(a)** The implementation of *myHash* class in the lecture notes omits the operation of key deletion. In a code cell below, provide an implementation. In that you can use the *del* operation provided by Python. \n",
    "\n",
    "**(b)** The implementation of *myHash* uses a simple hashing function, which remains the same for every new instance of a dictionary. We discussed though that it makes sense to use a **random** hashing function, in order to beat systematic patterns. Here you are asked to substitute with another fancier hashing function $H(m)$ , which has better properties with respect to real data. In particular, let:\n",
    "\n",
    "$ H(m) = m$^$ r~mod~n$\n",
    "\n",
    "where $r$ is a random integer, $^$ is the bit-wise XOR operation (which you can lookup online). \n",
    "\n",
    "Include this $H(m)$ in the code of myHash. \n",
    "\n",
    "**(c)** Give a sequence of 5 inserts that would cause all inserts to collide under the standard hashing function. How many collisions do you get for the first random number r you tried for the fancy function. \n",
    "\n",
    "**(d)** For the same $r$ as above, find 6 inserts that will cause 6 collisions, using trial and error with the code. Do you see an pattern in these numbers?\n"
   ]
  },
  {
   "cell_type": "code",
   "execution_count": 2,
   "metadata": {
    "colab": {},
    "colab_type": "code",
    "executionInfo": {
     "elapsed": 715,
     "status": "ok",
     "timestamp": 1593895076726,
     "user": {
      "displayName": "Ioannis Koutis",
      "photoUrl": "https://lh3.googleusercontent.com/a-/AOh14Gj88YMRorz6z0Tz4baGdAALRkI2fBVTEWi0XdKh8A=s64",
      "userId": "17239720917701380808"
     },
     "user_tz": 240
    },
    "id": "0--4kdGxwIgl"
   },
   "outputs": [],
   "source": [
    "# in the following, I added a keyDelete function\n",
    "# I also commented-out the previous hashing function and added a new one\n",
    "# the random number for the hashing function must be picked at initialization time\n",
    "\n",
    "import random\n",
    "\n",
    "class myDictionary:\n",
    "  def __init__(self,n):      # n is the size of the dictionary\n",
    "    self.dictionary = [None]*n    \n",
    "    self.n = n\n",
    "    self.r = random.randrange(n)\n",
    "\n",
    "  def keySearch(self,key):\n",
    "\n",
    "    # calulate the address of key, based on the simple hashing function\n",
    "    # addr = key % self.n\n",
    "\n",
    "    addr = (key^self.r) % self.n\n",
    "    if self.dictionary[addr] == None:\n",
    "      return False\n",
    "    \n",
    "    # if the list in addr is initialized, then do linear search in it, using Python's native search\n",
    "    if key in self.dictionary[addr]:\n",
    "      return True\n",
    "    else:\n",
    "      return False\n",
    "\n",
    "  def keyInsert(self,key):\n",
    "\n",
    "    #addr = key % self.n\n",
    "    addr = (key^self.r) %self.n\n",
    "\n",
    "    # no collision case\n",
    "    if self.dictionary[addr] == None:\n",
    "      self.dictionary[addr] = [key]    # initialize a list \n",
    "      return\n",
    "    \n",
    "    \n",
    "    # handling collision by appending list\n",
    "    # insert only if not inserted before\n",
    "    if not(key in self.dictionary[addr]):             # this does a linear search\n",
    "      self.dictionary[addr].append(key)\n",
    "\n",
    "  # this is the added code\n",
    "  # False indicates that the key was not found\n",
    "  # True indicates that key was found and deleted\n",
    "  def keyDelete(self,key):\n",
    "\n",
    "    #addr = key % self.n\n",
    "    addr = (key^self.r) % self.n\n",
    "\n",
    "    # no initialized bucket\n",
    "    if self.dictionary[addr] == None:     \n",
    "      return False  \n",
    "\n",
    "    if key in self.dictionary[addr]:\n",
    "      lis = self.dictionary[addr]\n",
    "      lis.remove(key)\n",
    "      if len(lis)==0:\n",
    "        self.dictionary[addr] = None      # restoring a None in case of empty list\n",
    "      return True\n",
    "    else:\n",
    "      return False\n",
    "\n",
    "\n",
    "\n"
   ]
  },
  {
   "cell_type": "code",
   "execution_count": 3,
   "metadata": {
    "colab": {
     "base_uri": "https://localhost:8080/",
     "height": 71
    },
    "colab_type": "code",
    "executionInfo": {
     "elapsed": 447,
     "status": "ok",
     "timestamp": 1593895080212,
     "user": {
      "displayName": "Ioannis Koutis",
      "photoUrl": "https://lh3.googleusercontent.com/a-/AOh14Gj88YMRorz6z0Tz4baGdAALRkI2fBVTEWi0XdKh8A=s64",
      "userId": "17239720917701380808"
     },
     "user_tz": 240
    },
    "id": "90AkG4a0frJM",
    "outputId": "2213a5a0-18a0-4e35-9371-c3d10e8f6403"
   },
   "outputs": [
    {
     "name": "stdout",
     "output_type": "stream",
     "text": [
      "True\n",
      "True\n",
      "[None, None, None, None, None]\n"
     ]
    }
   ],
   "source": [
    "a = myDictionary(5)\n",
    "a.keyInsert(3)\n",
    "print(a.keySearch(3))\n",
    "print(a.keyDelete(3))\n",
    "\n",
    "print(a.dictionary)"
   ]
  },
  {
   "cell_type": "markdown",
   "metadata": {
    "colab_type": "text",
    "id": "gWtNntjZJJxO"
   },
   "source": [
    "### **Q3. Computing total incoming weights on directed graphs**\n",
    "\n",
    "Recall the graph representation from lecture 3 - a specific example is given in the following cell. Suppose that $G$ encodes a directed (Twitter-like) graph where $(i,j,w)$ means that there exists an edge from node $i$ to node $j$, and it has weight $w$. We say that $(i,j,w)$ is incoming to node $j$. Implement an algorithm that computes the sum of the weights of all incoming edges, for every node $j$. \n",
    "\n",
    "\n",
    "Note: In your implementation you are not allowed to use dictionaries. \n",
    "\n",
    "\n",
    "\n",
    "\n"
   ]
  },
  {
   "cell_type": "code",
   "execution_count": 4,
   "metadata": {
    "colab": {},
    "colab_type": "code",
    "executionInfo": {
     "elapsed": 925,
     "status": "ok",
     "timestamp": 1593896621013,
     "user": {
      "displayName": "Ioannis Koutis",
      "photoUrl": "https://lh3.googleusercontent.com/a-/AOh14Gj88YMRorz6z0Tz4baGdAALRkI2fBVTEWi0XdKh8A=s64",
      "userId": "17239720917701380808"
     },
     "user_tz": 240
    },
    "id": "2oD-Rmw_PXfq"
   },
   "outputs": [],
   "source": [
    "G = [ [(0,1,1), (0,2,5), (0,3,11), (0,4,8)], [(1,0,1), (1,2,2), (1,3,5), (1,4,9)], [(2,0,5), (2,1,2), (2,3,1),(2,4,6)], [(3,0,11),(3,1,5),(3,2,1),(3,4,8)], [(4,0,8), (4,1,9),(4,2,6),(4,3,8)]]"
   ]
  },
  {
   "cell_type": "markdown",
   "metadata": {
    "colab_type": "text",
    "id": "Sn5GvWFsA2uv"
   },
   "source": [
    "We maintain a list of in-degrees, initialized to 0. Then we scan the input adjacency list, and for every edge we update the corresponding in-degree. "
   ]
  },
  {
   "cell_type": "code",
   "execution_count": 5,
   "metadata": {
    "colab": {},
    "colab_type": "code",
    "executionInfo": {
     "elapsed": 667,
     "status": "ok",
     "timestamp": 1593896643759,
     "user": {
      "displayName": "Ioannis Koutis",
      "photoUrl": "https://lh3.googleusercontent.com/a-/AOh14Gj88YMRorz6z0Tz4baGdAALRkI2fBVTEWi0XdKh8A=s64",
      "userId": "17239720917701380808"
     },
     "user_tz": 240
    },
    "id": "Vl_FTA95A1J7"
   },
   "outputs": [],
   "source": [
    "def inDegrees(G):\n",
    "  n = len(G)\n",
    "  indegrees = [0]*n\n",
    "\n",
    "  for j in range(n):\n",
    "    outEdges = G[j]\n",
    "    for k in range(len(outEdges)):\n",
    "      edge = outEdges[k]\n",
    "      indegrees[edge[1]] = indegrees[edge[1]] + edge[2]   #edge[1] is the endpoint, #edge[2] is the weight\n",
    "\n",
    "  return indegrees\n",
    "\n"
   ]
  },
  {
   "cell_type": "code",
   "execution_count": 6,
   "metadata": {
    "colab": {
     "base_uri": "https://localhost:8080/",
     "height": 35
    },
    "colab_type": "code",
    "executionInfo": {
     "elapsed": 849,
     "status": "ok",
     "timestamp": 1593896676588,
     "user": {
      "displayName": "Ioannis Koutis",
      "photoUrl": "https://lh3.googleusercontent.com/a-/AOh14Gj88YMRorz6z0Tz4baGdAALRkI2fBVTEWi0XdKh8A=s64",
      "userId": "17239720917701380808"
     },
     "user_tz": 240
    },
    "id": "SlJOBkBso9E1",
    "outputId": "a61a3b26-f218-49cb-ec11-d38daaef6b68"
   },
   "outputs": [
    {
     "data": {
      "text/plain": [
       "[25, 17, 14, 25, 31]"
      ]
     },
     "execution_count": 6,
     "metadata": {},
     "output_type": "execute_result"
    }
   ],
   "source": [
    "G = [ [(0,1,1), (0,2,5), (0,3,11), (0,4,8)], [(1,0,1), (1,2,2), (1,3,5), (1,4,9)], [(2,0,5), (2,1,2), (2,3,1),(2,4,6)], [(3,0,11),(3,1,5),(3,2,1),(3,4,8)], [(4,0,8), (4,1,9),(4,2,6),(4,3,8)]]\n",
    "\n",
    "inDegrees(G)"
   ]
  },
  {
   "cell_type": "markdown",
   "metadata": {
    "colab_type": "text",
    "id": "SVvBSS47ElLP"
   },
   "source": [
    "### **Q4. Converting an array-based heap to a tree-based heap**\n",
    "\n",
    "We saw that a heap can be encoded either as an array, or as a full binary tree. For this question, you will write a function that takes the array representation of a heap and outputs its binary tree representation. More specifically, you should write a function with the specifications given in the cell below. \n",
    "\n",
    "**Hint:** Use a recursive algorithm. Q4 from assignment 3 should be useful. \n",
    "\n",
    "\n",
    "\n"
   ]
  },
  {
   "cell_type": "code",
   "execution_count": 7,
   "metadata": {
    "colab": {},
    "colab_type": "code",
    "executionInfo": {
     "elapsed": 565,
     "status": "ok",
     "timestamp": 1593898137838,
     "user": {
      "displayName": "Ioannis Koutis",
      "photoUrl": "https://lh3.googleusercontent.com/a-/AOh14Gj88YMRorz6z0Tz4baGdAALRkI2fBVTEWi0XdKh8A=s64",
      "userId": "17239720917701380808"
     },
     "user_tz": 240
    },
    "id": "WmJpG_qHDbM5"
   },
   "outputs": [],
   "source": [
    "class Node:\n",
    "  def __init__(self,key):\n",
    "    self.key = key\n",
    "    self.lchild = None\n",
    "    self.rchild = None\n",
    "\n",
    "\n",
    "# def arrayToTree(A, j):\n",
    "#\n",
    "# input: array A representing a heap, an index j in [0:len(A)]\n",
    "# output: a Node object storing the heap with root j in the array A\n",
    "#       : Node should belong to the class we defined in lecture 3\n",
    "         \n",
    "def arrayToTree(A, j):\n",
    "  n = len(A)\n",
    "  T = Node(A[j])\n",
    "\n",
    "  lchild = 2*j+1\n",
    "  rchild = 2*j+2\n",
    "\n",
    "  if lchild<n:\n",
    "    T.lchild = arrayToTree(A,lchild)\n",
    "   \n",
    "\n",
    "  if rchild<n:\n",
    "    T.rchild = arrayToTree(A,rchild)\n",
    "\n",
    "  return T\n"
   ]
  },
  {
   "cell_type": "code",
   "execution_count": 8,
   "metadata": {
    "colab": {},
    "colab_type": "code",
    "executionInfo": {
     "elapsed": 761,
     "status": "ok",
     "timestamp": 1593898783271,
     "user": {
      "displayName": "Ioannis Koutis",
      "photoUrl": "https://lh3.googleusercontent.com/a-/AOh14Gj88YMRorz6z0Tz4baGdAALRkI2fBVTEWi0XdKh8A=s64",
      "userId": "17239720917701380808"
     },
     "user_tz": 240
    },
    "id": "Lpr-D8etsxmQ"
   },
   "outputs": [],
   "source": [
    "A = [1,2,3]\n",
    "Z = arrayToTree(A,0)"
   ]
  },
  {
   "cell_type": "code",
   "execution_count": 9,
   "metadata": {
    "colab": {
     "base_uri": "https://localhost:8080/",
     "height": 35
    },
    "colab_type": "code",
    "executionInfo": {
     "elapsed": 1097,
     "status": "ok",
     "timestamp": 1593898799855,
     "user": {
      "displayName": "Ioannis Koutis",
      "photoUrl": "https://lh3.googleusercontent.com/a-/AOh14Gj88YMRorz6z0Tz4baGdAALRkI2fBVTEWi0XdKh8A=s64",
      "userId": "17239720917701380808"
     },
     "user_tz": 240
    },
    "id": "KlkhxyTbs1al",
    "outputId": "76264162-52f7-44a7-ab9f-a2707accc027"
   },
   "outputs": [
    {
     "data": {
      "text/plain": [
       "2"
      ]
     },
     "execution_count": 9,
     "metadata": {},
     "output_type": "execute_result"
    }
   ],
   "source": [
    "Z.lchild.key"
   ]
  }
 ],
 "metadata": {
  "colab": {
   "authorship_tag": "ABX9TyOQk+vq4RJhqOvHNoUHflJD",
   "collapsed_sections": [],
   "name": "Assignment 4 - Solutions.ipynb",
   "provenance": [
    {
     "file_id": "1ZZAlpLVOTBR3cDsdI4_TfSBduK5hezzM",
     "timestamp": 1593892565859
    },
    {
     "file_id": "1PKLDRYCDM9OZyJMaAP82Jn-LNL_eGpqu",
     "timestamp": 1592158192728
    },
    {
     "file_id": "1FMjt0_-2PbYGxgaeOBvWJ8l2l2zlHd_m",
     "timestamp": 1591462638135
    },
    {
     "file_id": "1Ya8ehouTMbWIRYQ2-Vv5WX8Q6d09hIVn",
     "timestamp": 1590948359045
    }
   ]
  },
  "kernelspec": {
   "display_name": "Python 3",
   "language": "python",
   "name": "python3"
  },
  "language_info": {
   "codemirror_mode": {
    "name": "ipython",
    "version": 3
   },
   "file_extension": ".py",
   "mimetype": "text/x-python",
   "name": "python",
   "nbconvert_exporter": "python",
   "pygments_lexer": "ipython3",
   "version": "3.7.6"
  }
 },
 "nbformat": 4,
 "nbformat_minor": 4
}
