{
 "cells": [
  {
   "cell_type": "markdown",
   "metadata": {
    "colab_type": "text",
    "id": "6-w6JdXpymm5"
   },
   "source": [
    "# **Assignment 5 Solutions** #\n",
    "\n"
   ]
  },
  {
   "cell_type": "markdown",
   "metadata": {
    "colab_type": "text",
    "id": "-d604ucx7LtF"
   },
   "source": [
    "### **Q1. Implement a Union-Find Data Structure**  ###\n",
    "\n",
    "In lecture 6 we discussed Union-Find Data structures. The lecture was based on these [slides](https://www.cs.princeton.edu/courses/archive/spr09/cos226/lectures/01UnionFind.pdf). The slides contain Java code fo the Union-Find operations. For this assignment you should implement a Python class that implements a Union-Find Data Structure that uses weighting and path compression. Essentially this amounts to translating the code in the slides using the same specifications. Make sure you review the material and understand what the code does, and how it works. \n",
    "\n",
    "\n",
    "\n",
    "\n",
    "\n",
    "\n",
    "\n",
    "\n",
    "\n"
   ]
  },
  {
   "cell_type": "code",
   "execution_count": 1,
   "metadata": {
    "colab": {},
    "colab_type": "code",
    "executionInfo": {
     "elapsed": 229,
     "status": "ok",
     "timestamp": 1595185939918,
     "user": {
      "displayName": "Ioannis Koutis",
      "photoUrl": "https://lh3.googleusercontent.com/a-/AOh14Gj88YMRorz6z0Tz4baGdAALRkI2fBVTEWi0XdKh8A=s64",
      "userId": "17239720917701380808"
     },
     "user_tz": 240
    },
    "id": "5UMkl0gAtuU0"
   },
   "outputs": [],
   "source": [
    "# your implementation goes here\n",
    "\n",
    "class UnionFind:\n",
    "  \n",
    "  def __init__(self, n):\n",
    "    self.id = list(range(n))\n",
    "    self.sz = [1]*n\n",
    "\n",
    "  def root(self,i):\n",
    "    while (i != self.id[i]): \n",
    "      id[i] = id[id[i]];       #this is for path compression\n",
    "      i = self.id[i]\n",
    "\n",
    "    return i\n",
    "\n",
    "  def find(self,p,q):\n",
    "    return (self.root(p) == self.root(q))\n",
    "\n",
    "  def unite(self,p,q):\n",
    "    i = self.root(p)\n",
    "    j = self.root(q)\n",
    "\n",
    "    # weighted version\n",
    "    if self.sz[i]<self.sz[j]:\n",
    "      self.id[i] = j\n",
    "      self.sz[j] = self.sz[j]+self.sz[i]\n",
    "    else:\n",
    "      self.id[j] = i\n",
    "      self.sz[i] = self.sz[i]+self.sz[j]\n",
    "\n",
    "\n"
   ]
  },
  {
   "cell_type": "code",
   "execution_count": 2,
   "metadata": {
    "colab": {
     "base_uri": "https://localhost:8080/",
     "height": 107
    },
    "colab_type": "code",
    "executionInfo": {
     "elapsed": 400,
     "status": "ok",
     "timestamp": 1595185953975,
     "user": {
      "displayName": "Ioannis Koutis",
      "photoUrl": "https://lh3.googleusercontent.com/a-/AOh14Gj88YMRorz6z0Tz4baGdAALRkI2fBVTEWi0XdKh8A=s64",
      "userId": "17239720917701380808"
     },
     "user_tz": 240
    },
    "id": "iJUSKoIzb-tn",
    "outputId": "b16d325f-2cbe-465a-a68c-ac6d59206810"
   },
   "outputs": [
    {
     "name": "stdout",
     "output_type": "stream",
     "text": [
      "[0, 1, 2, 3, 4]\n",
      "[1, 1, 1, 1, 1]\n",
      "False\n",
      "[0, 1, 3, 3, 4]\n",
      "[1, 1, 1, 2, 1]\n"
     ]
    }
   ],
   "source": [
    "S = UnionFind(5)\n",
    "print(S.id)\n",
    "print(S.sz)\n",
    "\n",
    "print(S.find(3,2))\n",
    "\n",
    "S.unite(3,2)\n",
    "\n",
    "print(S.id)\n",
    "print(S.sz)"
   ]
  },
  {
   "cell_type": "markdown",
   "metadata": {
    "colab_type": "text",
    "id": "duqXrslqqa3X"
   },
   "source": [
    "### **Q2. Random Permutation**\n",
    "\n",
    "Implement a function *randperm* that takes as input a number $n$, and returns a random permutation of the numbers [0...n-1]. This was covered in lecture 7. Your implementation should use $O(1)$ space in addition to the space needed for the output.  (Note: you can use any random number generator functions from Python's *random* module, but you have to give you own implementation for randperm)"
   ]
  },
  {
   "cell_type": "code",
   "execution_count": 3,
   "metadata": {
    "colab": {},
    "colab_type": "code",
    "executionInfo": {
     "elapsed": 457,
     "status": "ok",
     "timestamp": 1595181248091,
     "user": {
      "displayName": "Ioannis Koutis",
      "photoUrl": "https://lh3.googleusercontent.com/a-/AOh14Gj88YMRorz6z0Tz4baGdAALRkI2fBVTEWi0XdKh8A=s64",
      "userId": "17239720917701380808"
     },
     "user_tz": 240
    },
    "id": "gjsU_wuSqy4A"
   },
   "outputs": [],
   "source": [
    "# your implementation goes here\n",
    "\n",
    "import random\n",
    "\n",
    "def randperm(n):\n",
    "  prm = list(range(n))\n",
    "\n",
    "  for j in range(n):\n",
    "\n",
    "    # random number in (0,n-j)\n",
    "    k = random.randrange(n-j)\n",
    "    \n",
    "    tmp = prm[k]\n",
    "    prm[k] = prm[n-1-j]\n",
    "    prm[n-1-j] = tmp\n",
    "\n",
    "  return prm\n",
    "    \n"
   ]
  },
  {
   "cell_type": "code",
   "execution_count": 4,
   "metadata": {
    "colab": {
     "base_uri": "https://localhost:8080/",
     "height": 35
    },
    "colab_type": "code",
    "executionInfo": {
     "elapsed": 412,
     "status": "ok",
     "timestamp": 1595181279370,
     "user": {
      "displayName": "Ioannis Koutis",
      "photoUrl": "https://lh3.googleusercontent.com/a-/AOh14Gj88YMRorz6z0Tz4baGdAALRkI2fBVTEWi0XdKh8A=s64",
      "userId": "17239720917701380808"
     },
     "user_tz": 240
    },
    "id": "bIyTSiBbNYuL",
    "outputId": "22baf46e-4c6f-4f92-d1b1-96f19529be7a"
   },
   "outputs": [
    {
     "data": {
      "text/plain": [
       "[0, 4, 3, 2, 1]"
      ]
     },
     "execution_count": 4,
     "metadata": {},
     "output_type": "execute_result"
    }
   ],
   "source": [
    "randperm(5)"
   ]
  },
  {
   "cell_type": "markdown",
   "metadata": {
    "colab_type": "text",
    "id": "c3ezTmqv0I0O"
   },
   "source": [
    "### **Q3. Adjacency matrices, powers, numpy** <br>\n",
    "(this exercise should be useful for your mini-project)\n",
    "\n",
    "![alt text](https://drive.google.com/thumbnail?id=1tIyXRGiQvMv-1EcJxzkQS2MpMNL9hUOA\n",
    ")\n",
    "\n",
    "Consider the above graph [(also here)](https://drive.google.com/file/d/1tIyXRGiQvMv-1EcJxzkQS2MpMNL9hUOA/view?usp=sharing).\n",
    "\n",
    "The following exercise should be **repeated twice**.  For the given directed graph and for the same graph where all edges have no directions. \n",
    "\n",
    "\n",
    "**(a)** Create a numpy array containing the adjacency matrix $A$ for the graph.\n",
    "\n",
    "**(b)** A sequence of nodes $v_1,v_2,...,v_k$ is called a walk on graph $G$, if $(v_i,v_{i+1})$ is an edge in $G$. The length of a walk with $k$ vertices is defined to be $k-1$.  In the above graph pick a pair of nodes $(i,j)$, and report all different walks of length 3 from $i$ to $j$. (That is find, all the ways of going from $i$ to $j$ in 3 steps). \n",
    "\n",
    "**(c)** Using numpy, calculate $A^3$, the third power of the adjacency matrix. Read the entry $(i,j)$ of this matrix. What do you observe?"
   ]
  },
  {
   "cell_type": "code",
   "execution_count": 5,
   "metadata": {
    "colab": {
     "base_uri": "https://localhost:8080/",
     "height": 197
    },
    "colab_type": "code",
    "executionInfo": {
     "elapsed": 430,
     "status": "ok",
     "timestamp": 1595182863771,
     "user": {
      "displayName": "Ioannis Koutis",
      "photoUrl": "https://lh3.googleusercontent.com/a-/AOh14Gj88YMRorz6z0Tz4baGdAALRkI2fBVTEWi0XdKh8A=s64",
      "userId": "17239720917701380808"
     },
     "user_tz": 240
    },
    "id": "OfsVWe5u7h-t",
    "outputId": "84a729a6-a86e-42f7-ff63-f8c4e8cc5acf"
   },
   "outputs": [
    {
     "name": "stdout",
     "output_type": "stream",
     "text": [
      "[[0. 1. 0. 0. 0. 0. 0. 0. 1. 0.]\n",
      " [0. 0. 0. 0. 1. 1. 0. 0. 0. 1.]\n",
      " [0. 0. 0. 0. 0. 1. 0. 0. 0. 2.]\n",
      " [0. 1. 1. 0. 0. 0. 0. 1. 0. 0.]\n",
      " [0. 1. 0. 0. 0. 0. 1. 0. 2. 0.]\n",
      " [0. 0. 0. 0. 0. 0. 0. 1. 0. 1.]\n",
      " [0. 0. 0. 0. 0. 0. 0. 1. 0. 1.]\n",
      " [0. 0. 0. 0. 1. 0. 2. 0. 2. 0.]\n",
      " [0. 1. 1. 0. 1. 1. 0. 0. 0. 1.]\n",
      " [0. 1. 1. 0. 1. 0. 1. 0. 1. 0.]]\n"
     ]
    }
   ],
   "source": [
    "# the following demonstrates the answer for the directed graph\n",
    "\n",
    "# your code goes here\n",
    "import numpy as np\n",
    "\n",
    "A = np.zeros([10,10])\n",
    "\n",
    "A[0,2] = 1\n",
    "A[1,9] = 1\n",
    "A[2,7] = 1\n",
    "A[3,0] = 1\n",
    "A[3,5] = 1\n",
    "A[4,1] = 1\n",
    "A[4,2] = 1\n",
    "A[5,4] = 1\n",
    "A[6,4] = 1\n",
    "A[7,1] = 1\n",
    "A[7,8] = 1\n",
    "A[8,5] = 1\n",
    "A[8,9] = 1\n",
    "A[9,6] = 1\n",
    "A[9,8] = 1\n",
    "\n",
    "A3 = np.linalg.matrix_power(A,3)\n",
    "\n",
    "# A3(i,j) is equal to the number of walks of length 3 between (i,j)\n",
    "\n",
    "print(A3)"
   ]
  },
  {
   "cell_type": "code",
   "execution_count": 6,
   "metadata": {
    "colab": {
     "base_uri": "https://localhost:8080/",
     "height": 197
    },
    "colab_type": "code",
    "executionInfo": {
     "elapsed": 300,
     "status": "ok",
     "timestamp": 1595183071637,
     "user": {
      "displayName": "Ioannis Koutis",
      "photoUrl": "https://lh3.googleusercontent.com/a-/AOh14Gj88YMRorz6z0Tz4baGdAALRkI2fBVTEWi0XdKh8A=s64",
      "userId": "17239720917701380808"
     },
     "user_tz": 240
    },
    "id": "EEm5eKgeTiT4",
    "outputId": "e9dfeb0d-afc1-4ca6-a440-96ddf6dc8613"
   },
   "outputs": [
    {
     "name": "stdout",
     "output_type": "stream",
     "text": [
      "[[0. 2. 4. 3. 1. 1. 1. 0. 2. 0.]\n",
      " [2. 0. 0. 1. 8. 2. 0. 7. 1. 7.]\n",
      " [4. 0. 0. 1. 7. 2. 0. 6. 1. 4.]\n",
      " [3. 1. 1. 0. 1. 4. 1. 2. 0. 1.]\n",
      " [1. 8. 7. 1. 0. 6. 6. 1. 4. 1.]\n",
      " [1. 2. 2. 4. 6. 0. 1. 2. 5. 2.]\n",
      " [1. 0. 0. 1. 6. 1. 0. 4. 1. 5.]\n",
      " [0. 7. 6. 2. 1. 2. 4. 0. 6. 0.]\n",
      " [2. 1. 1. 0. 4. 5. 1. 6. 0. 6.]\n",
      " [0. 7. 4. 1. 1. 2. 5. 0. 6. 0.]]\n"
     ]
    }
   ],
   "source": [
    "# the following demonstrates the answer for the undirected graph\n",
    "\n",
    "# to avoid re-typing all opposite edges, I will use the matrix transpose\n",
    "# transpose(A) is the array with the edges flipped\n",
    "# then summing up the two matrices gives all edges\n",
    "# because edge [8,9] has already both directions, its weight has to be halved in A_u\n",
    "\n",
    "A_u = A + np.transpose(A)\n",
    "A_u[8,9] = 1\n",
    "A_u[9,8] = 1\n",
    "\n",
    "A3_u = np.linalg.matrix_power(A_u,3)\n",
    "\n",
    "\n",
    "\n",
    "print(A3_u)"
   ]
  },
  {
   "cell_type": "markdown",
   "metadata": {
    "colab_type": "text",
    "id": "drSvVq3aQKEU"
   },
   "source": [
    "### **Q4. A theoretical question**\n",
    "\n",
    "Suppose a Python module contains an implementation of a function *maxSpanningTree(G)* that takes as input the adjacency list of graph $G$, with **positive** edge weights, and returns the edges of a maximum weight spanning tree. Further suppose that you can run this function, but you cannot access the code. \n",
    "\n",
    "Explain how to use *maxSpanningTree(G)* in order to implement a *minSpanningTree(G)* function. \n",
    "\n",
    "\n",
    "\n",
    "\n",
    "\n"
   ]
  },
  {
   "cell_type": "markdown",
   "metadata": {
    "colab_type": "text",
    "id": "sl9VvPqlTm0v"
   },
   "source": [
    "Make a copy $G'$ of $G$. Take all weights of $G'$, find the largest weight $w$, and then: negate all weights of $G'$ and add $w+1$. Running *maxSpanningTree(G)* on $G'$ will now give a tree $T'$, which contains the edges of a min spanning tree of $G$. "
   ]
  }
 ],
 "metadata": {
  "colab": {
   "authorship_tag": "ABX9TyMIDVUKHM+Zb1oCCcViqx9v",
   "collapsed_sections": [],
   "name": "Assignment-5 Solutions.ipynb",
   "provenance": [
    {
     "file_id": "1M2cXDG1aEoB6J3aTQxFlJd2FbBJo0JFn",
     "timestamp": 1595180574873
    },
    {
     "file_id": "1ZZAlpLVOTBR3cDsdI4_TfSBduK5hezzM",
     "timestamp": 1594052762963
    },
    {
     "file_id": "1PKLDRYCDM9OZyJMaAP82Jn-LNL_eGpqu",
     "timestamp": 1592158192728
    },
    {
     "file_id": "1FMjt0_-2PbYGxgaeOBvWJ8l2l2zlHd_m",
     "timestamp": 1591462638135
    },
    {
     "file_id": "1Ya8ehouTMbWIRYQ2-Vv5WX8Q6d09hIVn",
     "timestamp": 1590948359045
    }
   ]
  },
  "kernelspec": {
   "display_name": "Python 3",
   "language": "python",
   "name": "python3"
  },
  "language_info": {
   "codemirror_mode": {
    "name": "ipython",
    "version": 3
   },
   "file_extension": ".py",
   "mimetype": "text/x-python",
   "name": "python",
   "nbconvert_exporter": "python",
   "pygments_lexer": "ipython3",
   "version": "3.7.6"
  }
 },
 "nbformat": 4,
 "nbformat_minor": 4
}
