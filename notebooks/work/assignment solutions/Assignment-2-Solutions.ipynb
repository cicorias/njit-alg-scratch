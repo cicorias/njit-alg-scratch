{
 "cells": [
  {
   "cell_type": "markdown",
   "metadata": {
    "colab_type": "text",
    "id": "6-w6JdXpymm5"
   },
   "source": [
    "# **Assignment 2** #\n",
    "\n",
    "**Delivery Instructions**:  This assignment contains some theoretical questions but also coding. For the coding you are encouraged to work with Python, even if it is not your favorite language, because it will likely prepare you for future courses or professional requirements. If you do work with Python, you will be required to deliver a notebook similar to this one (you can actually take this and work on it directly). If you work with another language you will be required to return a link to a [repl.it](https://repl.it/), where any text will be in the form of comments. During the week, I will give you more information about how to upload your work. \n",
    "\n"
   ]
  },
  {
   "cell_type": "markdown",
   "metadata": {
    "colab_type": "text",
    "id": "-d604ucx7LtF"
   },
   "source": [
    "### **Q1. Implementing a max heap** ###\n",
    "\n",
    "The implementation of heapMaxRemove(H) in the following cell omits some important details. In a text cell, briefly discuss what the problem is, and then give a corrected implementation in a code cell.  \n"
   ]
  },
  {
   "cell_type": "markdown",
   "metadata": {
    "colab_type": "text",
    "id": "NfG6AGxO-st8"
   },
   "source": [
    "In heapInsert(H,x): \n",
    "1. n is the original heap length, instead of the length after appending; \n",
    "2. The if condition shall add parent_pos >= 0 because when pos == 0 for an empty heap, parent_pos becomes negative, so the index is wrapped around in python.\n",
    "\n",
    "In heapMaxRemove(H): Regardless the typo of c_2,\n",
    "1. We need consider special cases when len(H) <= 1\n",
    "2. Be careful with c1_pos = 2*pos+1  and c2_pos = 2*pos+2, because they may be out of range of the array.\n"
   ]
  },
  {
   "cell_type": "code",
   "execution_count": 1,
   "metadata": {
    "colab": {
     "base_uri": "https://localhost:8080/",
     "height": 34
    },
    "colab_type": "code",
    "executionInfo": {
     "elapsed": 349,
     "status": "ok",
     "timestamp": 1591847364009,
     "user": {
      "displayName": "Xiaopeng Jiang",
      "photoUrl": "https://lh3.googleusercontent.com/a-/AOh14GiBqsSdCZPbFUyvyI59amGbc8DnBqbbEwLVKCHqCg=s64",
      "userId": "02466737740006446452"
     },
     "user_tz": 240
    },
    "id": "bsxuuFMd-6St",
    "outputId": "8a33bfa8-37fb-4bdc-f17e-48ac14a832d1"
   },
   "outputs": [],
   "source": [
    "def heapInsert(H, x):\n",
    "\n",
    "    n = len(H)\n",
    "    if n==0:\n",
    "      H[0]=x\n",
    "      return\n",
    "\n",
    "    H.append(x)  # append in last leaf (next available position in array/list)\n",
    "\n",
    "\n",
    "    # now bubble up x\n",
    "    pos = n;  # current position of bubble-up\n",
    "    while pos>0:\n",
    "        parent_pos = (pos - 1) // 2\n",
    "\n",
    "        if H[parent_pos] < H[pos]:\n",
    "            H[pos] = H[parent_pos]\n",
    "            H[parent_pos] = x  # move x to parent's position\n",
    "            pos = parent_pos  # update current position\n",
    "        else:\n",
    "            break  # break the bubble-up loop\n",
    "    return H\n",
    "\n",
    "\n",
    "# function for removing max element from heap\n",
    "# WARNING: This function is intentionally incomplete --\n",
    "#          You will fix this in the assignment\n",
    "\n",
    "def heapMaxRemove(H):\n",
    "\n",
    "    if len(H) > 1:\n",
    "        x = H.pop()  # pop last element\n",
    "        H[0] = x  # put it in the place of max\n",
    "    elif len(H) == 1:\n",
    "        x = H.pop()\n",
    "    else:\n",
    "        print('Empty List!')\n",
    "\n",
    "    # now bubble-down x\n",
    "    pos = 0\n",
    "    while True:\n",
    "        if len(H) <= 1:\n",
    "            break\n",
    "\n",
    "        if 2 * pos + 1 < len(H) and 2 * pos + 2 < len(H):\n",
    "          c1_pos = 2 * pos + 1  # child 1 position\n",
    "          c2_pos = 2 * pos + 2  # child 2 position\n",
    "\n",
    "          if H[c1_pos] > H[c2_pos]:\n",
    "            c_pos = c1_pos\n",
    "          else:\n",
    "            c_pos = c2_pos  # which child is active in possible swap\n",
    "\n",
    "        elif 2 * pos + 1 < len(H):\n",
    "          c_pos = 2 * pos + 1  # child 2 position\n",
    "\n",
    "        if H[pos] < H[c_pos]:\n",
    "            H[pos] = H[c_pos]  # swap\n",
    "            H[c_pos] = x\n",
    "            pos = c_pos  # update current position\n",
    "        else:\n",
    "            break  # break\n"
   ]
  },
  {
   "cell_type": "markdown",
   "metadata": {
    "colab_type": "text",
    "id": "gWtNntjZJJxO"
   },
   "source": [
    "### **Q2. Finding the minimum element in a Max Heap**\n",
    "\n",
    "In a text cell, give an abstract description of an algorithm that takes as input a Max Heap, and finds the minimum in it. The algorithm should perform the **minimum possible number of comparisons**. In a code cell, give an implementation of your algorithm. Your code should take as input an array representing a Max Heap and return the minimum element. \n",
    "\n"
   ]
  },
  {
   "cell_type": "markdown",
   "metadata": {
    "colab_type": "text",
    "id": "Sn5GvWFsA2uv"
   },
   "source": [
    "Based on the property of a Max Heap, the parent node is bigger than its children, so the minimum must be in leafs. However, among the leaves, there is no garentee of their order, we must check each leaf. Approximately half of the elements in a heap are leaves, we must compare all of them."
   ]
  },
  {
   "cell_type": "code",
   "execution_count": 2,
   "metadata": {
    "colab": {},
    "colab_type": "code",
    "id": "Vl_FTA95A1J7"
   },
   "outputs": [],
   "source": [
    "def find_min_in_heap(heap, n): \n",
    "  \n",
    "    minimumElement = heap[n // 2] \n",
    "  \n",
    "    for i in range(1 + n // 2, n): \n",
    "        minimumElement = min(minimumElement,heap[i]) \n",
    "        \n",
    "    return minimumElement \n",
    "  "
   ]
  },
  {
   "cell_type": "markdown",
   "metadata": {
    "colab_type": "text",
    "id": "SVvBSS47ElLP"
   },
   "source": [
    "### **Q3. Sorting with original position memory**\n",
    "\n",
    "The function mergeSort($A$) we discussed in the first lecture returns an array $B$ which is the sorted version of the input array $A$.  Give a modification of mergeSort so that it in addition to $B$ it returns an array $P$, such that $P[j]$ contains the position of element $B[j]$ in array $A$. \n",
    "\n",
    "**example**: <br>\n",
    "A = [10, 3, 5] <br>\n",
    "B = [3, 5, 10] <br>\n",
    "P = [2, 3, 1]\n",
    "\n",
    "\n"
   ]
  },
  {
   "cell_type": "code",
   "execution_count": 3,
   "metadata": {
    "colab": {},
    "colab_type": "code",
    "id": "4dXyHbiaM6Ya"
   },
   "outputs": [],
   "source": [
    "# algorithm for merging two lists A, B with original positions PA and PB\n",
    "# all merges in A,B will be mirrored in PA, PB,\n",
    "def merge(A,B, PA ,PB):\n",
    "  C = []\n",
    "  P = []     \n",
    "  while len(A)>0 and len(B)>0:\n",
    "    if A[0] < B[0]:\n",
    "      x = A.pop(0)\n",
    "      C.append(x)\n",
    "      y = PA.pop(0)\n",
    "      P.append(y)\n",
    "    else:\n",
    "      x = B.pop(0)  \n",
    "      C.append(x)\n",
    "      y = PB.pop(0)\n",
    "      P.append(y)\n",
    "\n",
    "  if len(A)>0:\n",
    "    C.extend(A)   # append list A to the end of list C\n",
    "    P.extend(PA)\n",
    "  else:\n",
    "    C.extend(B)\n",
    "    P.extend(PB)\n",
    "  return C,P        # running time O(len(A)+len(B)) \n",
    "\n",
    "#  merge sort with original positions P\n",
    "#  P is an optional argument -- it is only supposed to be used with recursive calls\n",
    "def mergeSort(L,P = None):\n",
    "  n = len(L)\n",
    "  if P==None: \n",
    "    P = list(range(n))\n",
    "    C, P = mergeSort(L, P)\n",
    "    return C, P\n",
    "  elif n==1:\n",
    "    return L,P\n",
    "  else:\n",
    "    A, PA = mergeSort(L[0:(n//2)], P[0:(n//2)])\n",
    "    B, PB = mergeSort(L[(n//2):n], P[(n//2):n])\n",
    "    C, P = merge(A,B, PA, PB)\n",
    "    return C, P     # running time O(nlog n): huge savings over selection sort!\n"
   ]
  },
  {
   "cell_type": "markdown",
   "metadata": {
    "colab_type": "text",
    "id": "BieVTa-EKUCi"
   },
   "source": [
    "### **Q4. A theoretical question**\n",
    "\n",
    "Suppose we start from number $n>2$, and we keep hitting the $\\sqrt{\\cdot }$ (square-root) button in a scientific calculator. How many times (as a function of $n$) do we need to push the button before we see a number smaller than $2$ in the output? Can you give a justification?\n",
    "\n",
    "\n"
   ]
  },
  {
   "cell_type": "markdown",
   "metadata": {
    "colab_type": "text",
    "id": "PZv6UZpCOT2f"
   },
   "source": [
    "*your answer goes here*"
   ]
  },
  {
   "cell_type": "markdown",
   "metadata": {
    "colab_type": "text",
    "id": "fSjGXKgMzJVg"
   },
   "source": [
    "Suppose we push the button x times:\n",
    "\n",
    "$n^{1/2^x}\\lt 2$      \n",
    "Take $\\log_n$ both sides\n",
    "\n",
    "$1/2^x$ < $\\log_n 2$ \n",
    "\n",
    "$2^x$ > $\\log_2 n$\n",
    "\n",
    "x > $\\log_2(\\log_2 n)$\n",
    "\n"
   ]
  }
 ],
 "metadata": {
  "colab": {
   "collapsed_sections": [],
   "name": "Assignment-2-Solutions.ipynb",
   "provenance": [
    {
     "file_id": "1nmKVp-cRn5HcbbTp3jB0jl8b8yWxU8Eu",
     "timestamp": 1592098021535
    },
    {
     "file_id": "1FMjt0_-2PbYGxgaeOBvWJ8l2l2zlHd_m",
     "timestamp": 1591827796153
    },
    {
     "file_id": "1Ya8ehouTMbWIRYQ2-Vv5WX8Q6d09hIVn",
     "timestamp": 1590948359045
    }
   ]
  },
  "kernelspec": {
   "display_name": "Python 3",
   "language": "python",
   "name": "python3"
  },
  "language_info": {
   "codemirror_mode": {
    "name": "ipython",
    "version": 3
   },
   "file_extension": ".py",
   "mimetype": "text/x-python",
   "name": "python",
   "nbconvert_exporter": "python",
   "pygments_lexer": "ipython3",
   "version": "3.7.6"
  }
 },
 "nbformat": 4,
 "nbformat_minor": 4
}
