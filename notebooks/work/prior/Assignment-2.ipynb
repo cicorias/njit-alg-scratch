{
 "cells": [
  {
   "cell_type": "markdown",
   "metadata": {
    "colab_type": "text",
    "id": "6-w6JdXpymm5"
   },
   "source": [
    "# **Assignment 2** #\n",
    "\n",
    "**Delivery Instructions**:  This assignment contains some theoretical questions but also coding. For the coding you are encouraged to work with Python, even if it is not your favorite language, because it will likely prepare you for future courses or professional requirements. If you do work with Python, you will be required to deliver a notebook similar to this one (you can actually take this and work on it directly). If you work with another language you will be required to return a link to a [repl.it](https://repl.it/), where any text will be in the form of comments. During the week, I will give you more information about how to upload your work. \n",
    "\n"
   ]
  },
  {
   "cell_type": "markdown",
   "metadata": {
    "colab_type": "text",
    "id": "-d604ucx7LtF"
   },
   "source": [
    "### **Q1. Implementing a max heap** ###\n",
    "\n",
    "The implementation of heapMaxRemove(H) in the following cell omits some important details. In a text cell, briefly discuss what the problem is, and then give a corrected implementation in a code cell.  \n"
   ]
  },
  {
   "cell_type": "code",
   "execution_count": null,
   "metadata": {
    "colab": {},
    "colab_type": "code",
    "id": "pBFb9-cA7ai2"
   },
   "outputs": [],
   "source": [
    "# The following code implements a **max** Heap\n",
    "#\n",
    "# Strictly speaking, the following functions will take O(n) time\n",
    "# in Python, because changing an input array within the body of a function\n",
    "# causes the language to copy the entire array. We will soon see how to do this \n",
    "# better, using Python classes\n",
    "\n",
    "\n",
    "# function for inserting element in heap\n",
    "def heapInsert(H,x):\n",
    "  n = len(H)\n",
    "  H.append(x)   # append in last leaf (next available position in array/list)\n",
    "  \n",
    "  # now bubble up x\n",
    "  p = n;      # current position of bubble-up\n",
    "  while True:\n",
    "    parent_pos = (pos-1)//2 \n",
    "    if H[parent_pos] < H[pos]:  \n",
    "      H[pos] = H[parent_pos]     # copy parent value to current position\n",
    "      H[parent_pos] = x          # move x to parent's position\n",
    "      pos = parent_pos           # update current position\n",
    "    else:\n",
    "      break                      # break the bubble-up loop\n",
    "  return H\n",
    "\n",
    "# function for removing max element from heap\n",
    "# WARNING: This function is intentionally incomplete --\n",
    "#          You will fix this in the assignment \n",
    "\n",
    "def heapMaxRemove(H):\n",
    "  x = H.pop()                   # pop last element\n",
    "  H[0] = x                      # put it in the place of max \n",
    "  \n",
    "  # now bubble-down x\n",
    "  pos = 0\n",
    "  while True:\n",
    "    c1_pos = 2*pos+1            # child 1 position\n",
    "    c2_pos = 2*pos+2            # child 2 position\n",
    "    if H[c1_pos] > H[c_2]:\n",
    "      c_pos = c1_pos\n",
    "    else:\n",
    "      c_pos = c2_pos            # which child is active in possible swap\n",
    "    if H[pos]< H[c_pos]:\n",
    "      H[pos] = H[c_pos]         # swap \n",
    "      H[c_pos] = x \n",
    "      pos = c_pos               # update current position\n",
    "    else:\n",
    "      break                     # break \n",
    "\n",
    "\n"
   ]
  },
  {
   "cell_type": "markdown",
   "metadata": {
    "colab_type": "text",
    "id": "NfG6AGxO-st8"
   },
   "source": [
    "*your description of the problem goes here*\n",
    "\n"
   ]
  },
  {
   "cell_type": "code",
   "execution_count": null,
   "metadata": {
    "colab": {},
    "colab_type": "code",
    "id": "bsxuuFMd-6St"
   },
   "outputs": [],
   "source": [
    "# your code correction goes here"
   ]
  },
  {
   "cell_type": "markdown",
   "metadata": {
    "colab_type": "text",
    "id": "gWtNntjZJJxO"
   },
   "source": [
    "### **Q2. Finding the minimum element in a Max Heap**\n",
    "\n",
    "In a text cell, give an abstract description of an algorithm that takes as input a Max Heap, and finds the minimum in it. The algorithm should perform the **minimum possible number of comparisons**. In a code cell, give an implementation of your algorithm. Your code should take as input an array representing a Max Heap and return the minimum element. \n",
    "\n"
   ]
  },
  {
   "cell_type": "markdown",
   "metadata": {
    "colab_type": "text",
    "id": "Sn5GvWFsA2uv"
   },
   "source": [
    "*your algorithm description goes here*"
   ]
  },
  {
   "cell_type": "code",
   "execution_count": null,
   "metadata": {
    "colab": {},
    "colab_type": "code",
    "id": "Vl_FTA95A1J7"
   },
   "outputs": [],
   "source": [
    "# your code goes here"
   ]
  },
  {
   "cell_type": "markdown",
   "metadata": {
    "colab_type": "text",
    "id": "SVvBSS47ElLP"
   },
   "source": [
    "### **Q3. Sorting with original position memory**\n",
    "\n",
    "The function mergeSort($A$) we discussed in the first lecture returns an array $B$ which is the sorted version of the input array $A$.  Give a modification of mergeSort so that it in addition to $B$ it returns an array $P$, such that $P[j]$ contains the position of element $B[j]$ in array $A$. \n",
    "\n",
    "**example**: <br>\n",
    "A = [10, 3, 5] <br>\n",
    "B = [3, 5, 10] <br>\n",
    "P = [2, 3, 1]\n",
    "\n",
    "\n"
   ]
  },
  {
   "cell_type": "code",
   "execution_count": null,
   "metadata": {
    "colab": {},
    "colab_type": "code",
    "id": "WmJpG_qHDbM5"
   },
   "outputs": [],
   "source": [
    "# your code goes here"
   ]
  },
  {
   "cell_type": "markdown",
   "metadata": {
    "colab_type": "text",
    "id": "BieVTa-EKUCi"
   },
   "source": [
    "### **Q4. A theoretical question**\n",
    "\n",
    "Suppose we start from number $n>2$, and we keep hitting the $\\sqrt{\\cdot }$ (square-root) button in a scientific calculator. How many times (as a function of $n$) do we need to push the button before we see a number smaller than $2$ in the output? Can you give a justification?\n",
    "\n",
    "\n"
   ]
  },
  {
   "cell_type": "markdown",
   "metadata": {
    "colab_type": "text",
    "id": "PZv6UZpCOT2f"
   },
   "source": [
    "*your answer goes here*"
   ]
  },
  {
   "cell_type": "code",
   "execution_count": null,
   "metadata": {
    "colab": {},
    "colab_type": "code",
    "id": "Hnl1gIh-NMRL"
   },
   "outputs": [],
   "source": []
  }
 ],
 "metadata": {
  "colab": {
   "authorship_tag": "ABX9TyMMI7EQLx33TfJ+WHuYpgPi",
   "collapsed_sections": [],
   "name": "Assignment-2.ipynb",
   "provenance": [
    {
     "file_id": "1Ya8ehouTMbWIRYQ2-Vv5WX8Q6d09hIVn",
     "timestamp": 1590948359045
    }
   ]
  },
  "kernelspec": {
   "display_name": "Python 3",
   "language": "python",
   "name": "python3"
  },
  "language_info": {
   "codemirror_mode": {
    "name": "ipython",
    "version": 3
   },
   "file_extension": ".py",
   "mimetype": "text/x-python",
   "name": "python",
   "nbconvert_exporter": "python",
   "pygments_lexer": "ipython3",
   "version": "3.7.6"
  }
 },
 "nbformat": 4,
 "nbformat_minor": 4
}
