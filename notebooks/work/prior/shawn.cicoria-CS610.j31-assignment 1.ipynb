{
 "cells": [
  {
   "cell_type": "markdown",
   "metadata": {},
   "source": [
    "# Question 1\n",
    "\n",
    ">Response: looking at the data plotted, the `myPower` looks fairly definitively linear, whereas the `myPowerSmart` shows the logarithmic \"flattening\" that we hope for. It \"might\" be faster at first, but `mySmartPower` has a better asymptotic behaviour.\n",
    "\n",
    "# Question 2\n",
    "\n",
    "- (a) seems like a trick question. often the CPU architecture determins, but a 'byte' is 8 bits. in a 32bit CPU, an int can occupry 32 bits. I started on 8 bit CPU's --- 2^8, then 2^16, then 2^32, now we have mostly 2^64.\n",
    "\n",
    "- (b) $ \\large log_2(n) $   -- in python:`log(n, 2)`\n",
    "\n",
    "- (c) $ \\large log_2(n) $   -- in python:`log(n, 2)`\n",
    "\n",
    "- (d) $ \\large log_c(n) $   -- in python:`log(n, c)`\n",
    "\n",
    "\n",
    "# Question 3\n",
    "\n",
    "- (a) given an underlying array of fixed size, that we keep track of the total # elements in that array with some value `n` -- we can\n",
    "\n",
    "```\n",
    "while i < n:\n",
    "    L[i] = L[i+1]\n",
    "    if i == n:\n",
    "        break\n",
    "    i = i + 1\n",
    "```\n",
    "\n",
    "- (b) move the last element into the slot that we want to delete... Google asked me this question in an interview once.\n",
    "\n",
    "```\n",
    "L[i] = L[n]\n",
    "n = n - 1\n",
    "```\n"
   ]
  },
  {
   "cell_type": "markdown",
   "metadata": {},
   "source": [
    "\n",
    "# Question 4\n",
    "\n",
    "- (a) since both $ log_2(n) $ and $ log_c(n) $ represent algorithms that \"flatten\" as `n` increases, the relative importance is that they are more efficient than  `O(n)` or even an exponential growth. Given `c` is constant, with the log identity we have\n",
    "\n",
    "  $ \\large  log_c * n = log_2 * c * log_2 * n $   -- so, essentially we have $ log_2 * n $ as THE varying part of the running time.\n",
    "  \n",
    "  \n",
    "- (b)\n",
    "Ranking:\n",
    "\n",
    "    - $ n^n $\n",
    "    - $ n! $\n",
    "    - $ n^3 $\n",
    "    - $ n^2 $\n",
    "    - $ n $\n",
    "    - $ log_2 n $\n",
    "\n",
    "\n",
    "# Question 6\n",
    "Nested looping via brute force is the simple answer. \n",
    "\n",
    "- $ running time =O(n^3) $\n",
    "\n",
    ">Note: this looked promising: [Efficient Ramanujan](https://www.ocf.berkeley.edu/~wwu/cgi-bin/yabb/YaBB.cgi?board=riddles_cs;action=display;num=1288192473)"
   ]
  },
  {
   "cell_type": "code",
   "execution_count": 11,
   "metadata": {},
   "outputs": [
    {
     "data": {
      "text/plain": [
       "[ramanujan(a=0, b=10, c=0, d=10),\n",
       " ramanujan(a=0, b=10, c=10, d=0),\n",
       " ramanujan(a=1, b=9, c=1, d=9),\n",
       " ramanujan(a=1, b=9, c=9, d=1),\n",
       " ramanujan(a=2, b=8, c=2, d=8),\n",
       " ramanujan(a=2, b=8, c=8, d=2),\n",
       " ramanujan(a=3, b=7, c=3, d=7),\n",
       " ramanujan(a=3, b=7, c=7, d=3),\n",
       " ramanujan(a=4, b=6, c=4, d=6),\n",
       " ramanujan(a=4, b=6, c=6, d=4),\n",
       " ramanujan(a=5, b=5, c=5, d=5),\n",
       " ramanujan(a=6, b=4, c=4, d=6),\n",
       " ramanujan(a=6, b=4, c=6, d=4),\n",
       " ramanujan(a=6, b=10, c=12, d=-8),\n",
       " ramanujan(a=7, b=3, c=3, d=7),\n",
       " ramanujan(a=7, b=3, c=7, d=3),\n",
       " ramanujan(a=8, b=2, c=2, d=8),\n",
       " ramanujan(a=8, b=2, c=8, d=2),\n",
       " ramanujan(a=9, b=1, c=1, d=9),\n",
       " ramanujan(a=9, b=1, c=9, d=1),\n",
       " ramanujan(a=10, b=0, c=0, d=10),\n",
       " ramanujan(a=10, b=0, c=10, d=0),\n",
       " ramanujan(a=10, b=6, c=12, d=-8)]"
      ]
     },
     "execution_count": 11,
     "metadata": {},
     "output_type": "execute_result"
    }
   ],
   "source": [
    "## Question 6 Code: \n",
    "\n",
    "\n",
    "\n",
    "from math import pow, log\n",
    "from collections import namedtuple\n",
    "\n",
    "ramanujan = namedtuple('ramanujan', 'a b c d')\n",
    "# brute force...\n",
    "def pr(n):\n",
    "    rv = []\n",
    "    for a in range(n+1): # O(n)\n",
    "        for b in range(n+1): # O(n)\n",
    "            for c in range(n+1): # O(n)\n",
    "                d = n - (a+b+c)\n",
    "                if (pow(a,3)+pow(b,3) == pow(c,3)+ pow(d,3)):\n",
    "                    rv.append(ramanujan(a,b,c,d))\n",
    "                    \n",
    "    return rv\n",
    "\n",
    "\n",
    "\n",
    "result = pr(20)\n",
    "result"
   ]
  },
  {
   "cell_type": "code",
   "execution_count": 12,
   "metadata": {},
   "outputs": [
    {
     "data": {
      "text/plain": [
       "9.0"
      ]
     },
     "execution_count": 12,
     "metadata": {},
     "output_type": "execute_result"
    }
   ],
   "source": [
    "import math\n",
    "math.pow(3,2)"
   ]
  },
  {
   "cell_type": "markdown",
   "metadata": {},
   "source": [
    "# Addendum\n",
    "\n",
    "## Question 1 Work."
   ]
  },
  {
   "cell_type": "code",
   "execution_count": 13,
   "metadata": {},
   "outputs": [],
   "source": [
    "def myPower(x,k,p):         \n",
    "\n",
    "  y = 1                      \n",
    "  for i in range(k+1):         \n",
    "    y = y*x % p              \n",
    "  return y               # running time O(k)\n",
    "\n",
    "\n",
    "# x**k mod p: Simple recursive computation\n",
    "#  x^k = x* x^(k-1)\n",
    "\n",
    "def myPowerRec(x,k,p):         \n",
    "  if k==1:\n",
    "    return x % p                 \n",
    "  z = myPowerRec(x,k-1,p)       \n",
    "  y = x*z % p                      \n",
    "  return y               # running time O(k)\n",
    "\n",
    "# x**k mod p: Smart recursive computation\n",
    "# x^k = x^(k/2)*x^(k/2)    if k is even\n",
    "# x^k = x^(k/2)*x^(k/2)*x  if k is odd\n",
    "\n",
    "def myPowerSmart(x,k,p):        \n",
    "  if k==1:\n",
    "    return x % p                 \n",
    "  r = k % 2                      \n",
    "  k = k // 2   \n",
    "  z = myPowerSmart(x,k,p)       \n",
    "  if r == 0:                     \n",
    "    y = z*z  % p                 \n",
    "  else:               \n",
    "    y = z*z*x   % p              \n",
    "  return y              # running time O(log k)"
   ]
  },
  {
   "cell_type": "code",
   "execution_count": 14,
   "metadata": {},
   "outputs": [
    {
     "name": "stdout",
     "output_type": "stream",
     "text": [
      "--- 0.00013184547424316406 seconds ---\n",
      "for k = 10 --- hh:mm::ss.ms: 0:00:00.000008\n",
      "--- 0.0001373291015625 seconds ---\n",
      "for k = 100 --- hh:mm::ss.ms: 0:00:00.000009\n",
      "--- 0.00011587142944335938 seconds ---\n",
      "for k = 1000 --- hh:mm::ss.ms: 0:00:00.000008\n",
      "--- 0.00011205673217773438 seconds ---\n",
      "for k = 10000 --- hh:mm::ss.ms: 0:00:00.000009\n",
      "--- 0.00010967254638671875 seconds ---\n",
      "for k = 100000 --- hh:mm::ss.ms: 0:00:00.000010\n",
      "--- 0.00011181831359863281 seconds ---\n",
      "for k = 1000000 --- hh:mm::ss.ms: 0:00:00.000010\n",
      "--- 0.0001087188720703125 seconds ---\n",
      "for k = 10 --- hh:mm::ss.ms: 0:00:00.000006\n",
      "--- 0.0001087188720703125 seconds ---\n",
      "for k = 100 --- hh:mm::ss.ms: 0:00:00.000007\n",
      "--- 0.00010704994201660156 seconds ---\n",
      "for k = 1000 --- hh:mm::ss.ms: 0:00:00.000007\n",
      "--- 0.00014209747314453125 seconds ---\n",
      "for k = 10000 --- hh:mm::ss.ms: 0:00:00.000011\n",
      "--- 0.00011897087097167969 seconds ---\n",
      "for k = 100000 --- hh:mm::ss.ms: 0:00:00.000010\n",
      "--- 0.00012111663818359375 seconds ---\n",
      "for k = 1000000 --- hh:mm::ss.ms: 0:00:00.000011\n"
     ]
    },
    {
     "data": {
      "image/png": "[encoded data removed]",
      "text/plain": [
       "<Figure size 2880x720 with 1 Axes>"
      ]
     },
     "metadata": {
      "needs_background": "light"
     },
     "output_type": "display_data"
    }
   ],
   "source": [
    "import datetime\n",
    "from time import time as tm\n",
    "import timeit\n",
    "def getMinsSeconds(s):\n",
    "    return str(datetime.timedelta(seconds=s))\n",
    "\n",
    "def timeStatement(rawCode):\n",
    "    rv = []\n",
    "    repeat = 1\n",
    "    kRange = [10, 100, 1000, 10000, 100000, 1000000]#, 10000000]\n",
    "    for k in kRange:\n",
    "        statement = rawCode.format(k)\n",
    "        start_time = tm()\n",
    "        #s = (timeit.timeit(statement, number = repeat)) / repeat\n",
    "        s = (timeit.timeit(statement, number=repeat))\n",
    "        print(\"--- {} seconds ---\".format(tm() - start_time))\n",
    "        rv.append([k,s])\n",
    "        print(\"for k = {} --- hh:mm::ss.ms: {}\".format(k, getMinsSeconds(s)))\n",
    "        \n",
    "    return rv\n",
    "\n",
    "\n",
    "        \n",
    "statement_Smart='''\n",
    "from __main__ import myPowerSmart\n",
    "from __main__ import myPower\n",
    "\n",
    "x = 2\n",
    "p = 10\n",
    "\n",
    "myPowerSmart(x, {}, p)\n",
    "\n",
    "'''\n",
    "        \n",
    "        \n",
    "statement_Regular='''\n",
    "from __main__ import myPowerSmart\n",
    "from __main__ import myPower\n",
    "\n",
    "x = 2\n",
    "p = 10\n",
    "\n",
    "myPowerSmart(x, {}, p)\n",
    "\n",
    "'''\n",
    "    \n",
    "t_one = timeStatement(statement_Regular)\n",
    "t_two = timeStatement(statement_Smart)\n",
    "\n",
    "import matplotlib.pyplot as plt\n",
    "figsize = (40,10)\n",
    "fix, ax = plt.subplots(1,1, figsize=figsize)\n",
    "\n",
    "\n",
    "y1 = [row[1] for row in t_one]\n",
    "x1 = [row[0] for row in t_one]\n",
    "\n",
    "y2 = [row[1] for row in t_two]\n",
    "x2 = [row[0] for row in t_two]\n",
    "\n",
    "plt.plot(x1, y1, 'tab:red', label='myPower')\n",
    "plt.plot(x2, y2, 'tab:blue', label='mySmartPower')\n",
    "#ax.ticklabel_format(useOffset=False, style='plain')\n",
    "ax.get_xaxis().get_major_formatter().set_useOffset(False)\n",
    "ax.get_xaxis().get_major_formatter().set_scientific(False)\n",
    "ax.legend()\n",
    "\n",
    "\n",
    "plt.show()"
   ]
  },
  {
   "cell_type": "code",
   "execution_count": null,
   "metadata": {},
   "outputs": [],
   "source": []
  },
  {
   "cell_type": "code",
   "execution_count": 15,
   "metadata": {},
   "outputs": [
    {
     "name": "stdout",
     "output_type": "stream",
     "text": [
      "for k = 10 --- hh:mm::ss.ms: 0:00:00.000002\n",
      "for k = 100 --- hh:mm::ss.ms: 0:00:00.000005\n",
      "for k = 1000 --- hh:mm::ss.ms: 0:00:00.000047\n",
      "for k = 10000 --- hh:mm::ss.ms: 0:00:00.000467\n",
      "for k = 100000 --- hh:mm::ss.ms: 0:00:00.004870\n",
      "for k = 1000000 --- hh:mm::ss.ms: 0:00:00.056127\n",
      "for k = 10 --- hh:mm::ss.ms: 0:00:00.000002\n",
      "for k = 100 --- hh:mm::ss.ms: 0:00:00.000003\n",
      "for k = 1000 --- hh:mm::ss.ms: 0:00:00.000003\n",
      "for k = 10000 --- hh:mm::ss.ms: 0:00:00.000004\n",
      "for k = 100000 --- hh:mm::ss.ms: 0:00:00.000005\n",
      "for k = 1000000 --- hh:mm::ss.ms: 0:00:00.000006\n"
     ]
    },
    {
     "data": {
      "image/png": "[encoded data removed]",
      "text/plain": [
       "<Figure size 2880x720 with 1 Axes>"
      ]
     },
     "metadata": {
      "needs_background": "light"
     },
     "output_type": "display_data"
    }
   ],
   "source": [
    "def timeStatementEasy(f):\n",
    "    rv = []\n",
    "    x = 2\n",
    "    p = 10\n",
    "    kRange = [10, 100, 1000, 10000, 100000, 1000000]#, 10000000]\n",
    "    for k in kRange:\n",
    "        start_time = tm()\n",
    "        f(x,k,p)\n",
    "        s = tm() - start_time\n",
    "        rv.append([k,s])\n",
    "        print(\"for k = {} --- hh:mm::ss.ms: {}\".format(k, getMinsSeconds(s)))\n",
    "        \n",
    "    return rv\n",
    "\n",
    "t_one_b = timeStatementEasy(myPower)\n",
    "t_two_b = timeStatementEasy(myPowerSmart)\n",
    "\n",
    "\n",
    "import matplotlib.pyplot as plt\n",
    "figsize = (40,10)\n",
    "fix, ax = plt.subplots(1,1, figsize=figsize)\n",
    "\n",
    "\n",
    "y1 = [row[1] for row in t_one_b]\n",
    "x1 = [row[0] for row in t_one_b]\n",
    "\n",
    "y2 = [row[1] for row in t_two_b]\n",
    "x2 = [row[0] for row in t_two_b]\n",
    "\n",
    "plt.plot(x1, y1, 'tab:red', label='myPower')\n",
    "plt.plot(x2, y2, 'tab:blue', label='mySmartPower')\n",
    "#ax.ticklabel_format(useOffset=False, style='plain')\n",
    "ax.get_xaxis().get_major_formatter().set_useOffset(False)\n",
    "ax.get_xaxis().get_major_formatter().set_scientific(False)\n",
    "ax.legend()\n",
    "\n",
    "\n",
    "plt.show()"
   ]
  },
  {
   "cell_type": "code",
   "execution_count": 16,
   "metadata": {},
   "outputs": [
    {
     "name": "stdout",
     "output_type": "stream",
     "text": [
      "4.0\n",
      "6.0\n",
      "-4.0\n",
      "-6.0\n",
      "2.0\n",
      "3.0\n"
     ]
    }
   ],
   "source": [
    "## Question 2 work...\n",
    "\n",
    "from math import log\n",
    "\n",
    "print(log(16,2))\n",
    "print(log(64,2))\n",
    "\n",
    "print(log(16,1/2))\n",
    "print(log(64,1/2))\n",
    "\n",
    "\n",
    "print(log(16,4))\n",
    "print(log(64,4))\n"
   ]
  },
  {
   "cell_type": "code",
   "execution_count": 17,
   "metadata": {},
   "outputs": [
    {
     "data": {
      "text/plain": [
       "24"
      ]
     },
     "execution_count": 17,
     "metadata": {},
     "output_type": "execute_result"
    }
   ],
   "source": [
    "math.factorial(4)"
   ]
  },
  {
   "cell_type": "code",
   "execution_count": 18,
   "metadata": {},
   "outputs": [
    {
     "data": {
      "text/plain": [
       "256.0"
      ]
     },
     "execution_count": 18,
     "metadata": {},
     "output_type": "execute_result"
    }
   ],
   "source": [
    "math.pow(4, 4)"
   ]
  },
  {
   "cell_type": "code",
   "execution_count": 19,
   "metadata": {},
   "outputs": [
    {
     "data": {
      "text/plain": [
       "1.0"
      ]
     },
     "execution_count": 19,
     "metadata": {},
     "output_type": "execute_result"
    }
   ],
   "source": [
    "log(2,2)"
   ]
  },
  {
   "cell_type": "code",
   "execution_count": 20,
   "metadata": {},
   "outputs": [
    {
     "data": {
      "text/plain": [
       "1.5849625007211563"
      ]
     },
     "execution_count": 20,
     "metadata": {},
     "output_type": "execute_result"
    }
   ],
   "source": [
    "log(3,2)"
   ]
  },
  {
   "cell_type": "code",
   "execution_count": null,
   "metadata": {},
   "outputs": [],
   "source": []
  }
 ],
 "metadata": {
  "kernelspec": {
   "display_name": "Python 3",
   "language": "python",
   "name": "python3"
  },
  "language_info": {
   "codemirror_mode": {
    "name": "ipython",
    "version": 3
   },
   "file_extension": ".py",
   "mimetype": "text/x-python",
   "name": "python",
   "nbconvert_exporter": "python",
   "pygments_lexer": "ipython3",
   "version": "3.7.6"
  }
 },
 "nbformat": 4,
 "nbformat_minor": 4
}
