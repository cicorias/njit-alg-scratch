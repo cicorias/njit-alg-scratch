{
 "cells": [
  {
   "cell_type": "markdown",
   "metadata": {
    "colab_type": "text",
    "id": "6-w6JdXpymm5"
   },
   "source": [
    "# **Assignment 6** #\n",
    "\n",
    "**Delivery Instructions**:  Similar to previous assignments. See this [**Canvas announcement**](https://njit.instructure.com/courses/11882/discussion_topics/42914) for more details.\n",
    "\n",
    "\n",
    "<br>\n",
    "<br>\n",
    "\n",
    "---\n",
    "\n",
    "#### **Important Note**: If you want to follow the alternative track, as I explained in a previous discussions, you can skip questions marked with ^^. Please let me know that you do that !\n",
    "\n",
    "----\n"
   ]
  },
  {
   "cell_type": "markdown",
   "metadata": {
    "colab_type": "text",
    "id": "-d604ucx7LtF"
   },
   "source": [
    "---\n",
    "\n",
    "\n",
    "### **Q1. Check BST validity**  ###   \n",
    "\n",
    "\n",
    "Recall the definition of a the Node class which can be used for implementing binary trees. Write a function that takes as input such a tree $T$, and outputs True if $T$ is a valid BST, or False otherwise.  [Hint: Think recursion] \n",
    "\n",
    "\n",
    "\n",
    "\n",
    "\n",
    "\n",
    "\n",
    "\n",
    "\n",
    "\n"
   ]
  },
  {
   "cell_type": "code",
   "execution_count": 1,
   "metadata": {
    "colab": {},
    "colab_type": "code",
    "id": "5UMkl0gAtuU0"
   },
   "outputs": [],
   "source": [
    "# your implementation goes here\n",
    "\n",
    "class Node:\n",
    "  def __init__(self,key):\n",
    "    self.key = key\n",
    "    self.lchild = None\n",
    "    self.rchild = None \n",
    "\n",
    "# def checkBSTValidity(T):"
   ]
  },
  {
   "cell_type": "markdown",
   "metadata": {
    "colab_type": "text",
    "id": "duqXrslqqa3X"
   },
   "source": [
    "---\n",
    "\n",
    "\n",
    "### **Q2. Find the height of a Binary Tree**\n",
    "\n",
    "Write a function *BT_Height* that takes as input a binary tree and computes its height. [Hint: Again, think recursion]\n",
    "\n",
    "Side Note: If a BST is fully balanced then its height is exactly $\\lceil \\log_2 n \\rceil$. So, the height computation allows you to check if a tree is fully balanced. "
   ]
  },
  {
   "cell_type": "code",
   "execution_count": 2,
   "metadata": {
    "colab": {},
    "colab_type": "code",
    "id": "gjsU_wuSqy4A"
   },
   "outputs": [],
   "source": [
    "# your implementation goes here\n",
    "\n",
    "# def BT_Height(T):"
   ]
  },
  {
   "cell_type": "markdown",
   "metadata": {
    "colab_type": "text",
    "id": "c3ezTmqv0I0O"
   },
   "source": [
    "---\n",
    "\n",
    "\n",
    "### **Q3.  Find the closest leaf**  <br>\n",
    "\n",
    "Write a function *BT_ClosestLeaf* that takes as input a binary tree and computes the distance of the root to its closest leaf. "
   ]
  },
  {
   "cell_type": "code",
   "execution_count": 3,
   "metadata": {
    "colab": {},
    "colab_type": "code",
    "id": "OfsVWe5u7h-t"
   },
   "outputs": [],
   "source": [
    "# your code goes here\n",
    "\n",
    "\n",
    "# def BT_ClosestLeaf(T):"
   ]
  },
  {
   "cell_type": "markdown",
   "metadata": {
    "colab_type": "text",
    "id": "drSvVq3aQKEU"
   },
   "source": [
    "---\n",
    "\n",
    "\n",
    "### **Q4^^**. Sorted array to BST\n",
    "\n",
    "In the lecture we briefly discussed that inserting keys in a random order, will give a balanced tree with high probability. However, it's likely that the tree will not be fully balanced. Suppose now that we have already a sorted array of elements $S$ and we want to convert it to a **fully** balanced search tree. Write a function that accomplishes that goal\n",
    "\n",
    "\n",
    "\n",
    "\n",
    "\n"
   ]
  },
  {
   "cell_type": "code",
   "execution_count": 4,
   "metadata": {
    "colab": {},
    "colab_type": "code",
    "id": "TCtaL0-7vKlm"
   },
   "outputs": [],
   "source": [
    "# def sortedToBST(S)\n",
    "\n",
    "\n",
    "\n",
    "\n",
    "# output should be a Tree. "
   ]
  },
  {
   "cell_type": "markdown",
   "metadata": {
    "colab_type": "text",
    "id": "sl9VvPqlTm0v"
   },
   "source": [
    "---\n",
    "\n",
    "\n",
    "### **Q5. Find Max in BST**\n",
    "\n",
    "Write a function *BST_max* that takes as input a BST and returns the maximum key in it. This function should be iterative.  "
   ]
  },
  {
   "cell_type": "code",
   "execution_count": 5,
   "metadata": {
    "colab": {},
    "colab_type": "code",
    "id": "jG1n6Pfaw3IG"
   },
   "outputs": [],
   "source": [
    "# def BST_max(T):\n"
   ]
  },
  {
   "cell_type": "markdown",
   "metadata": {
    "colab_type": "text",
    "id": "wbSfO5m0xT3I"
   },
   "source": [
    "---\n",
    "\n",
    "### **Q6^^**. Check Red-Black Tree Validity\n",
    "\n",
    "In the following cell, I give the definition of a class that can be used to build Red-Black Trees. The *color* attribute is assumed to be 1 or 0, where 1 means 'black' and 0 means 'red'. \n",
    "Write a function *checkRBTreeValidity* that takes as input a RB Tree $T$ and outputs True if $T$ satisfies all RB properties we discussed in the lecture, and false otherwise. \n",
    "\n",
    "**Note 1**: As we discussed in the lecture the 'None' children are considered as black nodes without keys.  \n",
    "\n",
    "**Note 2**: Checking if a RB-Tree is a BST is also part of the question, but for it you can use Q1. "
   ]
  },
  {
   "cell_type": "code",
   "execution_count": 6,
   "metadata": {
    "colab": {},
    "colab_type": "code",
    "id": "1jfvfOf6xk1z"
   },
   "outputs": [],
   "source": [
    "class RBNode:\n",
    "  def __init__(self,key):\n",
    "    self.key = key\n",
    "    self.lchild = None\n",
    "    self.rchild = None \n",
    "    self.color = 1\n",
    "\n",
    "# def checkRBValidity(T)"
   ]
  }
 ],
 "metadata": {
  "colab": {
   "authorship_tag": "ABX9TyOZ1LpkCWZHxu6ChGg1oXHk",
   "collapsed_sections": [],
   "name": "Assignment-6.ipynb",
   "provenance": [
    {
     "file_id": "1M2cXDG1aEoB6J3aTQxFlJd2FbBJo0JFn",
     "timestamp": 1595170674711
    },
    {
     "file_id": "1ZZAlpLVOTBR3cDsdI4_TfSBduK5hezzM",
     "timestamp": 1594052762963
    },
    {
     "file_id": "1PKLDRYCDM9OZyJMaAP82Jn-LNL_eGpqu",
     "timestamp": 1592158192728
    },
    {
     "file_id": "1FMjt0_-2PbYGxgaeOBvWJ8l2l2zlHd_m",
     "timestamp": 1591462638135
    },
    {
     "file_id": "1Ya8ehouTMbWIRYQ2-Vv5WX8Q6d09hIVn",
     "timestamp": 1590948359045
    }
   ]
  },
  "kernelspec": {
   "display_name": "Python 3",
   "language": "python",
   "name": "python3"
  },
  "language_info": {
   "codemirror_mode": {
    "name": "ipython",
    "version": 3
   },
   "file_extension": ".py",
   "mimetype": "text/x-python",
   "name": "python",
   "nbconvert_exporter": "python",
   "pygments_lexer": "ipython3",
   "version": "3.7.6"
  }
 },
 "nbformat": 4,
 "nbformat_minor": 4
}
