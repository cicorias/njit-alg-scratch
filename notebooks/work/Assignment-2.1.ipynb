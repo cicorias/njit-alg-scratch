{
 "cells": [
  {
   "cell_type": "markdown",
   "metadata": {
    "colab_type": "text",
    "id": "6-w6JdXpymm5"
   },
   "source": [
    "# **Assignment 2** #\n",
    "\n",
    "**Delivery Instructions**:  This assignment contains some theoretical questions but also coding. For the coding you are encouraged to work with Python, even if it is not your favorite language, because it will likely prepare you for future courses or professional requirements. If you do work with Python, you will be required to deliver a notebook similar to this one (you can actually take this and work on it directly). If you work with another language you will be required to return a link to a [repl.it](https://repl.it/), where any text will be in the form of comments. During the week, I will give you more information about how to upload your work. \n",
    "\n"
   ]
  },
  {
   "cell_type": "markdown",
   "metadata": {
    "colab_type": "text",
    "id": "-d604ucx7LtF"
   },
   "source": [
    "### **Q1. Implementing a min heap** ###\n",
    "\n",
    "The implementation of heapMaxRemove(H) in the following cell omits some important details. In a text cell, briefly discuss what the problem is, and then give a corrected implementation in a code cell.  \n"
   ]
  },
  {
   "cell_type": "code",
   "execution_count": 1,
   "metadata": {
    "colab": {},
    "colab_type": "code",
    "id": "pBFb9-cA7ai2"
   },
   "outputs": [],
   "source": [
    "# The following code implements a **max** Heap\n",
    "#\n",
    "# Strictly speaking, the following functions will take O(n) time\n",
    "# in Python, because changing an input array within the body of a function\n",
    "# causes the language to copy the entire array. We will soon see how to do this \n",
    "# better, using Python classes\n",
    "\n",
    "\n",
    "# function for inserting element in heap\n",
    "def heapInsert(H,x):\n",
    "  n = len(H)\n",
    "  H.append(x)   # append in last leaf (next available position in array/list)\n",
    "  \n",
    "  # now bubble up x\n",
    "  pos = n;      # current position of bubble-up\n",
    "  while True:\n",
    "    parent_pos = (pos-1)//2 \n",
    "    if H[parent_pos] < H[pos]:  \n",
    "      H[pos] = H[parent_pos]     # copy parent value to current position\n",
    "      H[parent_pos] = x          # move x to parent's position\n",
    "      pos = parent_pos           # update current position\n",
    "    else:\n",
    "      break                      # break the bubble-up loop\n",
    "  return H\n",
    "\n",
    "# function for removing max element from heap\n",
    "# WARNING: This function is intentionally incomplete --\n",
    "#          You will fix this in the assignment \n",
    "\n",
    "def heapMaxRemove(H):\n",
    "  x = H.pop()                   # pop last element\n",
    "  H[0] = x                      # put it in the place of max \n",
    "  \n",
    "  # now bubble-down x\n",
    "  pos = 0\n",
    "  while True:\n",
    "    c1_pos = 2*pos+1            # child 1 position\n",
    "    c2_pos = 2*pos+2            # child 2 position\n",
    "    if H[c1_pos] > H[c_2]:\n",
    "      c_pos = c1_pos\n",
    "    else:\n",
    "      c_pos = c2_pos            # which child is active in possible swap\n",
    "    if H[pos]< H[c_pos]:\n",
    "      H[pos] = H[c_pos]         # swap \n",
    "      H[c_pos] = x \n",
    "      pos = c_pos               # update current position\n",
    "    else:\n",
    "      break                     # break \n",
    "\n",
    "\n"
   ]
  },
  {
   "cell_type": "markdown",
   "metadata": {
    "colab_type": "text",
    "id": "NfG6AGxO-st8"
   },
   "source": [
    "*your description of the problem goes here*\n",
    "\n",
    "I don't think heapInsert is actually implemented correctly? other than syntax, the resulting array doesn't follow what I have done in the past where the max element is the first element (and min is first when min heap)\n",
    "\n",
    "\n",
    "For remove, not dealing with the last two leaves - in that it overruns the array index.  And it needs to break at the end when at those two last leaves otherwise perpetual swapping. \n",
    "\n"
   ]
  },
  {
   "cell_type": "code",
   "execution_count": 2,
   "metadata": {
    "colab": {},
    "colab_type": "code",
    "id": "bsxuuFMd-6St"
   },
   "outputs": [
    {
     "data": {
      "text/plain": [
       "[19, 18, 17, 16, 15, 14, 13, 12, 11, 10, 9, 8, 7, 6, 5, 4, 3, 2, 1]"
      ]
     },
     "execution_count": 2,
     "metadata": {},
     "output_type": "execute_result"
    }
   ],
   "source": [
    "# your code correction goes here\n",
    "h = []\n",
    "for i in range(1,20,2):\n",
    "    heapInsert(h, i)\n",
    "for i in range(2,20,2):\n",
    "    heapInsert(h, i)\n",
    "\n",
    "h.sort(reverse=True)\n",
    "h_save = h\n",
    "h"
   ]
  },
  {
   "cell_type": "code",
   "execution_count": 3,
   "metadata": {},
   "outputs": [],
   "source": [
    "import math\n",
    "\n",
    "def heapMaxRemove(H):\n",
    "  rv = H[0]\n",
    "  n = len(H)\n",
    "    \n",
    "  x = H.pop()                   # pop last element\n",
    "  H[0] = x                      # put it in the place of max \n",
    "  \n",
    "  n = len(H)\n",
    "  # now bubble-down x\n",
    "  pos = 0\n",
    "  while True:\n",
    "    print('step pos: {} array: {}'.format(pos, h))\n",
    "    c1_pos =  2 * pos + 1            # child 1 position\n",
    "    c2_pos =  2 * pos + 2            # child 2 position\n",
    "    if c1_pos > n-1 or c2_pos > n-1:\n",
    "        c1_pos = n - 2# pos + 1\n",
    "        c2_pos = n - 1# pos + 2\n",
    "    \n",
    "    print('c1_pos: {}   c2_pos: {}'.format(c1_pos, c2_pos))\n",
    "    if H[c1_pos] > H[c2_pos]:\n",
    "      c_pos = c1_pos\n",
    "    else:\n",
    "      c_pos = c2_pos            # which child is active in possible swap\n",
    "        \n",
    "    if H[pos]< H[c_pos]:\n",
    "      #x = H[pos]\n",
    "      H[pos] = H[c_pos]         # swap \n",
    "      H[c_pos] = x \n",
    "      pos = c_pos               # update current position\n",
    "\n",
    "    else:\n",
    "      break                     # break \n",
    "    if c2_pos == n-1:\n",
    "      break\n",
    "    \n",
    "  return rv"
   ]
  },
  {
   "cell_type": "code",
   "execution_count": 4,
   "metadata": {},
   "outputs": [
    {
     "name": "stdout",
     "output_type": "stream",
     "text": [
      "len(h): 19 array: [19, 18, 17, 16, 15, 14, 13, 12, 11, 10, 9, 8, 7, 6, 5, 4, 3, 2, 1]\n",
      "step pos: 0 array: [1, 18, 17, 16, 15, 14, 13, 12, 11, 10, 9, 8, 7, 6, 5, 4, 3, 2]\n",
      "c1_pos: 1   c2_pos: 2\n",
      "step pos: 1 array: [18, 1, 17, 16, 15, 14, 13, 12, 11, 10, 9, 8, 7, 6, 5, 4, 3, 2]\n",
      "c1_pos: 3   c2_pos: 4\n",
      "step pos: 3 array: [18, 16, 17, 1, 15, 14, 13, 12, 11, 10, 9, 8, 7, 6, 5, 4, 3, 2]\n",
      "c1_pos: 7   c2_pos: 8\n",
      "step pos: 7 array: [18, 16, 17, 12, 15, 14, 13, 1, 11, 10, 9, 8, 7, 6, 5, 4, 3, 2]\n",
      "c1_pos: 15   c2_pos: 16\n",
      "step pos: 15 array: [18, 16, 17, 12, 15, 14, 13, 4, 11, 10, 9, 8, 7, 6, 5, 1, 3, 2]\n",
      "c1_pos: 16   c2_pos: 17\n",
      "rv: 19\n"
     ]
    },
    {
     "data": {
      "text/plain": [
       "[18, 16, 17, 12, 15, 14, 13, 4, 11, 10, 9, 8, 7, 6, 5, 3, 1, 2]"
      ]
     },
     "execution_count": 4,
     "metadata": {},
     "output_type": "execute_result"
    }
   ],
   "source": [
    "print('len(h): {} array: {}'.format(len(h), h))\n",
    "print('rv: {}'.format(heapMaxRemove(h)))\n",
    "h"
   ]
  },
  {
   "cell_type": "markdown",
   "metadata": {
    "colab_type": "text",
    "id": "gWtNntjZJJxO"
   },
   "source": [
    "### **Q2. Finding the minimum element in a Max Heap**\n",
    "\n",
    "In a text cell, give an abstract description of an algorithm that takes as input a Max Heap, and finds the minimum in it. The algorithm should perform the \n",
    "\n",
    "*   determine the number of total layers, which is floor(sqrt(n - 1))\n",
    "*   the last \"row\" of the tree contains the min, so\n",
    "*   \n",
    "\n",
    "**minimum possible number of comparisons**. In a code cell, give an implementation of your algorithm. Your code should take as input an array representing a Max Heap and return the minimum element. \n",
    "\n"
   ]
  },
  {
   "cell_type": "markdown",
   "metadata": {
    "colab_type": "text",
    "id": "Sn5GvWFsA2uv"
   },
   "source": [
    "*your algorithm description goes here*"
   ]
  },
  {
   "cell_type": "code",
   "execution_count": 5,
   "metadata": {
    "colab": {},
    "colab_type": "code",
    "id": "Vl_FTA95A1J7"
   },
   "outputs": [
    {
     "name": "stdout",
     "output_type": "stream",
     "text": [
      "array: [18, 16, 17, 12, 15, 14, 13, 4, 11, 10, 9, 8, 7, 6, 5, 3, 1, 2]\n",
      "nodes: 18\n",
      "levels: 5\n",
      "a full balance tree with 4 levels has a count of 15\n",
      "last offset: -3 is how far from the end to check\n",
      "last non-balance level: [3, 1, 2]\n",
      "we will only get min of that level: 1\n"
     ]
    },
    {
     "data": {
      "text/plain": [
       "1"
      ]
     },
     "execution_count": 5,
     "metadata": {},
     "output_type": "execute_result"
    }
   ],
   "source": [
    "# your code goes here\n",
    "\n",
    "def get_min(H):\n",
    "    n = len(H)\n",
    "    print('array: {}'.format(H))\n",
    "    print('nodes: {}'.format(n))\n",
    "    # num of levels full or partial, starts at 1\n",
    "    levels = 1 + math.floor(math.log2(n))\n",
    "    blc = int(math.pow(2, levels - 1 ) - 1) #full balance count\n",
    "    last_offset = blc - n\n",
    "    print('levels: {}'.format(levels))\n",
    "    print('a full balance tree with {} levels has a count of {}'.format(levels - 1, blc))\n",
    "    print('last offset: {} is how far from the end to check'.format(last_offset))\n",
    "    print('last non-balance level: {}'.format(format(H[blc:n])))\n",
    "    print('we will only get min of that level: {}'.format(min(H[blc:n])))\n",
    "    return min(H[blc:n])\n",
    "    \n",
    "\n",
    "get_min(h_save)   "
   ]
  },
  {
   "cell_type": "markdown",
   "metadata": {
    "colab_type": "text",
    "id": "SVvBSS47ElLP"
   },
   "source": [
    "### **Q3. Sorting with original position memory**\n",
    "\n",
    "The function mergeSort($A$) we discussed in the first lecture returns an array $B$ which is the sorted version of the input array $A$.  Give a modification of mergeSort so that it in addition to $B$ it returns an array $P$, such that $P[j]$ contains the position of element $B[j]$ in array $A$. \n",
    "\n",
    "**example**: <br>\n",
    "A = [10, 3, 5] <br>\n",
    "B = [3, 5, 10] <br>\n",
    "P = [2, 3, 1]\n",
    "\n",
    "\n"
   ]
  },
  {
   "cell_type": "code",
   "execution_count": 1,
   "metadata": {
    "colab": {},
    "colab_type": "code",
    "id": "WmJpG_qHDbM5"
   },
   "outputs": [
    {
     "data": {
      "text/plain": [
       "([1, 2, 3, 4, 5, 6, 9, 10], {10: 0, 3: 0, 5: 0, 6: 0, 2: 0, 9: 0, 4: 0, 1: 0})"
      ]
     },
     "execution_count": 1,
     "metadata": {},
     "output_type": "execute_result"
    }
   ],
   "source": [
    "# your code goes here\n",
    "# algorithm for merging two lists \n",
    "def merge(A,B):\n",
    "  C = []\n",
    "  while len(A)>0 and len(B)>0:\n",
    "    if A[0] < B[0]:\n",
    "      x = A.pop(0)\n",
    "      C.append(x)\n",
    "    else:\n",
    "      x = B.pop(0)  \n",
    "      C.append(x)\n",
    "  if len(A)>0:\n",
    "    C.extend(A)   # append list A to the end of list C\n",
    "  else:\n",
    "    C.extend(B)\n",
    "  return C        # running time O(len(A)+len(B)) \n",
    "\n",
    "#  merge sort: what an elegant function!\n",
    "def mergeSort(L, p = None):\n",
    "    if p is None:\n",
    "        #my idea was to have a dict keep track of the item\n",
    "        # but to no avail\n",
    "        p = { i : 0 for i in L }\n",
    "        \n",
    "    n = len(L)\n",
    "    #print('n: {}'.format(n))\n",
    "    if n==1:\n",
    "      #p[L[0]] = s\n",
    "      #print('base doing..L: {}'.format(L))\n",
    "      return L, p\n",
    "    else:\n",
    "      A, p1 = mergeSort(L[0:(n//2)], p = p)  # p[0:(n//2)])\n",
    "      B, p2 = mergeSort(L[(n//2):n], p = p)  #[(n//2):n])\n",
    "      C = merge(A,B)\n",
    "      #p = merge(p1, p2)\n",
    "      return C, p   # running time O(nlog n): huge savings over selection sort!\n",
    "    \n",
    "    \n",
    "    \n",
    "A = [10, 3, 5]\n",
    "\n",
    "A = [10, 3, 5, 6, 2, 9, 4, 1]\n",
    "\n",
    "P = dict()\n",
    "mergeSort(A)"
   ]
  },
  {
   "cell_type": "markdown",
   "metadata": {
    "colab_type": "text",
    "id": "BieVTa-EKUCi"
   },
   "source": [
    "### **Q4. A theoretical question**\n",
    "\n",
    "Suppose we start from number $n$, and we keep hitting the $\\sqrt{\\cdot }$ button in a scientific calculator. How many times (as a function of $n$) do we need to push the button before we see a number smaller than $2$ in the output? Can you give a justification?\n",
    "\n",
    "\n"
   ]
  },
  {
   "cell_type": "markdown",
   "metadata": {
    "colab_type": "text",
    "id": "PZv6UZpCOT2f"
   },
   "source": [
    "*your answer goes here*\n",
    "\n",
    "- O(log n)  or is it O(log sqrt(n))\n",
    "\n",
    "inverse of exp growth.    ----  sqrt(sqrt(sqrt(n)))"
   ]
  },
  {
   "cell_type": "code",
   "execution_count": 7,
   "metadata": {
    "colab": {},
    "colab_type": "code",
    "id": "Hnl1gIh-NMRL"
   },
   "outputs": [
    {
     "name": "stdout",
     "output_type": "stream",
     "text": [
      "sqrt 80 = 8.94427190999916 \n",
      "new n: 8.94427190999916\n",
      "sqrt 8.94427190999916 = 2.990697562442441 \n",
      "new n: 2.990697562442441\n"
     ]
    },
    {
     "data": {
      "text/plain": [
       "3"
      ]
     },
     "execution_count": 7,
     "metadata": {},
     "output_type": "execute_result"
    }
   ],
   "source": [
    "\n",
    "\n",
    "def sqrt_till_Less(n):\n",
    "    ic = 1\n",
    "    while( math.sqrt(n) > 2):\n",
    "        ic = ic + 1\n",
    "        print('sqrt {} = {} '.format(n, math.sqrt(n)))\n",
    "        n = math.sqrt(n)   # log(n)\n",
    "        print('new n: {}'.format(n))\n",
    "        \n",
    "    return ic\n",
    "\n",
    "\n",
    "\n",
    "sqrt_till_Less(80)"
   ]
  },
  {
   "cell_type": "code",
   "execution_count": null,
   "metadata": {},
   "outputs": [],
   "source": []
  }
 ],
 "metadata": {
  "colab": {
   "authorship_tag": "ABX9TyNcELooxzchPtNBghzBuqnK",
   "collapsed_sections": [],
   "name": "Assignment-2.ipynb",
   "provenance": [
    {
     "file_id": "1Ya8ehouTMbWIRYQ2-Vv5WX8Q6d09hIVn",
     "timestamp": 1590948359045
    }
   ]
  },
  "kernelspec": {
   "display_name": "Python 3",
   "language": "python",
   "name": "python3"
  },
  "language_info": {
   "codemirror_mode": {
    "name": "ipython",
    "version": 3
   },
   "file_extension": ".py",
   "mimetype": "text/x-python",
   "name": "python",
   "nbconvert_exporter": "python",
   "pygments_lexer": "ipython3",
   "version": "3.7.6"
  }
 },
 "nbformat": 4,
 "nbformat_minor": 4
}
