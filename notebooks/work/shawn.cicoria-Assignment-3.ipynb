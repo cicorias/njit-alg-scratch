{
 "cells": [
  {
   "cell_type": "markdown",
   "metadata": {
    "colab_type": "text",
    "id": "6-w6JdXpymm5"
   },
   "source": [
    "# **Assignment 3** #\n",
    "\n",
    "**Delivery Instructions**:  Similar to assignment 2. See this [**Canvas announcement**](https://njit.instructure.com/courses/11882/discussion_topics/42914) for more details. \n",
    "\n"
   ]
  },
  {
   "cell_type": "markdown",
   "metadata": {
    "colab_type": "text",
    "id": "-d604ucx7LtF"
   },
   "source": [
    "### **Q1. A task scheduling problem** ###\n",
    "\n",
    "The input for this problem is a set of $n$ tasks. Task $i$ has a start time and and end time $(s_i, t_i)$. The goal is to complete the **maximum possible number of tasks** under this constraint: if we choose to perform some task $i$, then no other task that overlaps with it can be performed. Or in other words, if a task starts or ends between $s_i$ and $t_i$, then it cannot be performed. \n",
    "\n",
    "**(i)** For this problem you should give an algorithm that returns a set of tasks whose number is the maximum possible that can be performed. You should target a algorithm that keeps augmenting a list of tasks by a simple 'greedy' criterion. Please describe your algorithm in text cell.  \n",
    "\n",
    "**(ii)** You should also give an implementation of the algorithm. You can assume that the input is given in the format specified in the following code cell.\n",
    "\n",
    "\n",
    "\n",
    "\n",
    "\n",
    "\n",
    "\n",
    "\n",
    "\n"
   ]
  },
  {
   "cell_type": "code",
   "execution_count": 11,
   "metadata": {
    "colab": {},
    "colab_type": "code",
    "id": "qDA17QZdoBCv"
   },
   "outputs": [],
   "source": [
    "\n",
    "Tasks = [(1, 4), (3, 5), (0, 6), (5, 7), (3, 8), (5, 9), (6, 10), (8, 11), (8, 12), (2, 13), (12, 14)]\n",
    "\n",
    "#https://en.wikipedia.org/wiki/Dijkstra%27s_algorithm"
   ]
  },
  {
   "cell_type": "markdown",
   "metadata": {
    "colab_type": "text",
    "id": "ATKnF7dIoAH3"
   },
   "source": [
    "your algorithm description goes here\n",
    "### Description\n",
    "I attempted several approaches but for each, a basic loop that does:\n",
    "1. select item based upon \"rule\"\n",
    "1. eliminate all other items that conflict -- which is:\n",
    "    `i` is the chosen task; `j` is the task being evaluated for conflict:\n",
    "    - $   s(i) < s(j) < f(i) OR f(i) > f(j) > s(i) $\n",
    "1. continue back on rule selection\n",
    "\n",
    "The approaches I looked at:\n",
    "- lowest start and shortest time (together)\n",
    "- smallest interval\n",
    "- earliest start time\n",
    "- earliest finish time\n",
    "\n",
    "I ended up with `earliest finish time`\n"
   ]
  },
  {
   "cell_type": "code",
   "execution_count": 12,
   "metadata": {
    "colab": {},
    "colab_type": "code",
    "id": "5UMkl0gAtuU0"
   },
   "outputs": [
    {
     "data": {
      "text/plain": [
       "[(1, 4), (5, 7), (8, 11), (12, 14)]"
      ]
     },
     "execution_count": 12,
     "metadata": {},
     "output_type": "execute_result"
    }
   ],
   "source": [
    "import numpy as np\n",
    "\n",
    "Tasks = [(1, 4), (3, 5), (0, 6), (5, 7), (3, 8), (5, 9), (6, 10), (8, 11), (8, 12), (2, 13), (12, 14)]\n",
    "\n",
    "def tasks_order(Tasks):\n",
    "    rv = []\n",
    "    t2 = np.array(Tasks)\n",
    "    sorted_tasks = t2[t2[:,1].argsort()]\n",
    "    \n",
    "    while len(sorted_tasks) > 0:\n",
    "        #get the first tasks as it is the earliest\n",
    "        choice = sorted_tasks[0:1, :]\n",
    "        si = choice[0][0]\n",
    "        fi = choice[0][1]\n",
    "        #append it to the return value\n",
    "        rv.append((si,fi))\n",
    "        #remove it from the list -- redundant as filter below accomodates.\n",
    "        #sorted_tasks = sorted_tasks[1:, :]\n",
    "        #select remaining tasks that start is greater than THIS finish\n",
    "        sorted_tasks = sorted_tasks[ ((sorted_tasks[:,0] > fi)) ]\n",
    "\n",
    "    return rv\n",
    "    \n",
    "    \n",
    "tasks_order(Tasks)\n"
   ]
  },
  {
   "cell_type": "markdown",
   "metadata": {
    "colab_type": "text",
    "id": "vEwoQMZ8wJs_"
   },
   "source": [
    "### **Q2. A Heap with composite values**\n",
    "\n",
    "**(i)** The heap class we discussed in lecture 2 implicitly assumes that the heap stores only **keys** (numbers). However, as we discussed, we may want to store composite elements that contain values along with the keys. In this question you are asked to modify the following implementation of the class in order to handle elements that are assumed to have a special **key** field. You can demonstrate this on the *heapInsert* function -- the max extraction function will be very similar. \n",
    "\n",
    "**(ii)** You can see Lecture-3 notebook to see how part (i) is done when the data structure is a simple list. This list was used for a suboptimal implementation of Prim's MST algorithm. Assuming you have a modified class from part (i), how would you modify Prim's implementation in order to get an $O(n \\log n)$ running time? Please give a short answer in a text cell. \n",
    "\n"
   ]
  },
  {
   "cell_type": "code",
   "execution_count": 13,
   "metadata": {
    "colab": {},
    "colab_type": "code",
    "id": "0--4kdGxwIgl"
   },
   "outputs": [],
   "source": [
    "class myMaxHeap:\n",
    "  def __init__(self):\n",
    "    self.H = []\n",
    "\n",
    "\n",
    "  def heapInsert(self,x):\n",
    "    n = len(self.H)\n",
    "    self.H.append(x)   # append in last leaf (next available position in array/list)\n",
    "    \n",
    "    # now bubble up x\n",
    "    pos = n;      # current position of bubble-up\n",
    "    while True:\n",
    "      parent_pos = (pos-1)//2 \n",
    "      if self.H[parent_pos] < self.H[pos]:  \n",
    "        self.H[pos] = self.H[parent_pos]     # copy parent value to current position\n",
    "        self.H[parent_pos] = x               # move x to parent's position\n",
    "        pos = parent_pos                     # update current position\n",
    "      else:\n",
    "        break                                # break the bubble-up loop\n",
    "    # return H    "
   ]
  },
  {
   "cell_type": "markdown",
   "metadata": {
    "colab_type": "text",
    "id": "NfG6AGxO-st8"
   },
   "source": [
    "*your description of the problem goes here*\n",
    "\n",
    "\n",
    "## Q2 (i) --- answer"
   ]
  },
  {
   "cell_type": "code",
   "execution_count": 14,
   "metadata": {
    "colab": {},
    "colab_type": "code",
    "id": "bsxuuFMd-6St"
   },
   "outputs": [],
   "source": [
    "# your code correction goes here\n",
    "\n",
    "## here using named tuples\n",
    "\n",
    "import collections\n",
    "kv = collections.namedtuple('kv', 'key value')\n",
    "\n",
    "class myMaxHeap:\n",
    "    def __init__(self):\n",
    "        self.H = []\n",
    "\n",
    "    def heapInsert(self, x: kv):  #using type decorators\n",
    "        n = len(self.H)\n",
    "        # append in last leaf (next available position in array/list)\n",
    "        self.H.append(x)\n",
    "\n",
    "        # now bubble up x\n",
    "        pos = n      # current position of bubble-up\n",
    "        while True:\n",
    "            if pos == 0:\n",
    "                break\n",
    "            parent_pos = (pos-1)//2\n",
    "            #cast and obtain the key for comparison\n",
    "            if kv(*self.H[parent_pos]).key < kv(*self.H[pos]).key:\n",
    "                # copy parent value to current position\n",
    "                self.H[pos] = self.H[parent_pos]\n",
    "                # move x to parent's position\n",
    "                self.H[parent_pos] = x\n",
    "                pos = parent_pos                     # update current position\n",
    "            else:\n",
    "                break                                # break the bubble-up loop\n",
    "        # return self.H\n",
    "\n",
    "\n"
   ]
  },
  {
   "cell_type": "markdown",
   "metadata": {},
   "source": [
    "## Q2 (ii) --- answer\n",
    "\n",
    ">> the edgeMax class can be implemented using a max heap. As the primary operation `max_edge = H.extractMax()` - this could be a simple O(log n) operation.\n",
    "\n"
   ]
  },
  {
   "cell_type": "markdown",
   "metadata": {
    "colab_type": "text",
    "id": "gWtNntjZJJxO"
   },
   "source": [
    "### **Q3. Augmented heap for insertion performance tracking**\n",
    "\n",
    "**(i)** Give a modification of *class myMaxHeap* to include the following attribute: \n",
    "\n",
    "*   *n_comparisons*: The number of comparisons that *heapInsert* performed since the initialization of the heap instance. \n",
    "\n",
    "**(ii)** Suppose that you want to insert in a heap the numbers $1,\\ldots, n$. In what sequence should you insert them in order to cause the maximum possible number of comparisons in *heapInsert* ? What is the asymptotic number of comparisons as a function of $n$?\n",
    "\n",
    "**(iii)** Describe and implement an insertion sequence that will make the number of comparisons significantly smaller. (Hint: think random)\n",
    "\n",
    "**(iv)** Use the modified class from part (i) in order to count exactly the number of comparisons for the two strategies in (ii) and (iii). Do that for $n=10^2, 10^4, 10^6$, and report the numbers. \n",
    "\n",
    "\n",
    "\n"
   ]
  },
  {
   "cell_type": "markdown",
   "metadata": {
    "colab_type": "text",
    "id": "Sn5GvWFsA2uv"
   },
   "source": [
    "*your algorithm description goes here*"
   ]
  },
  {
   "cell_type": "code",
   "execution_count": 15,
   "metadata": {
    "colab": {},
    "colab_type": "code",
    "id": "Vl_FTA95A1J7"
   },
   "outputs": [],
   "source": [
    "# your code goes here\n",
    "\n",
    "## Q3 (i)\n",
    "\n",
    "import collections\n",
    "kv = collections.namedtuple('kv', 'key value')\n",
    "\n",
    "class myMaxHeap:\n",
    "    def __init__(self):\n",
    "        self.H = []\n",
    "        self.K = 0  #keep track of comparitions\n",
    "\n",
    "    def heapInsert(self, x: kv):  #using type decorators\n",
    "        n = len(self.H)\n",
    "        # append in last leaf (next available position in array/list)\n",
    "        self.H.append(x)\n",
    "\n",
    "        # now bubble up x\n",
    "        pos = n      # current position of bubble-up\n",
    "        while True:\n",
    "            if pos == 0:\n",
    "                break\n",
    "            parent_pos = (pos-1)//2\n",
    "            #cast and obtain the key for comparison\n",
    "            if kv(*self.H[parent_pos]).key < kv(*self.H[pos]).key:\n",
    "                self.K += 1. #add another comparison to the net total since create.\n",
    "                # copy parent value to current position\n",
    "                self.H[pos] = self.H[parent_pos]\n",
    "                # move x to parent's position\n",
    "                self.H[parent_pos] = x\n",
    "                pos = parent_pos                     # update current position\n",
    "            else:\n",
    "                break                                # break the bubble-up loop\n",
    "        # return self.H\n",
    "        \n",
    "    @property\n",
    "    def total_comparisons(self):\n",
    "        return self.K\n",
    "    \n",
    "    @property\n",
    "    def heap(self):\n",
    "        return self.H"
   ]
  },
  {
   "cell_type": "markdown",
   "metadata": {},
   "source": [
    "## Answer: Question 3 (ii)\n",
    "> insert lowest first, as each append is the \"bottom\" or last leaf - which forces a comparison max amount of times on each bubble up.\n",
    "\n",
    "\n",
    "## Answer: Question 3 (iii)\n",
    "> thinking random, using the input list, randoming pick from the inbound list, assuming it's sorted ascending as described and it is NOT equential.\n",
    "\n"
   ]
  },
  {
   "cell_type": "code",
   "execution_count": 16,
   "metadata": {},
   "outputs": [
    {
     "data": {
      "text/plain": [
       "[(99, 99), (5, 5), (4, 4), (1, 1), (3, 3), (2, 2)]"
      ]
     },
     "execution_count": 16,
     "metadata": {},
     "output_type": "execute_result"
    }
   ],
   "source": [
    "import random\n",
    "newHeap = myMaxHeap()\n",
    "\n",
    "inbound_list = [1,2,3,4,5,99]\n",
    "\n",
    "random.shuffle(inbound_list)  #in place random shufflt\n",
    "\n",
    "for i in range(len(inbound_list)):\n",
    "    newHeap.heapInsert( (inbound_list[i], inbound_list[i]))\n",
    "    \n",
    "    \n",
    "newHeap.heap"
   ]
  },
  {
   "cell_type": "code",
   "execution_count": 17,
   "metadata": {},
   "outputs": [
    {
     "name": "stdout",
     "output_type": "stream",
     "text": [
      "time sequence: 10^2 : 480.0\n",
      "time sequence: 10^4 : 113631.0\n",
      "time sequence: 10^6 : 17951445.0\n",
      "time sequence random: 10^2 : 118.0\n",
      "time sequence random: 10^4 : 12763.0\n",
      "time sequence randome: 10^6 : 1281845.0\n"
     ]
    }
   ],
   "source": [
    "import random\n",
    "random.seed(42)\n",
    "\n",
    "def time_heap_compares(p, shuffle = False):\n",
    "    h = myMaxHeap()\n",
    "    l = range(pow(10,p))\n",
    "    if shuffle:\n",
    "        l2 = []\n",
    "        for i in l:\n",
    "            l2.append((i,i))\n",
    "            \n",
    "        random.shuffle(l2)\n",
    "            \n",
    "        l = l2\n",
    "    \n",
    "    for a in l:\n",
    "        h.heapInsert( (a,a))\n",
    "        \n",
    "    return h.K\n",
    "\n",
    "print('time sequence: 10^{} : {}'.format(2, time_heap_compares(2)))\n",
    "print('time sequence: 10^{} : {}'.format(4, time_heap_compares(4)))\n",
    "print('time sequence: 10^{} : {}'.format(6, time_heap_compares(6)))\n",
    "\n",
    "\n",
    "print('time sequence random: 10^{} : {}'.format(2, time_heap_compares(2, True)))\n",
    "print('time sequence random: 10^{} : {}'.format(4, time_heap_compares(4, True)))\n",
    "print('time sequence randome: 10^{} : {}'.format(6, time_heap_compares(6, True)))\n"
   ]
  },
  {
   "cell_type": "code",
   "execution_count": 18,
   "metadata": {},
   "outputs": [
    {
     "name": "stdout",
     "output_type": "stream",
     "text": [
      "0.7541666666666667\n",
      "0.8876802985100897\n",
      "0.928593770585042\n"
     ]
    }
   ],
   "source": [
    "#reduction in compares...\n",
    "print( (480-118)/480)\n",
    "print((113631 - 12763)/113631)\n",
    "print((17951445 - 1281845)/17951445)\n",
    "\n"
   ]
  },
  {
   "cell_type": "markdown",
   "metadata": {
    "colab_type": "text",
    "id": "SVvBSS47ElLP"
   },
   "source": [
    "### **Q4. Manual construction of a Huffman Tree**\n",
    "\n",
    "In Lecture 3 we discussed a specific example of how to build a Huffman prefix tree for a set of input numbers. Recall that the algorithm starts from different one-node trees and then keeps merging two trees until it is left with only one tree. In this exercise you are asked to use the Node class contained in lecture-3 notebook and build a tree following exactly the merges that we saw in the lecture. The final outcome should be a single variable of the *Node* class, that contains the entire tree. (Hint: The pseudocode in the lecture notes may be useful)\n",
    "\n",
    "\n"
   ]
  },
  {
   "cell_type": "code",
   "execution_count": 19,
   "metadata": {
    "colab": {},
    "colab_type": "code",
    "id": "WmJpG_qHDbM5"
   },
   "outputs": [
    {
     "name": "stdout",
     "output_type": "stream",
     "text": [
      "Node: 100  lchild: 45   rchild: 55\n",
      "Node: 45  lchild: -   rchild: -\n",
      "Node: 55  lchild: 25   rchild: 30\n",
      "Node: 25  lchild: 12   rchild: 13\n",
      "Node: 12  lchild: -   rchild: -\n",
      "Node: 13  lchild: -   rchild: -\n",
      "Node: 30  lchild: 14   rchild: 16\n",
      "Node: 14  lchild: 5   rchild: 9\n",
      "Node: 5  lchild: -   rchild: -\n",
      "Node: 9  lchild: -   rchild: -\n",
      "Node: 16  lchild: -   rchild: -\n"
     ]
    }
   ],
   "source": [
    "import heapq #this is a min heap implementation.\n",
    "\n",
    "\n",
    "class Node:\n",
    "    def __init__(self,key):\n",
    "        self.key = key\n",
    "        self.lchild = None\n",
    "        self.rchild = None\n",
    "    \n",
    "    # defining comparators less_than and equals\n",
    "    def __lt__(self, other):\n",
    "        return self.key < other.key\n",
    "\n",
    "    def __eq__(self, other):\n",
    "        if(other == None):\n",
    "            return False\n",
    "        if(not isinstance(other, Node)):\n",
    "            return False\n",
    "        return self.freq == other.freq\n",
    "    \n",
    "    \n",
    "F = [45, 13, 12, 16, 9, 5]\n",
    "    \n",
    "# create six different trees\n",
    "\n",
    "t_a = Node(45000)\n",
    "t_b = Node(13000)\n",
    "t_c = Node(12000)\n",
    "t_d = Node(16000)\n",
    "t_e = Node(9000)\n",
    "t_f = Node(5000)\n",
    "\n",
    "H = []\n",
    "\n",
    "for j in range(len(F)):\n",
    "    z = Node(F[j])\n",
    "    H.append(z)\n",
    "    \n",
    "\n",
    "heapq.heapify(H)\n",
    "\n",
    "\n",
    "\n",
    "# merge two trees (x5)\n",
    "\n",
    "for j in range(len(H) - 1):\n",
    "    x = heapq.heappop(H)\n",
    "    y = heapq.heappop(H)\n",
    "    z = Node(x.key + y.key)\n",
    "    z.lchild = x\n",
    "    z.rchild = y\n",
    "    heapq.heappush(H,z)\n",
    "\n",
    "\n",
    "    \n",
    "def print_nodes(n):\n",
    "    print('Node: {}  lchild: {}   rchild: {}'.format(n.key, \n",
    "                                                     n.lchild.key if n.lchild is not None else '-', \n",
    "                                                     n.rchild.key if n.rchild is not None else '-'))\n",
    "    if n.lchild is not None:\n",
    "        print_nodes(n.lchild)\n",
    "    if n.rchild is not None:\n",
    "        print_nodes(n.rchild)\n",
    "        \n",
    "\n",
    "    \n",
    "\n",
    "    \n",
    "print_nodes(H[0])"
   ]
  },
  {
   "cell_type": "markdown",
   "metadata": {},
   "source": [
    "# Scratch and supporting work\n",
    "\n",
    "\n",
    "## question 1\n",
    "Here I plot the various tasks, sorting by the starting time, vertex 0, of each **task**"
   ]
  },
  {
   "cell_type": "code",
   "execution_count": 20,
   "metadata": {},
   "outputs": [
    {
     "data": {
      "image/png": "[encoded data removed]",
      "text/plain": [
       "<Figure size 432x288 with 1 Axes>"
      ]
     },
     "metadata": {
      "needs_background": "light"
     },
     "output_type": "display_data"
    }
   ],
   "source": [
    "import matplotlib.pyplot as plt\n",
    "\n",
    "def to_xy(events):\n",
    "    x1, x2, y = [], [], []\n",
    "    for i, e in enumerate(sorted(events, key = lambda x: x[0])):\n",
    "        x1.append(e[0])\n",
    "        x2.append(e[1])\n",
    "        y.append(i)\n",
    "    return x1, x2, y\n",
    "\n",
    "def plot_events(x1, x2, y):\n",
    "    plt.hlines(y, xmin=x1, xmax=x2)\n",
    "    plt.yticks(range(max(y) + 1))\n",
    "    plt.xticks(range(max(x2) + 2))\n",
    "    plt.show()\n",
    "\n",
    "    \n",
    "tasks =  [(1, 4), (3, 5), (0, 6), (5, 7), (3, 8), (5, 9), (6, 10), (8, 11), (8, 12), (2, 13), (12, 14)]\n",
    "x1, x2, y = to_xy(tasks) #(A,B,C)\n",
    "plot_events(x1,x2, y)"
   ]
  },
  {
   "cell_type": "code",
   "execution_count": null,
   "metadata": {},
   "outputs": [],
   "source": []
  }
 ],
 "metadata": {
  "colab": {
   "authorship_tag": "ABX9TyOL0SMnxho/1+k+Mi6SqexL",
   "collapsed_sections": [],
   "name": "Assignment-3.ipynb",
   "provenance": [
    {
     "file_id": "1FMjt0_-2PbYGxgaeOBvWJ8l2l2zlHd_m",
     "timestamp": 1591462638135
    },
    {
     "file_id": "1Ya8ehouTMbWIRYQ2-Vv5WX8Q6d09hIVn",
     "timestamp": 1590948359045
    }
   ]
  },
  "kernelspec": {
   "display_name": "Python 3",
   "language": "python",
   "name": "python3"
  },
  "language_info": {
   "codemirror_mode": {
    "name": "ipython",
    "version": 3
   },
   "file_extension": ".py",
   "mimetype": "text/x-python",
   "name": "python",
   "nbconvert_exporter": "python",
   "pygments_lexer": "ipython3",
   "version": "3.7.6"
  }
 },
 "nbformat": 4,
 "nbformat_minor": 4
}
