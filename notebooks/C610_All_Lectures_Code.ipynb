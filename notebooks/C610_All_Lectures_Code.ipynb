{
 "cells": [
  {
   "cell_type": "markdown",
   "metadata": {
    "colab_type": "text",
    "id": "-_VXMf617Hex"
   },
   "source": [
    "# **Lecture 1: Basic algorithms and runtime analysis**\n",
    "\n"
   ]
  },
  {
   "cell_type": "markdown",
   "metadata": {
    "colab_type": "text",
    "id": "43diWUqU3BVf"
   },
   "source": [
    "### **Algorithms for computing the power function (mod p)**"
   ]
  },
  {
   "cell_type": "code",
   "execution_count": null,
   "metadata": {
    "colab": {},
    "colab_type": "code",
    "id": "H2W-Jwu9_Yhk"
   },
   "outputs": [],
   "source": [
    "# x**k mod p: Simple iterative computation\n",
    "\n",
    "\n",
    "def myPower(x,k,p):         \n",
    "\n",
    "  y = 1                      \n",
    "  for i in range(k+1):         \n",
    "    y = y*x % p              \n",
    "  return y               # running time O(k)\n",
    "\n",
    "\n",
    "# x**k mod p: Simple recursive computation\n",
    "#  x^k = x* x^(k-1)\n",
    "\n",
    "def myPowerRec(x,k,p):         \n",
    "  if k==1:\n",
    "    return x % p                 \n",
    "  z = myPowerRec(x,k-1,p)       \n",
    "  y = x*z % p                      \n",
    "  return y               # running time O(k)\n",
    "\n",
    "# x**k mod p: Smart recursive computation\n",
    "# x^k = x^(k/2)*x^(k/2)    if k is even\n",
    "# x^k = x^(k/2)*x^(k/2)*x  if k is odd\n",
    "\n",
    "def myPowerSmart(x,k,p):        \n",
    "  if k==1:\n",
    "    return x % p                 \n",
    "  r = k % 2                      \n",
    "  k = k // 2   \n",
    "  z = myPowerSmart(x,k,p)       \n",
    "  if r == 0:                     \n",
    "    y = z*z  % p                 \n",
    "  else:               \n",
    "    y = z*z*x   % p              \n",
    "  return y              # running time O(log k)\n",
    "\n",
    "##"
   ]
  },
  {
   "cell_type": "markdown",
   "metadata": {
    "colab_type": "text",
    "id": "9jSF_mNzsPlO"
   },
   "source": [
    "### **Algorithms for searching in a list**"
   ]
  },
  {
   "cell_type": "code",
   "execution_count": null,
   "metadata": {
    "colab": {},
    "colab_type": "code",
    "id": "6GQHKJLHsdE5"
   },
   "outputs": [],
   "source": [
    "# search for number x in list L\n",
    "def linearSearch(L,x):\n",
    "  n = len(L)\n",
    "  for i in range(n):\n",
    "    if L[i]==x:\n",
    "      return True\n",
    "  return False          # running time O(n)\n",
    "\n",
    " # search for x in sorted list L[l:u]\n",
    "def binarySearch(L,x,l,u):\n",
    "  if l==u:\n",
    "    if L[u]==x:\n",
    "      return True\n",
    "    else:\n",
    "      return False\n",
    "\n",
    "  # this code executes only if u>l\n",
    "  mid = l+u // 2\n",
    "  if x>A[mid]:\n",
    "    return binarySearch(L,x,mid,u)\n",
    "  else: \n",
    "    return binarySearch(L,x,l,mid)   #running time O(log n)\n",
    " \n"
   ]
  },
  {
   "cell_type": "markdown",
   "metadata": {
    "colab_type": "text",
    "id": "BE0L1e1Fz1Kb"
   },
   "source": [
    "### **Algorithms for sorting** "
   ]
  },
  {
   "cell_type": "code",
   "execution_count": null,
   "metadata": {
    "colab": {},
    "colab_type": "code",
    "id": "S2LgjCwtyHnp"
   },
   "outputs": [],
   "source": [
    "# We start with a sorting idea that likely children attemp:\n",
    "# find min and set it aside\n",
    "# This is known as selection sort\n",
    "\n",
    "# find min in list L, and its positions\n",
    "def findMin(L):\n",
    "  n = len(L)\n",
    "  M = L[0]\n",
    "  i_M = 0\n",
    "  for i in range(n):\n",
    "    if L[i] < M:      # larger element found\n",
    "      M = L[i]\n",
    "      i_M = i         # update max index\n",
    "  return M, i_M       # running time O(n)\n",
    "\n",
    "def selectionSort(A):\n",
    "  B = []              # initialize empty list\n",
    "  for i in range(n):\n",
    "    M, i_M = findMax(L)\n",
    "    del L[i_M]        # remove element in position i_M\n",
    "    append.B(M)\n",
    "  return B            # running time O(n^2), assuming del is O(1)\n",
    "      \n",
    "    \n"
   ]
  },
  {
   "cell_type": "code",
   "execution_count": null,
   "metadata": {
    "colab": {},
    "colab_type": "code",
    "id": "dY4NUHa5RDIh"
   },
   "outputs": [],
   "source": [
    "# algorithm for merging two lists \n",
    "def merge(A,B):\n",
    "  C = []\n",
    "  while len(A)>0 and len(B)>0:\n",
    "    if A[0] < B[0]:\n",
    "      x = A.pop(0)\n",
    "      C.append(x)\n",
    "    else:\n",
    "      x = B.pop(0)  \n",
    "      C.append(x)\n",
    "  if len(A)>0:\n",
    "    C.extend(A)   # append list A to the end of list C\n",
    "  else:\n",
    "    C.extend(B)\n",
    "  return C        # running time O(len(A)+len(B)) \n",
    "\n",
    "  #  merge sort: what an elegant function!\n",
    "  def mergeSort(L):\n",
    "    n = len(L)\n",
    "    if n==1:\n",
    "      return L\n",
    "    else:\n",
    "      A = mergeSort(L[0:(n//2)])\n",
    "      B = mergesort(L[(n//2):n])\n",
    "      C = merge(A,B)\n",
    "      return C      # running time O(nlog n): huge savings over selection sort!\n"
   ]
  },
  {
   "cell_type": "markdown",
   "metadata": {
    "colab_type": "text",
    "id": "6-w6JdXpymm5"
   },
   "source": [
    "# Lecture 2: Arrays and Min/Max Heap"
   ]
  },
  {
   "cell_type": "markdown",
   "metadata": {
    "colab_type": "text",
    "id": "gWtNntjZJJxO"
   },
   "source": [
    "### **Measuring actual clock running time**"
   ]
  },
  {
   "cell_type": "code",
   "execution_count": null,
   "metadata": {
    "colab": {},
    "colab_type": "code",
    "id": "EomoDwoyZflX"
   },
   "outputs": [],
   "source": [
    "# You can use this code to measure the actual running time of a piece of code\n",
    "\n",
    "from time import time as tm\n",
    "\n",
    "start_time = tm()\n",
    "# your code here\n",
    "print(\"--- %s seconds ---\" % (tm() - start_time))"
   ]
  }
 ],
 "metadata": {
  "colab": {
   "collapsed_sections": [],
   "name": "C610-All-Lectures-Code.ipynb",
   "provenance": []
  },
  "kernelspec": {
   "display_name": "Python 3",
   "language": "python",
   "name": "python3"
  },
  "language_info": {
   "codemirror_mode": {
    "name": "ipython",
    "version": 3
   },
   "file_extension": ".py",
   "mimetype": "text/x-python",
   "name": "python",
   "nbconvert_exporter": "python",
   "pygments_lexer": "ipython3",
   "version": "3.7.6"
  }
 },
 "nbformat": 4,
 "nbformat_minor": 4
}
