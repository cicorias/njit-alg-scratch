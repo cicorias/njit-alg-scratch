{
 "cells": [
  {
   "cell_type": "markdown",
   "metadata": {},
   "source": [
    "\n",
    "Write a function CoordinateToNumber(i,j,m,n) that takes a coordinate (i,j) and maps it to a unique number t in `[0,mn − 1]`, which is then returned by the function.\n",
    "\n",
    "Write a function NumberToCoordinate(t,m,n) that takes a number t and returns the corresponding coordinate. This function must be the inverse of CoordinateToNumber. That is, for all i,j,m,n we must have\n",
    "\n",
    "```\n",
    "NumberToCoordinate(CoordinateToNumber(i,j,m,n),m,n) = (i,j)\n",
    "```\n",
    "\n",
    "The two steps above mean that besides its coordinates, each cell has its own unique identity number in `[0,mn − 1]`\n",
    "\n",
    "\n",
    "Write a function Distance(t1,t2), where t1 and t2 are the identity numbers of two cells, and the output is the distance between them. The distance is the minimum number of connected cells that one has to traverse to go from t1 to t2. (Hint: Use function NumberToCoordinate for this)"
   ]
  },
  {
   "cell_type": "code",
   "execution_count": 27,
   "metadata": {},
   "outputs": [
    {
     "data": {
      "text/plain": [
       "[[1, 1],\n",
       " [1, 2],\n",
       " [1, 6],\n",
       " [2, 6],\n",
       " [3, 3],\n",
       " [3, 4],\n",
       " [3, 6],\n",
       " [4, 3],\n",
       " [5, 3],\n",
       " [6, 3],\n",
       " [6, 4],\n",
       " [7, 2],\n",
       " [8, 2],\n",
       " [8, 7],\n",
       " [8, 8],\n",
       " [8, 9],\n",
       " [9, 2]]"
      ]
     },
     "execution_count": 27,
     "metadata": {},
     "output_type": "execute_result"
    }
   ],
   "source": [
    "\n",
    "\n",
    "file_name = './shawn-cicoria.txt'\n",
    "\n",
    "\n",
    "contents = ''\n",
    "\n",
    "m = 10\n",
    "n = 10\n",
    "\n",
    "\n",
    "def load_file(file_name):\n",
    "    rv = []\n",
    "    with open(file_name) as f:\n",
    "        line = list(f.readline().strip())\n",
    "        while line:\n",
    "            rv.append(line)\n",
    "            line = list(f.readline().strip())\n",
    "    \n",
    "    return rv\n",
    "    \n",
    "\n",
    "def get_land_points(data,m,n):\n",
    "    rv = []\n",
    "    for r, i in enumerate(range(n)):\n",
    "        for c, j in enumerate(range(m)):\n",
    "            if data[i][j] == '1':\n",
    "                rv.append([i,j])\n",
    "            \n",
    "            \n",
    "    return rv\n",
    "\n",
    "def coordinate_to_number(i,j,m,n):\n",
    "    pass\n",
    "\n",
    "def number_to_coordinate(t,m,n):\n",
    "    pass\n",
    "\n",
    "\n",
    "contents = load_file(file_name)\n",
    "get_land_points(contents, m, n)"
   ]
  },
  {
   "cell_type": "code",
   "execution_count": 28,
   "metadata": {},
   "outputs": [
    {
     "data": {
      "text/plain": [
       "[['0', '0', '0', '0', '0', '0', '0', '0', '0', '0'],\n",
       " ['0', '1', '1', '0', '0', '0', '1', '0', '0', '0'],\n",
       " ['0', '0', '0', '0', '0', '0', '1', '0', '0', '0'],\n",
       " ['0', '0', '0', '1', '1', '0', '1', '0', '0', '0'],\n",
       " ['0', '0', '0', '1', '0', '0', '0', '0', '0', '0'],\n",
       " ['0', '0', '0', '1', '0', '0', '0', '0', '0', '0'],\n",
       " ['0', '0', '0', '1', '1', '0', '0', '0', '0', '0'],\n",
       " ['0', '0', '1', '0', '0', '0', '0', '0', '0', '0'],\n",
       " ['0', '0', '1', '0', '0', '0', '0', '1', '1', '1'],\n",
       " ['0', '0', '1', '0', '0', '0', '0', '0', '0', '0']]"
      ]
     },
     "execution_count": 28,
     "metadata": {},
     "output_type": "execute_result"
    }
   ],
   "source": [
    "contents"
   ]
  },
  {
   "cell_type": "code",
   "execution_count": null,
   "metadata": {},
   "outputs": [],
   "source": []
  }
 ],
 "metadata": {
  "kernelspec": {
   "display_name": "Python 3",
   "language": "python",
   "name": "python3"
  },
  "language_info": {
   "codemirror_mode": {
    "name": "ipython",
    "version": 3
   },
   "file_extension": ".py",
   "mimetype": "text/x-python",
   "name": "python",
   "nbconvert_exporter": "python",
   "pygments_lexer": "ipython3",
   "version": "3.7.5"
  }
 },
 "nbformat": 4,
 "nbformat_minor": 4
}
