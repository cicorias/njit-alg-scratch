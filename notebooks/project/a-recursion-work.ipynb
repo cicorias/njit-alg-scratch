{
 "cells": [
  {
   "cell_type": "code",
   "execution_count": 1,
   "metadata": {},
   "outputs": [
    {
     "data": {
      "text/plain": [
       "[['0', '0', '0', '0', '0', '0', '0', '0', '0', '0'],\n",
       " ['0', '1', '1', '0', '0', '0', '1', '0', '0', '0'],\n",
       " ['0', '0', '0', '0', '0', '0', '1', '0', '0', '0'],\n",
       " ['0', '0', '0', '1', '1', '0', '1', '0', '0', '0'],\n",
       " ['0', '0', '0', '1', '0', '0', '0', '0', '0', '0'],\n",
       " ['0', '0', '0', '1', '0', '0', '0', '0', '0', '0'],\n",
       " ['0', '0', '0', '1', '1', '0', '0', '0', '0', '0'],\n",
       " ['0', '0', '1', '0', '0', '0', '0', '0', '0', '0'],\n",
       " ['0', '0', '1', '0', '0', '0', '0', '1', '1', '1'],\n",
       " ['0', '0', '1', '0', '0', '0', '0', '0', '0', '0']]"
      ]
     },
     "execution_count": 1,
     "metadata": {},
     "output_type": "execute_result"
    }
   ],
   "source": [
    "import m1\n",
    "\n",
    "p = m1.IslandProject(10,10)\n",
    "\n",
    "p.load_file('shawn-cicoria.txt')\n"
   ]
  },
  {
   "cell_type": "code",
   "execution_count": 2,
   "metadata": {},
   "outputs": [
    {
     "name": "stdout",
     "output_type": "stream",
     "text": [
      "[34, 43]\n",
      "[(3, 4), (4, 3)]\n"
     ]
    }
   ],
   "source": [
    "\n",
    "# 7,2\n",
    "\n",
    "x, y = p.generate_neighbors(3, 3) # one to left, one to bottom\n",
    "print(x)\n",
    "print(y)"
   ]
  },
  {
   "cell_type": "code",
   "execution_count": 3,
   "metadata": {},
   "outputs": [
    {
     "name": "stdout",
     "output_type": "stream",
     "text": [
      "[64, 53]\n",
      "[(6, 4), (5, 3)]\n"
     ]
    }
   ],
   "source": [
    "x, y = p.generate_neighbors(6,3) # top and right\n",
    "print(x)\n",
    "print(y)"
   ]
  },
  {
   "cell_type": "code",
   "execution_count": 4,
   "metadata": {},
   "outputs": [
    {
     "name": "stdout",
     "output_type": "stream",
     "text": [
      "[34, 43]\n",
      "[(3, 4), (4, 3)]\n"
     ]
    }
   ],
   "source": [
    "x, y = p.generate_neighbors(3,3)\n",
    "print(x)\n",
    "print(y)"
   ]
  },
  {
   "cell_type": "code",
   "execution_count": 10,
   "metadata": {},
   "outputs": [
    {
     "name": "stdout",
     "output_type": "stream",
     "text": [
      "inbound t1: 33\n",
      "t1 to get neighbors: 33\n",
      "z: [34, 43]\n",
      "f_all: 34\n",
      "inbound t1: 34\n",
      "t1 to get neighbors: 34\n",
      "z: [33]\n",
      "f_all: 33\n",
      "inbound t1: 33\n",
      " t1 already done: 33\n",
      "f_all: 43\n",
      "inbound t1: 43\n",
      "t1 to get neighbors: 43\n",
      "z: [33, 53]\n",
      "f_all: 33\n",
      "inbound t1: 33\n",
      " t1 already done: 33\n",
      "f_all: 53\n",
      "inbound t1: 53\n",
      "t1 to get neighbors: 53\n",
      "z: [43, 63]\n",
      "f_all: 43\n",
      "inbound t1: 43\n",
      " t1 already done: 43\n",
      "f_all: 63\n",
      "inbound t1: 63\n",
      "t1 to get neighbors: 63\n",
      "z: [64, 53]\n",
      "f_all: 64\n",
      "inbound t1: 64\n",
      "t1 to get neighbors: 64\n",
      "z: [63]\n",
      "f_all: 63\n",
      "inbound t1: 63\n",
      " t1 already done: 63\n",
      "f_all: 53\n",
      "inbound t1: 53\n",
      " t1 already done: 53\n"
     ]
    },
    {
     "data": {
      "text/plain": [
       "[33, 34, 43, 53, 63, 64]"
      ]
     },
     "execution_count": 10,
     "metadata": {},
     "output_type": "execute_result"
    }
   ],
   "source": [
    "\n",
    "\n",
    "def foo(t1, data):\n",
    "    print('inbound t1: {}'.format(t1))\n",
    "    if t1 not in data:\n",
    "        data.append(t1)\n",
    "        print('t1 to get neighbors: {}'.format(t1))\n",
    "        z = p.generate_neighbors_from_t(t1)\n",
    "        print('z: {}'.format(z))\n",
    "        for f in z:\n",
    "            print('f_all: {}'.format(f))\n",
    "            data = foo(f, data)\n",
    "    else:\n",
    "        print(' t1 already done: {}'.format(t1))\n",
    "    return data\n",
    "        \n",
    "\n",
    "t1 = p.coordinate_to_number(3, 3)\n",
    "data = []\n",
    "foo(t1, data)"
   ]
  },
  {
   "cell_type": "code",
   "execution_count": 11,
   "metadata": {},
   "outputs": [
    {
     "name": "stdout",
     "output_type": "stream",
     "text": [
      "inbound t1: 72\n",
      "t1 to get neighbors: 72\n",
      "z: [82]\n",
      "f_all: 82\n",
      "inbound t1: 82\n",
      "t1 to get neighbors: 82\n",
      "z: [72, 92]\n",
      "f_all: 72\n",
      "inbound t1: 72\n",
      " t1 already done: 72\n",
      "f_all: 92\n",
      "inbound t1: 92\n",
      "t1 to get neighbors: 92\n",
      "z: [82]\n",
      "f_all: 82\n",
      "inbound t1: 82\n",
      " t1 already done: 82\n"
     ]
    },
    {
     "data": {
      "text/plain": [
       "[72, 82, 92]"
      ]
     },
     "execution_count": 11,
     "metadata": {},
     "output_type": "execute_result"
    }
   ],
   "source": [
    "t1 = p.coordinate_to_number(7, 2)\n",
    "data = []\n",
    "foo(t1, data)"
   ]
  },
  {
   "cell_type": "code",
   "execution_count": null,
   "metadata": {},
   "outputs": [],
   "source": []
  }
 ],
 "metadata": {
  "kernelspec": {
   "display_name": "Python 3",
   "language": "python",
   "name": "python3"
  },
  "language_info": {
   "codemirror_mode": {
    "name": "ipython",
    "version": 3
   },
   "file_extension": ".py",
   "mimetype": "text/x-python",
   "name": "python",
   "nbconvert_exporter": "python",
   "pygments_lexer": "ipython3",
   "version": "3.7.6"
  }
 },
 "nbformat": 4,
 "nbformat_minor": 4
}
